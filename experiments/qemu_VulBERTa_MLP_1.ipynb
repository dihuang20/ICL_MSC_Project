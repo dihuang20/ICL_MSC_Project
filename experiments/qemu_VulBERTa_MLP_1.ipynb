{
 "cells": [
  {
   "cell_type": "code",
   "execution_count": 1,
   "metadata": {},
   "outputs": [],
   "source": [
    "# References:\n",
    "# This source code file refers to:\n",
    "# https://github.com/ICL-ml4csec/VulBERTa\n",
    "# https://towardsdatascience.com/text-classification-with-bert-in-pytorch-887965e5820f\n"
   ]
  },
  {
   "cell_type": "code",
   "execution_count": null,
   "metadata": {},
   "outputs": [],
   "source": [
    "ONLY_TEST = True\n",
    "DATASET_NAME = 'qemu'\n",
    "COMMIT_PATCH_PROCESSING_MODE = 1\n"
   ]
  },
  {
   "cell_type": "markdown",
   "metadata": {},
   "source": [
    "## Pre-requisites stuff"
   ]
  },
  {
   "cell_type": "code",
   "execution_count": 2,
   "metadata": {},
   "outputs": [
    {
     "name": "stdout",
     "output_type": "stream",
     "text": [
      "cuda\n"
     ]
    }
   ],
   "source": [
    "# --- di\n",
    "import os\n",
    "os.environ['CUDA_LAUNCH_BLOCKING'] = \"1\"\n",
    "from tqdm import tqdm\n",
    "import sys\n",
    "# --- di\n",
    "\n",
    "import pandas as pd\n",
    "import numpy as np\n",
    "import csv\n",
    "import pickle\n",
    "import re\n",
    "import torch\n",
    "import sklearn\n",
    "import os\n",
    "import random\n",
    "import custom\n",
    "import models\n",
    "import clang\n",
    "from clang import *\n",
    "from clang import cindex\n",
    "from pathlib import Path\n",
    "from tokenizers import ByteLevelBPETokenizer\n",
    "from tokenizers.implementations import ByteLevelBPETokenizer\n",
    "from tokenizers.processors import BertProcessing\n",
    "from torch.utils.data import Dataset, DataLoader, IterableDataset\n",
    "from transformers import RobertaConfig\n",
    "from transformers import RobertaForMaskedLM, RobertaForSequenceClassification\n",
    "from transformers import RobertaTokenizerFast\n",
    "from transformers import DataCollatorForLanguageModeling\n",
    "from transformers import Trainer, TrainingArguments\n",
    "from transformers import LineByLineTextDataset\n",
    "from transformers.modeling_outputs import SequenceClassifierOutput\n",
    "from custom import CustomDataCollatorForLanguageModeling\n",
    "\n",
    "## Set default device (GPU or CPU)\n",
    "\n",
    "device = torch.device(\"cuda\" if torch.cuda.is_available() else \"cpu\")\n",
    "print(device)\n",
    "\n",
    "## Deterministic/reproducible flags\n",
    "\n",
    "seedlist = [42, 834, 692, 489, 901, 408, 819, 808, 531, 166]\n",
    "\n",
    "seed = seedlist[0]\n",
    "os.environ['PYTHONHASHSEED'] = str(seed)\n",
    "torch.manual_seed(seed)\n",
    "torch.cuda.manual_seed(seed)\n",
    "torch.cuda.manual_seed_all(seed)\n",
    "np.random.seed(seed)\n",
    "random.seed(seed)\n",
    "torch.backends.cudnn.enabled = True\n",
    "torch.backends.cudnn.deterministic = True\n",
    "torch.backends.cudnn.benchmark = False\n",
    "\n",
    "## Weights and Biases flags\n",
    "\n",
    "os.environ['WANDB_DISABLED'] = 'true'\n",
    "os.environ['WANDB_MODE'] = 'dryrun'\n",
    "# os.environ[\"CUDA_VISIBLE_DEVICES\"]=\"\"\n",
    "#os.environ['WANDB_NOTEBOOK_NAME'] = 'Pretrain word-level VulBERTa on Draper'\n",
    "#os.environ['WANDB_NAME'] = 'linux'\n",
    "#os.environ['WANDB_PROJECT'] = 'projectName'\n",
    "\n",
    "## Tokenizer\n",
    "\n",
    "from tokenizers.pre_tokenizers import PreTokenizer\n",
    "from tokenizers.pre_tokenizers import Whitespace\n",
    "from tokenizers import NormalizedString,PreTokenizedString\n",
    "from typing import List \n",
    "\n",
    "class MyTokenizer:\n",
    "    \n",
    "    cidx = cindex.Index.create()\n",
    "        \n",
    "\n",
    "    def clang_split(self, i: int, normalized_string: NormalizedString) -> List[NormalizedString]:\n",
    "        ## Tokkenize using clang\n",
    "        tok = []\n",
    "        tu = self.cidx.parse('tmp.c',\n",
    "                       args=[''],  \n",
    "                       unsaved_files=[('tmp.c', str(normalized_string.original))],  \n",
    "                       options=0)\n",
    "        for t in tu.get_tokens(extent=tu.cursor.extent):\n",
    "            spelling = t.spelling.strip()\n",
    "            \n",
    "            if spelling == '':\n",
    "                continue\n",
    "                \n",
    "            ## Keyword no need\n",
    "\n",
    "            ## Punctuations no need\n",
    "\n",
    "            ## Literal all to BPE\n",
    "            \n",
    "            #spelling = spelling.replace(' ', '')\n",
    "            tok.append(NormalizedString(spelling))\n",
    "\n",
    "        return(tok)\n",
    "    \n",
    "    def pre_tokenize(self, pretok: PreTokenizedString):\n",
    "        pretok.split(self.clang_split)\n",
    "        \n",
    "## Custom tokenizer\n",
    "\n",
    "from tokenizers import Tokenizer\n",
    "from tokenizers import normalizers,decoders\n",
    "from tokenizers.normalizers import StripAccents, unicode_normalizer_from_str, Replace\n",
    "from tokenizers.processors import TemplateProcessing\n",
    "from tokenizers import processors,pre_tokenizers\n",
    "from tokenizers.models import BPE\n",
    "\n",
    "## Load pre-trained tokenizers\n",
    "vocab, merges = BPE.read_file(vocab=\"./tokenizer/drapgh-vocab.json\", merges=\"./tokenizer/drapgh-merges.txt\")\n",
    "my_tokenizer = Tokenizer(BPE(vocab, merges, unk_token=\"<unk>\"))\n",
    "\n",
    "my_tokenizer.normalizer = normalizers.Sequence([StripAccents(), Replace(\" \", \"Ä\")])\n",
    "my_tokenizer.pre_tokenizer = PreTokenizer.custom(MyTokenizer())\n",
    "my_tokenizer.post_processor = processors.ByteLevel(trim_offsets=False)\n",
    "my_tokenizer.post_processor = TemplateProcessing(\n",
    "    single=\"<s> $A </s>\",\n",
    "    special_tokens=[\n",
    "    (\"<s>\",0),\n",
    "    (\"<pad>\",1),\n",
    "    (\"</s>\",2),\n",
    "    (\"<unk>\",3),\n",
    "    (\"<mask>\",4)\n",
    "    ]\n",
    ")\n"
   ]
  },
  {
   "cell_type": "markdown",
   "metadata": {
    "tags": []
   },
   "source": [
    "## Dataset"
   ]
  },
  {
   "cell_type": "code",
   "execution_count": 3,
   "metadata": {},
   "outputs": [],
   "source": [
    "my_tokenizer.enable_truncation(max_length=1024)\n",
    "my_tokenizer.enable_padding(direction='right', pad_id=1, pad_type_id=0, pad_token='<pad>', length=None, pad_to_multiple_of=None)\n",
    "\n",
    "def process_encodings(encodings):\n",
    "    input_ids=[]\n",
    "    attention_mask=[]\n",
    "    for enc in encodings:\n",
    "        input_ids.append(enc.ids)\n",
    "        attention_mask.append(enc.attention_mask)\n",
    "    return {'input_ids':input_ids, 'attention_mask':attention_mask}\n",
    "\n",
    "commit_patch_train_path = f'/root/autodl-tmp/output_dataset_{COMMIT_PATCH_PROCESSING_MODE}/{DATASET_NAME}/train.json'\n",
    "commit_patch_val_path = f'/root/autodl-tmp/output_dataset_{COMMIT_PATCH_PROCESSING_MODE}/{DATASET_NAME}/val.json'\n",
    "\n",
    "if ONLY_TEST:\n",
    "    m2 = pd.read_json(commit_patch_val_path)\n",
    "\n",
    "    val_encodings = my_tokenizer.encode_batch(m2.commit_patch)\n",
    "    val_encodings = process_encodings(val_encodings)\n",
    "else:\n",
    "    m1 = pd.read_json(commit_patch_train_path)\n",
    "    m2 = pd.read_json(commit_patch_val_path)\n",
    "\n",
    "    train_encodings = my_tokenizer.encode_batch(m1.commit_patch)\n",
    "    train_encodings = process_encodings(train_encodings)\n",
    "\n",
    "    val_encodings = my_tokenizer.encode_batch(m2.commit_patch)\n",
    "    val_encodings = process_encodings(val_encodings)\n",
    "\n",
    "class MyCustomDataset(Dataset):\n",
    "    def __init__(self, encodings, labels):\n",
    "        self.encodings = encodings\n",
    "        self.labels = labels\n",
    "        assert len(self.encodings['input_ids']) == len(self.encodings['attention_mask']) ==  len(self.labels)\n",
    "\n",
    "    def __getitem__(self, idx):\n",
    "        item = {key: torch.tensor(val[idx]) for key, val in self.encodings.items()}\n",
    "        item['labels'] = torch.tensor(self.labels[idx])\n",
    "        return item\n",
    "\n",
    "    def __len__(self):\n",
    "        return len(self.labels)\n",
    "\n",
    "if ONLY_TEST:\n",
    "    val_dataset = MyCustomDataset(val_encodings, m2.label.tolist())\n",
    "else:\n",
    "    train_dataset = MyCustomDataset(train_encodings, m1.label.tolist())\n",
    "    val_dataset = MyCustomDataset(val_encodings, m2.label.tolist())\n",
    "    train_labels = m1.label.tolist()\n"
   ]
  },
  {
   "cell_type": "markdown",
   "metadata": {},
   "source": [
    "## Train the model"
   ]
  },
  {
   "cell_type": "code",
   "execution_count": 4,
   "metadata": {
    "tags": []
   },
   "outputs": [
    {
     "name": "stderr",
     "output_type": "stream",
     "text": [
      "Some weights of the model checkpoint at /root/autodl-tmp/VulBERTa/ were not used when initializing RobertaForSequenceClassification: ['lm_head.bias', 'lm_head.dense.weight', 'lm_head.dense.bias', 'lm_head.layer_norm.weight', 'lm_head.layer_norm.bias', 'lm_head.decoder.weight', 'lm_head.decoder.bias']\n",
      "- This IS expected if you are initializing RobertaForSequenceClassification from the checkpoint of a model trained on another task or with another architecture (e.g. initializing a BertForSequenceClassification model from a BertForPreTraining model).\n",
      "- This IS NOT expected if you are initializing RobertaForSequenceClassification from the checkpoint of a model that you expect to be exactly identical (initializing a BertForSequenceClassification model from a BertForSequenceClassification model).\n",
      "Some weights of RobertaForSequenceClassification were not initialized from the model checkpoint at /root/autodl-tmp/VulBERTa/ and are newly initialized: ['classifier.dense.weight', 'classifier.dense.bias', 'classifier.out_proj.weight', 'classifier.out_proj.bias']\n",
      "You should probably TRAIN this model on a down-stream task to be able to use it for predictions and inference.\n"
     ]
    },
    {
     "name": "stdout",
     "output_type": "stream",
     "text": [
      "124836866\n"
     ]
    },
    {
     "name": "stderr",
     "output_type": "stream",
     "text": [
      "Using the `WAND_DISABLED` environment variable is deprecated and will be removed in v5. Use the --report_to flag to control the integrations used for logging result (for instance --report_to none).\n"
     ]
    },
    {
     "data": {
      "text/html": [
       "\n",
       "    <div>\n",
       "        <style>\n",
       "            /* Turns off some styling */\n",
       "            progress {\n",
       "                /* gets rid of default border in Firefox and Opera. */\n",
       "                border: none;\n",
       "                /* Needs to be in here for Safari polyfill so background images work as expected. */\n",
       "                background-size: auto;\n",
       "            }\n",
       "        </style>\n",
       "      \n",
       "      <progress value='22270' max='22270' style='width:300px; height:20px; vertical-align: middle;'></progress>\n",
       "      [22270/22270 1:50:04, Epoch 10/10]\n",
       "    </div>\n",
       "    <table border=\"1\" class=\"dataframe\">\n",
       "  <thead>\n",
       "    <tr style=\"text-align: left;\">\n",
       "      <th>Epoch</th>\n",
       "      <th>Training Loss</th>\n",
       "      <th>Validation Loss</th>\n",
       "      <th>Runtime</th>\n",
       "      <th>Samples Per Second</th>\n",
       "    </tr>\n",
       "  </thead>\n",
       "  <tbody>\n",
       "    <tr>\n",
       "      <td>1</td>\n",
       "      <td>0.661700</td>\n",
       "      <td>0.667742</td>\n",
       "      <td>48.548000</td>\n",
       "      <td>61.156000</td>\n",
       "    </tr>\n",
       "    <tr>\n",
       "      <td>2</td>\n",
       "      <td>0.632000</td>\n",
       "      <td>0.650779</td>\n",
       "      <td>48.551300</td>\n",
       "      <td>61.152000</td>\n",
       "    </tr>\n",
       "    <tr>\n",
       "      <td>3</td>\n",
       "      <td>0.594800</td>\n",
       "      <td>0.734843</td>\n",
       "      <td>48.525100</td>\n",
       "      <td>61.185000</td>\n",
       "    </tr>\n",
       "    <tr>\n",
       "      <td>4</td>\n",
       "      <td>0.524600</td>\n",
       "      <td>0.928336</td>\n",
       "      <td>48.583600</td>\n",
       "      <td>61.111000</td>\n",
       "    </tr>\n",
       "    <tr>\n",
       "      <td>5</td>\n",
       "      <td>0.468200</td>\n",
       "      <td>1.603874</td>\n",
       "      <td>48.462800</td>\n",
       "      <td>61.263000</td>\n",
       "    </tr>\n",
       "    <tr>\n",
       "      <td>6</td>\n",
       "      <td>0.456500</td>\n",
       "      <td>1.977533</td>\n",
       "      <td>48.603300</td>\n",
       "      <td>61.086000</td>\n",
       "    </tr>\n",
       "    <tr>\n",
       "      <td>7</td>\n",
       "      <td>0.374000</td>\n",
       "      <td>2.224256</td>\n",
       "      <td>48.561000</td>\n",
       "      <td>61.140000</td>\n",
       "    </tr>\n",
       "    <tr>\n",
       "      <td>8</td>\n",
       "      <td>0.231800</td>\n",
       "      <td>2.512748</td>\n",
       "      <td>48.594400</td>\n",
       "      <td>61.098000</td>\n",
       "    </tr>\n",
       "    <tr>\n",
       "      <td>9</td>\n",
       "      <td>0.204500</td>\n",
       "      <td>2.720431</td>\n",
       "      <td>48.573800</td>\n",
       "      <td>61.123000</td>\n",
       "    </tr>\n",
       "    <tr>\n",
       "      <td>10</td>\n",
       "      <td>0.126400</td>\n",
       "      <td>2.814312</td>\n",
       "      <td>49.023600</td>\n",
       "      <td>60.563000</td>\n",
       "    </tr>\n",
       "  </tbody>\n",
       "</table><p>"
      ],
      "text/plain": [
       "<IPython.core.display.HTML object>"
      ]
     },
     "metadata": {},
     "output_type": "display_data"
    },
    {
     "data": {
      "text/plain": [
       "TrainOutput(global_step=22270, training_loss=0.42043715015783084, metrics={'train_runtime': 6604.6626, 'train_samples_per_second': 3.372, 'total_flos': 6.830881558093824e+16, 'epoch': 10.0, 'init_mem_cpu_alloc_delta': 278380, 'init_mem_gpu_alloc_delta': 499356672, 'init_mem_cpu_peaked_delta': 18258, 'init_mem_gpu_peaked_delta': 0, 'train_mem_cpu_alloc_delta': 1581351, 'train_mem_gpu_alloc_delta': 2028382208, 'train_mem_cpu_peaked_delta': 307561415, 'train_mem_gpu_peaked_delta': 8577718784})"
      ]
     },
     "execution_count": 4,
     "metadata": {},
     "output_type": "execute_result"
    }
   ],
   "source": [
    "## Pre-trained RoBERTa\n",
    "pretrained_model_path = '/root/autodl-tmp/VulBERTa/'\n",
    "model = RobertaForSequenceClassification.from_pretrained(pretrained_model_path)\n",
    "print(model.num_parameters())\n",
    "\n",
    "try:\n",
    "    cw = sklearn.utils.class_weight.compute_class_weight(class_weight='balanced',classes=[0,1],y=m1.label.tolist())\n",
    "except:\n",
    "    cw = sklearn.utils.class_weight.compute_class_weight(class_weight='balanced',classes=[0,1],y=m1.target.tolist())\n",
    "    \n",
    "c_weights = torch.FloatTensor([cw[0], cw[1]])\n",
    "\n",
    "#criterion = torch.nn.CrossEntropyLoss() \n",
    "criterion = torch.nn.CrossEntropyLoss(weight=c_weights)\n",
    "criterion.to(device)\n",
    "\n",
    "class MyTrainer(Trainer):\n",
    "    def compute_loss(self, model, inputs, return_outputs=False):\n",
    "        labels = inputs.pop(\"labels\")\n",
    "        outputs = model(**inputs)\n",
    "        logits = outputs[\"logits\"]\n",
    "        #logits = outputs[0]        #### USE THIS IF CNN OR LSTM VURLBERTA\n",
    "        loss = criterion(logits,labels)\n",
    "        return (loss, outputs) if return_outputs else loss\n",
    "\n",
    "training_args = TrainingArguments(\n",
    "        output_dir=f\"/root/autodl-tmp/finetuned_models/VB_MLP_{DATASET_NAME}_preprocessMode{COMMIT_PATCH_PROCESSING_MODE}\",\n",
    "        overwrite_output_dir=False,\n",
    "        per_device_train_batch_size=4,\n",
    "        num_train_epochs=10,\n",
    "        evaluation_strategy='epoch',\n",
    "        save_total_limit=10,\n",
    "        seed=seed,\n",
    "        learning_rate=5e-06,\n",
    "        fp16=True,\n",
    "        report_to=None,\n",
    "        load_best_model_at_end =True\n",
    ")\n",
    "\n",
    "trainer = MyTrainer(\n",
    "        model=model,\n",
    "        args=training_args,\n",
    "        train_dataset=train_dataset,\n",
    "        eval_dataset=val_dataset \n",
    ")\n",
    "\n",
    "trainer.train()\n"
   ]
  },
  {
   "cell_type": "markdown",
   "metadata": {},
   "source": [
    "## Test the model"
   ]
  },
  {
   "cell_type": "code",
   "execution_count": 4,
   "metadata": {},
   "outputs": [
    {
     "name": "stdout",
     "output_type": "stream",
     "text": [
      "\n",
      "#######################################\n"
     ]
    },
    {
     "name": "stderr",
     "output_type": "stream",
     "text": [
      "100%|██████████| 24/24 [00:41<00:00,  1.74s/it]\n"
     ]
    },
    {
     "name": "stdout",
     "output_type": "stream",
     "text": [
      "Confusion matrix: \n",
      " [[862 876]\n",
      " [315 916]]\n",
      "\n",
      "TP: 916\n",
      "FP: 876\n",
      "TN: 862\n",
      "FN: 315\n",
      "\n",
      "Accuracy: 0.5988548332771977\n",
      "Precision: 0.5111607142857143\n",
      "Recall: 0.7441104792851341\n",
      "F-measure: 0.6060205094277209\n",
      "Precision-Recall AUC: 0.5751559125032494\n",
      "AUC: 0.6650341812348619\n",
      "MCC: 0.24180085760270628\n",
      "\n",
      "#######################################\n"
     ]
    },
    {
     "name": "stderr",
     "output_type": "stream",
     "text": [
      "100%|██████████| 24/24 [00:42<00:00,  1.75s/it]\n"
     ]
    },
    {
     "name": "stdout",
     "output_type": "stream",
     "text": [
      "Confusion matrix: \n",
      " [[1211  527]\n",
      " [ 541  690]]\n",
      "\n",
      "TP: 690\n",
      "FP: 527\n",
      "TN: 1211\n",
      "FN: 541\n",
      "\n",
      "Accuracy: 0.6402829235432805\n",
      "Precision: 0.5669679539852095\n",
      "Recall: 0.5605199025182778\n",
      "F-measure: 0.5637254901960784\n",
      "Precision-Recall AUC: 0.600655577336531\n",
      "AUC: 0.6804388734074386\n",
      "MCC: 0.25773752816304585\n",
      "\n",
      "#######################################\n"
     ]
    },
    {
     "name": "stderr",
     "output_type": "stream",
     "text": [
      "100%|██████████| 24/24 [00:42<00:00,  1.77s/it]\n"
     ]
    },
    {
     "name": "stdout",
     "output_type": "stream",
     "text": [
      "Confusion matrix: \n",
      " [[1267  471]\n",
      " [ 564  667]]\n",
      "\n",
      "TP: 667\n",
      "FP: 471\n",
      "TN: 1267\n",
      "FN: 564\n",
      "\n",
      "Accuracy: 0.6513977770293028\n",
      "Precision: 0.5861159929701231\n",
      "Recall: 0.5418359057676686\n",
      "F-measure: 0.5631067961165049\n",
      "Precision-Recall AUC: 0.6056356912068408\n",
      "AUC: 0.6834732584303275\n",
      "MCC: 0.2744372153612606\n",
      "\n",
      "#######################################\n"
     ]
    },
    {
     "name": "stderr",
     "output_type": "stream",
     "text": [
      "100%|██████████| 24/24 [00:42<00:00,  1.77s/it]\n"
     ]
    },
    {
     "name": "stdout",
     "output_type": "stream",
     "text": [
      "Confusion matrix: \n",
      " [[936 802]\n",
      " [386 845]]\n",
      "\n",
      "TP: 845\n",
      "FP: 802\n",
      "TN: 936\n",
      "FN: 386\n",
      "\n",
      "Accuracy: 0.5998652745031997\n",
      "Precision: 0.5130540376442015\n",
      "Recall: 0.6864337936636881\n",
      "F-measure: 0.5872133425990271\n",
      "Precision-Recall AUC: 0.5881198271063994\n",
      "AUC: 0.6635562506368375\n",
      "MCC: 0.22301944565372167\n",
      "\n",
      "#######################################\n"
     ]
    },
    {
     "name": "stderr",
     "output_type": "stream",
     "text": [
      "100%|██████████| 24/24 [00:42<00:00,  1.78s/it]\n"
     ]
    },
    {
     "name": "stdout",
     "output_type": "stream",
     "text": [
      "Confusion matrix: \n",
      " [[811 927]\n",
      " [306 925]]\n",
      "\n",
      "TP: 925\n",
      "FP: 927\n",
      "TN: 811\n",
      "FN: 306\n",
      "\n",
      "Accuracy: 0.5847086561131695\n",
      "Precision: 0.4994600431965443\n",
      "Recall: 0.7514216084484159\n",
      "F-measure: 0.6000648718780409\n",
      "Precision-Recall AUC: 0.5897362958420744\n",
      "AUC: 0.6731595276978777\n",
      "MCC: 0.2217495566393777\n",
      "\n",
      "#######################################\n"
     ]
    },
    {
     "name": "stderr",
     "output_type": "stream",
     "text": [
      "100%|██████████| 24/24 [00:42<00:00,  1.77s/it]\n"
     ]
    },
    {
     "name": "stdout",
     "output_type": "stream",
     "text": [
      "Confusion matrix: \n",
      " [[1245  493]\n",
      " [ 560  671]]\n",
      "\n",
      "TP: 671\n",
      "FP: 493\n",
      "TN: 1245\n",
      "FN: 560\n",
      "\n",
      "Accuracy: 0.6453351296732907\n",
      "Precision: 0.5764604810996563\n",
      "Recall: 0.545085296506905\n",
      "F-measure: 0.5603340292275575\n",
      "Precision-Recall AUC: 0.5812061270468031\n",
      "AUC: 0.6687336817672348\n",
      "MCC: 0.26380769591093706\n",
      "\n",
      "#######################################\n"
     ]
    },
    {
     "name": "stderr",
     "output_type": "stream",
     "text": [
      "100%|██████████| 24/24 [00:42<00:00,  1.77s/it]\n"
     ]
    },
    {
     "name": "stdout",
     "output_type": "stream",
     "text": [
      "Confusion matrix: \n",
      " [[1215  523]\n",
      " [ 562  669]]\n",
      "\n",
      "TP: 669\n",
      "FP: 523\n",
      "TN: 1215\n",
      "FN: 562\n",
      "\n",
      "Accuracy: 0.6345570899292691\n",
      "Precision: 0.5612416107382551\n",
      "Recall: 0.5434606011372868\n",
      "F-measure: 0.5522080066033843\n",
      "Precision-Recall AUC: 0.5679380355407787\n",
      "AUC: 0.6528340090433273\n",
      "MCC: 0.24375607549500272\n",
      "\n",
      "#######################################\n"
     ]
    },
    {
     "name": "stderr",
     "output_type": "stream",
     "text": [
      "100%|██████████| 24/24 [00:42<00:00,  1.77s/it]\n"
     ]
    },
    {
     "name": "stdout",
     "output_type": "stream",
     "text": [
      "Confusion matrix: \n",
      " [[1226  512]\n",
      " [ 563  668]]\n",
      "\n",
      "TP: 668\n",
      "FP: 512\n",
      "TN: 1226\n",
      "FN: 563\n",
      "\n",
      "Accuracy: 0.6379252273492758\n",
      "Precision: 0.5661016949152542\n",
      "Recall: 0.5426482534524777\n",
      "F-measure: 0.5541269182911654\n",
      "Precision-Recall AUC: 0.5554018700359709\n",
      "AUC: 0.6443964368878765\n",
      "MCC: 0.24972315960349398\n",
      "\n",
      "#######################################\n"
     ]
    },
    {
     "name": "stderr",
     "output_type": "stream",
     "text": [
      "100%|██████████| 24/24 [00:42<00:00,  1.78s/it]\n"
     ]
    },
    {
     "name": "stdout",
     "output_type": "stream",
     "text": [
      "Confusion matrix: \n",
      " [[1219  519]\n",
      " [ 568  663]]\n",
      "\n",
      "TP: 663\n",
      "FP: 519\n",
      "TN: 1219\n",
      "FN: 568\n",
      "\n",
      "Accuracy: 0.6338834624452677\n",
      "Precision: 0.5609137055837563\n",
      "Recall: 0.5385865150284321\n",
      "F-measure: 0.5495234148363033\n",
      "Precision-Recall AUC: 0.5456485680412365\n",
      "AUC: 0.6352988906639845\n",
      "MCC: 0.24151002721295103\n",
      "\n",
      "#######################################\n"
     ]
    },
    {
     "name": "stderr",
     "output_type": "stream",
     "text": [
      "100%|██████████| 24/24 [00:42<00:00,  1.77s/it]"
     ]
    },
    {
     "name": "stdout",
     "output_type": "stream",
     "text": [
      "Confusion matrix: \n",
      " [[1090  648]\n",
      " [ 503  728]]\n",
      "\n",
      "TP: 728\n",
      "FP: 648\n",
      "TN: 1090\n",
      "FN: 503\n",
      "\n",
      "Accuracy: 0.6123273829572247\n",
      "Precision: 0.5290697674418605\n",
      "Recall: 0.5913891145410236\n",
      "F-measure: 0.5584963559647104\n",
      "Precision-Recall AUC: 0.538241174727922\n",
      "AUC: 0.6359593321361565\n",
      "MCC: 0.21591419429349923\n"
     ]
    },
    {
     "name": "stderr",
     "output_type": "stream",
     "text": [
      "\n"
     ]
    }
   ],
   "source": [
    "check_point_files_list = ['checkpoint-2227', 'checkpoint-4454', 'checkpoint-6681', 'checkpoint-8908', 'checkpoint-11135',\n",
    "                          'checkpoint-13362', 'checkpoint-15589', 'checkpoint-17816', 'checkpoint-20043', 'checkpoint-22270']\n",
    "\n",
    "for check_point_file in check_point_files_list:\n",
    "    print(f'\\n#######################################{check_point_file}')\n",
    "\n",
    "    finetuned_model_path = f'/root/autodl-tmp/finetuned_models/VB_MLP_{DATASET_NAME}_preprocessMode{COMMIT_PATCH_PROCESSING_MODE}/{check_point_file}'\n",
    "    model = RobertaForSequenceClassification.from_pretrained(finetuned_model_path, local_files_only=True)\n",
    "\n",
    "    test_loader = DataLoader(val_dataset, batch_size=128)\n",
    "\n",
    "    def softmax_accuracy(probs,all_labels):\n",
    "        def getClass(x):\n",
    "            return(x.index(max(x)))\n",
    "\n",
    "        all_labels = all_labels.tolist()\n",
    "        probs = pd.Series(probs.tolist())\n",
    "        all_predicted = probs.apply(getClass)\n",
    "        all_predicted.reset_index(drop=True, inplace=True)\n",
    "        vc = pd.value_counts(all_predicted == all_labels)\n",
    "        try:\n",
    "            acc = vc[1]/len(all_labels)\n",
    "        except:\n",
    "            if(vc.index[0]==False):\n",
    "                acc = 0\n",
    "            else:\n",
    "                acc = 1\n",
    "        return(acc,all_predicted)\n",
    "\n",
    "    model.to(device)\n",
    "\n",
    "    all_pred=[]\n",
    "    all_labels=[]\n",
    "    all_probs=[]\n",
    "    model.eval()\n",
    "    with torch.no_grad():\n",
    "        for batch in tqdm(test_loader):\n",
    "            input_ids = batch['input_ids'].to(device)\n",
    "            attention_mask = batch['attention_mask'].to(device)\n",
    "            labels = batch['labels'].to(device)\n",
    "            outputs = model(input_ids, attention_mask=attention_mask, labels=labels)\n",
    "            loss = outputs[0]\n",
    "            acc_val,pred = softmax_accuracy(torch.nn.functional.softmax(outputs[1],dim=1),labels)\n",
    "            all_pred += pred.tolist()\n",
    "            all_labels += labels.tolist()\n",
    "            all_probs += outputs[1].tolist()\n",
    "\n",
    "    confusion = sklearn.metrics.confusion_matrix(y_true=all_labels, y_pred=all_pred)\n",
    "    print('Confusion matrix: \\n',confusion)\n",
    "\n",
    "    tn, fp, fn, tp = confusion.ravel()\n",
    "    print('\\nTP:',tp)\n",
    "    print('FP:',fp)\n",
    "    print('TN:',tn)\n",
    "    print('FN:',fn)\n",
    "\n",
    "    probs2=[]\n",
    "    for x in all_probs:\n",
    "        probs2.append(x[1])\n",
    "\n",
    "    ## Performance measure\n",
    "    print('\\nAccuracy: '+ str(sklearn.metrics.accuracy_score(y_true=all_labels, y_pred=all_pred)))\n",
    "    print('Precision: '+ str(sklearn.metrics.precision_score(y_true=all_labels, y_pred=all_pred)))\n",
    "    print('Recall: '+ str(sklearn.metrics.recall_score(y_true=all_labels, y_pred=all_pred)))\n",
    "    print('F-measure: '+ str(sklearn.metrics.f1_score(y_true=all_labels, y_pred=all_pred)))\n",
    "    print('Precision-Recall AUC: '+ str(sklearn.metrics.average_precision_score(y_true=all_labels, y_score=probs2)))\n",
    "    print('AUC: '+ str(sklearn.metrics.roc_auc_score(y_true=all_labels, y_score=probs2)))\n",
    "    print('MCC: '+ str(sklearn.metrics.matthews_corrcoef(y_true=all_labels, y_pred=all_pred)))\n",
    "\n"
   ]
  }
 ],
 "metadata": {
  "kernelspec": {
   "display_name": "Python 3 (ipykernel)",
   "language": "python",
   "name": "python3"
  },
  "language_info": {
   "codemirror_mode": {
    "name": "ipython",
    "version": 3
   },
   "file_extension": ".py",
   "mimetype": "text/x-python",
   "name": "python",
   "nbconvert_exporter": "python",
   "pygments_lexer": "ipython3",
   "version": "3.8.10"
  }
 },
 "nbformat": 4,
 "nbformat_minor": 4
}
