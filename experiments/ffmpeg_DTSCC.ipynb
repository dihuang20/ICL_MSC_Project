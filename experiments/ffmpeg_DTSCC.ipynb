{
 "cells": [
  {
   "cell_type": "markdown",
   "metadata": {
    "tags": []
   },
   "source": [
    "# Global settings"
   ]
  },
  {
   "cell_type": "code",
   "execution_count": null,
   "metadata": {},
   "outputs": [],
   "source": [
    "# References:\n",
    "# This source code file refers to:\n",
    "# https://github.com/ICL-ml4csec/VulBERTa\n",
    "# https://towardsdatascience.com/text-classification-with-bert-in-pytorch-887965e5820f\n",
    "# https://huggingface.co/docs/transformers/model_doc/roberta\n"
   ]
  },
  {
   "cell_type": "code",
   "execution_count": 1,
   "metadata": {},
   "outputs": [
    {
     "name": "stdout",
     "output_type": "stream",
     "text": [
      "using cuda\n"
     ]
    }
   ],
   "source": [
    "import os\n",
    "os.environ['CUDA_LAUNCH_BLOCKING'] = \"1\"\n",
    "import random\n",
    "import torch\n",
    "import numpy as np\n",
    "import shutil\n",
    "\n",
    "def write_to_file(text, path, mode='a'): # 'a': append; 'w': overwrite\n",
    "    with open(path, mode) as f:\n",
    "        f.write(text)\n",
    "\n",
    "def mkdir_if_not_exist(directory):\n",
    "    if not directory: return\n",
    "    if not os.path.exists(directory):\n",
    "        os.mkdir(directory)\n",
    "\n",
    "def remove_file_if_exist(path):\n",
    "    if not path: return\n",
    "    if os.path.exists(path):\n",
    "        try:\n",
    "            os.remove(path)\n",
    "        except:\n",
    "            shutil.rmtree(path)\n",
    "\n",
    "device = torch.device(\"cuda\" if torch.cuda.is_available() else \"cpu\")\n",
    "print('using', device)\n",
    "\n",
    "# The following randomization refers to: https://github.com/ICL-ml4csec/VulBERTa/blob/main/Finetuning_VulBERTa-MLP.ipynb\n",
    "seed = 42\n",
    "os.environ['PYTHONHASHSEED'] = str(seed)\n",
    "torch.manual_seed(seed)\n",
    "torch.cuda.manual_seed(seed)\n",
    "torch.cuda.manual_seed_all(seed)\n",
    "np.random.seed(seed)\n",
    "random.seed(seed)\n",
    "torch.backends.cudnn.benchmark = False\n",
    "torch.backends.cudnn.deterministic = True\n",
    "os.environ['WANDB_DISABLED'] = 'true'\n",
    "os.environ['WANDB_MODE'] = 'dryrun'\n",
    "\n",
    "# -------------------------------------- start\n",
    "\n",
    "DATASET_NAME = 'ffmpeg'\n",
    "# DATASET_MASKING = 'masked_'\n",
    "DATASET_MASKING = ''\n",
    "\n",
    "codeTF_check_point = 'vulberta_0.6900_ep4.pt'\n",
    "msgTF_check_point = 'roberta_large_fc_0.987_ep10.pt'\n",
    "\n",
    "# -------------------------------------- end\n",
    "\n",
    "pretrained_model_path = '/root/autodl-tmp/VulBERTa/'\n",
    "\n",
    "root_directory = '/root/autodl-tmp'\n",
    "dataset_directory = f'{root_directory}/output_dataset_1/{DATASET_MASKING}{DATASET_NAME}'\n",
    "init_train_path = f'{dataset_directory}/train.json'\n",
    "init_val_path = f'{dataset_directory}/val.json'\n",
    "init_test_path = f'{dataset_directory}/test.json'\n",
    "intermediate_directory = f'{root_directory}/intermediate/{DATASET_MASKING}{DATASET_NAME}'\n",
    "mkdir_if_not_exist(f'{root_directory}/intermediate')\n",
    "mkdir_if_not_exist(intermediate_directory)\n",
    "\n",
    "finetuned_ct_model_path = f'{root_directory}/codeTF_check_point/{DATASET_MASKING}{DATASET_NAME}/{codeTF_check_point}'\n",
    "intermediate_ct_train_path = f'{intermediate_directory}/ct_train.txt'\n",
    "intermediate_ct_val_path = f'{intermediate_directory}/ct_val.txt'\n",
    "intermediate_ct_test_path = f'{intermediate_directory}/ct_test.txt'\n",
    "\n",
    "finetuned_mt_model_path = f'{root_directory}/msgTF_check_point/{DATASET_MASKING}{DATASET_NAME}/{msgTF_check_point}'\n",
    "intermediate_mt_train_path = f'{intermediate_directory}/mt_train.txt'\n",
    "intermediate_mt_val_path = f'{intermediate_directory}/mt_val.txt'\n",
    "intermediate_mt_test_path = f'{intermediate_directory}/mt_test.txt'\n"
   ]
  },
  {
   "cell_type": "markdown",
   "metadata": {
    "tags": []
   },
   "source": [
    "# CodeTransformer"
   ]
  },
  {
   "cell_type": "code",
   "execution_count": 2,
   "metadata": {},
   "outputs": [
    {
     "name": "stdout",
     "output_type": "stream",
     "text": [
      "Tokenizing dataset...\n",
      "Done\n"
     ]
    }
   ],
   "source": [
    "from tqdm import tqdm\n",
    "import sys\n",
    "import pandas as pd\n",
    "import numpy as np\n",
    "import csv\n",
    "import pickle\n",
    "import re\n",
    "import torch\n",
    "import sklearn\n",
    "import random\n",
    "import clang\n",
    "from clang import *\n",
    "from clang import cindex\n",
    "from pathlib import Path\n",
    "from tokenizers import ByteLevelBPETokenizer\n",
    "from tokenizers.implementations import ByteLevelBPETokenizer\n",
    "from tokenizers.processors import BertProcessing\n",
    "from torch.utils.data import Dataset, DataLoader, IterableDataset\n",
    "from transformers import RobertaConfig\n",
    "from transformers import RobertaForMaskedLM, RobertaForSequenceClassification\n",
    "from transformers import RobertaTokenizerFast\n",
    "from transformers import DataCollatorForLanguageModeling\n",
    "from transformers import Trainer, TrainingArguments\n",
    "from transformers import LineByLineTextDataset\n",
    "from transformers.modeling_outputs import SequenceClassifierOutput\n",
    "from tokenizers.pre_tokenizers import PreTokenizer\n",
    "from tokenizers.pre_tokenizers import Whitespace\n",
    "from tokenizers import NormalizedString,PreTokenizedString\n",
    "from typing import List\n",
    "from tokenizers import Tokenizer\n",
    "from tokenizers import normalizers,decoders\n",
    "from tokenizers.normalizers import StripAccents, unicode_normalizer_from_str, Replace\n",
    "from tokenizers.processors import TemplateProcessing\n",
    "from tokenizers import processors,pre_tokenizers\n",
    "from tokenizers.models import BPE\n",
    "from sklearn import metrics\n",
    "\n",
    "# definitions\n",
    "class MyTokenizer:\n",
    "    cidx = cindex.Index.create()\n",
    "\n",
    "    def clang_split(self, i: int, normalized_string: NormalizedString) -> List[NormalizedString]:\n",
    "        ## Tokkenize using clang\n",
    "        tok = []\n",
    "        tu = self.cidx.parse('tmp.c',\n",
    "                       args=[''],  \n",
    "                       unsaved_files=[('tmp.c', str(normalized_string.original))],  \n",
    "                       options=0)\n",
    "        for t in tu.get_tokens(extent=tu.cursor.extent):\n",
    "            spelling = t.spelling.strip()\n",
    "            if spelling == '': continue\n",
    "            ## Keyword no need\n",
    "            ## Punctuations no need\n",
    "            ## Literal all to BPE\n",
    "            #spelling = spelling.replace(' ', '')\n",
    "            tok.append(NormalizedString(spelling))\n",
    "        return(tok)\n",
    "\n",
    "    def pre_tokenize(self, pretok: PreTokenizedString):\n",
    "        pretok.split(self.clang_split)\n",
    "\n",
    "def process_encodings(encodings):\n",
    "    input_ids=[]\n",
    "    attention_mask=[]\n",
    "    for enc in encodings:\n",
    "        input_ids.append(enc.ids)\n",
    "        attention_mask.append(enc.attention_mask)\n",
    "    return {'input_ids':input_ids, 'attention_mask':attention_mask}\n",
    "\n",
    "# ------------------------------------------------------------------------------\n",
    "# tokenize and load dataset\n",
    "print('Tokenizing dataset...')\n",
    "vocab, merges = BPE.read_file(vocab=\"./tokenizer/drapgh-vocab.json\", merges=\"./tokenizer/drapgh-merges.txt\")\n",
    "my_tokenizer = Tokenizer(BPE(vocab, merges, unk_token=\"<unk>\"))\n",
    "\n",
    "my_tokenizer.normalizer = normalizers.Sequence([StripAccents(), Replace(\" \", \"Ä\")])\n",
    "my_tokenizer.pre_tokenizer = PreTokenizer.custom(MyTokenizer())\n",
    "my_tokenizer.post_processor = processors.ByteLevel(trim_offsets=False)\n",
    "my_tokenizer.post_processor = TemplateProcessing(\n",
    "    single=\"<s> $A </s>\",\n",
    "    special_tokens=[\n",
    "    (\"<s>\",0),\n",
    "    (\"<pad>\",1),\n",
    "    (\"</s>\",2),\n",
    "    (\"<unk>\",3),\n",
    "    (\"<mask>\",4)\n",
    "    ]\n",
    ")\n",
    "\n",
    "my_tokenizer.enable_truncation(max_length=1024)\n",
    "my_tokenizer.enable_padding(direction='right', pad_id=1, pad_type_id=0, pad_token='<pad>', length=None, pad_to_multiple_of=None)\n",
    "\n",
    "m1 = pd.read_json(init_train_path)\n",
    "m2 = pd.read_json(init_val_path)\n",
    "\n",
    "train_encodings = my_tokenizer.encode_batch(m1.commit_patch)\n",
    "train_encodings = process_encodings(train_encodings)\n",
    "\n",
    "val_encodings = my_tokenizer.encode_batch(m2.commit_patch)\n",
    "val_encodings = process_encodings(val_encodings)\n",
    "\n",
    "print('Done')\n"
   ]
  },
  {
   "cell_type": "code",
   "execution_count": 4,
   "metadata": {},
   "outputs": [],
   "source": [
    "class MyCustomDataset(Dataset):\n",
    "    def __init__(self, encodings, labels):\n",
    "        self.encodings = encodings\n",
    "        self.labels = labels\n",
    "        assert len(self.encodings['input_ids']) == len(self.encodings['attention_mask']) == len(self.labels)\n",
    "\n",
    "    def __getitem__(self, idx):\n",
    "        item = {key: torch.tensor(val[idx]) for key, val in self.encodings.items()}\n",
    "        item['labels'] = torch.tensor(self.labels[idx])\n",
    "        return item\n",
    "\n",
    "    def __len__(self):\n",
    "        return len(self.labels)\n",
    "\n",
    "train_dataset = MyCustomDataset(train_encodings, m1.label.tolist())\n",
    "val_dataset = MyCustomDataset(val_encodings, m2.label.tolist())\n"
   ]
  },
  {
   "cell_type": "code",
   "execution_count": 6,
   "metadata": {},
   "outputs": [
    {
     "name": "stdout",
     "output_type": "stream",
     "text": [
      "Generating intermediate data...\n"
     ]
    },
    {
     "name": "stderr",
     "output_type": "stream",
     "text": [
      "Some weights of the model checkpoint at /root/autodl-tmp/VulBERTa/ were not used when initializing RobertaForSequenceClassification: ['lm_head.dense.bias', 'lm_head.layer_norm.weight', 'lm_head.layer_norm.bias', 'lm_head.dense.weight', 'lm_head.decoder.bias', 'lm_head.decoder.weight', 'lm_head.bias']\n",
      "- This IS expected if you are initializing RobertaForSequenceClassification from the checkpoint of a model trained on another task or with another architecture (e.g. initializing a BertForSequenceClassification model from a BertForPreTraining model).\n",
      "- This IS NOT expected if you are initializing RobertaForSequenceClassification from the checkpoint of a model that you expect to be exactly identical (initializing a BertForSequenceClassification model from a BertForSequenceClassification model).\n",
      "Some weights of RobertaForSequenceClassification were not initialized from the model checkpoint at /root/autodl-tmp/VulBERTa/ and are newly initialized: ['classifier.dense.bias', 'classifier.out_proj.weight', 'classifier.dense.weight', 'classifier.out_proj.bias']\n",
      "You should probably TRAIN this model on a down-stream task to be able to use it for predictions and inference.\n",
      "100%|██████████| 82/82 [02:29<00:00,  1.82s/it]\n",
      "100%|██████████| 28/28 [00:50<00:00,  1.79s/it]"
     ]
    },
    {
     "name": "stdout",
     "output_type": "stream",
     "text": [
      "Test Accuracy:  0.6900\n",
      "              precision    recall  f1-score   support\n",
      "\n",
      "      benign     0.7220    0.7459    0.7337      1995\n",
      "  vulnerable     0.6437    0.6152    0.6291      1489\n",
      "\n",
      "    accuracy                         0.6900      3484\n",
      "   macro avg     0.6828    0.6805    0.6814      3484\n",
      "weighted avg     0.6885    0.6900    0.6890      3484\n",
      "\n",
      "[[1488  507]\n",
      " [ 573  916]]\n"
     ]
    },
    {
     "name": "stderr",
     "output_type": "stream",
     "text": [
      "\n"
     ]
    }
   ],
   "source": [
    "# ------------------------------------------------------------------------------\n",
    "# generate intermediate data by CodeTransformer\n",
    "from sklearn import metrics\n",
    "\n",
    "pretrained_model_path = '/root/autodl-tmp/VulBERTa/'\n",
    "\n",
    "print('Generating intermediate data...')\n",
    "model = RobertaForSequenceClassification.from_pretrained(pretrained_model_path)\n",
    "model.to(device)\n",
    "model.load_state_dict(torch.load(finetuned_ct_model_path))\n",
    "\n",
    "def generate_ct_intermediate_dataset(input_data, intermediate_data_path, evaluate=True):\n",
    "    data_loader = DataLoader(input_data, batch_size=128)\n",
    "    device = torch.device(\"cuda\" if torch.cuda.is_available() else \"cpu\")\n",
    "    \n",
    "    total_acc = 0\n",
    "    predict_all = np.array([], dtype=int)\n",
    "    labels_all = np.array([], dtype=int)\n",
    "\n",
    "    model.eval()\n",
    "    with torch.no_grad():\n",
    "        for batch in tqdm(data_loader):\n",
    "            input_ids = batch['input_ids'].to(device)\n",
    "            attention_mask = batch['attention_mask'].to(device)\n",
    "            labels = batch['labels'].to(device)\n",
    "            outputs = model(input_ids, attention_mask=attention_mask)\n",
    "            # outputs['logits'] is equal to outputs[0]\n",
    "            outputs = outputs['logits']\n",
    "\n",
    "            probs = torch.nn.functional.softmax(outputs, dim=1).tolist()\n",
    "            assert(len(probs) == len(labels))\n",
    "            for i in range(len(probs)):\n",
    "                prob = probs[i]\n",
    "                label = int(labels[i])\n",
    "                content = '\\t'.join([str(i) for i in prob + [label]]) + '\\n'\n",
    "                write_to_file(content, intermediate_data_path)\n",
    "\n",
    "            if evaluate:\n",
    "                acc = (outputs.argmax(dim=1) == labels).sum().item()\n",
    "                total_acc += acc\n",
    "\n",
    "                labels = labels.data.cpu().numpy()\n",
    "                predic = outputs.argmax(dim=1).data.cpu().numpy()\n",
    "                labels_all = np.append(labels_all, labels)\n",
    "                predict_all = np.append(predict_all, predic)\n",
    "\n",
    "    if evaluate:\n",
    "        report = metrics.classification_report(labels_all, predict_all, target_names=['benign', 'vulnerable'], digits=4)\n",
    "        confusion = metrics.confusion_matrix(labels_all, predict_all)\n",
    "        print(f'Test Accuracy: {total_acc / len(input_data): .4f}')\n",
    "        print(report)\n",
    "        print(confusion)\n",
    "\n",
    "remove_file_if_exist(intermediate_ct_train_path)\n",
    "remove_file_if_exist(intermediate_ct_val_path)\n",
    "\n",
    "generate_ct_intermediate_dataset(train_dataset, intermediate_ct_train_path, False)\n",
    "generate_ct_intermediate_dataset(val_dataset, intermediate_ct_val_path)\n",
    "\n"
   ]
  },
  {
   "cell_type": "markdown",
   "metadata": {
    "tags": []
   },
   "source": [
    "# MsgTransformer"
   ]
  },
  {
   "cell_type": "code",
   "execution_count": 8,
   "metadata": {},
   "outputs": [
    {
     "name": "stderr",
     "output_type": "stream",
     "text": [
      "Some weights of the model checkpoint at roberta-large were not used when initializing RobertaModel: ['lm_head.dense.bias', 'lm_head.dense.weight', 'lm_head.layer_norm.weight', 'lm_head.layer_norm.bias', 'lm_head.decoder.weight', 'lm_head.bias']\n",
      "- This IS expected if you are initializing RobertaModel from the checkpoint of a model trained on another task or with another architecture (e.g. initializing a BertForSequenceClassification model from a BertForPreTraining model).\n",
      "- This IS NOT expected if you are initializing RobertaModel from the checkpoint of a model that you expect to be exactly identical (initializing a BertForSequenceClassification model from a BertForSequenceClassification model).\n",
      "100%|██████████| 82/82 [02:55<00:00,  2.14s/it]\n",
      "100%|██████████| 28/28 [00:59<00:00,  2.11s/it]\n"
     ]
    },
    {
     "name": "stdout",
     "output_type": "stream",
     "text": [
      "\n",
      "Evaluation:\n"
     ]
    },
    {
     "name": "stderr",
     "output_type": "stream",
     "text": [
      "Some weights of the model checkpoint at roberta-large were not used when initializing RobertaModel: ['lm_head.dense.bias', 'lm_head.dense.weight', 'lm_head.layer_norm.weight', 'lm_head.layer_norm.bias', 'lm_head.decoder.weight', 'lm_head.bias']\n",
      "- This IS expected if you are initializing RobertaModel from the checkpoint of a model trained on another task or with another architecture (e.g. initializing a BertForSequenceClassification model from a BertForPreTraining model).\n",
      "- This IS NOT expected if you are initializing RobertaModel from the checkpoint of a model that you expect to be exactly identical (initializing a BertForSequenceClassification model from a BertForSequenceClassification model).\n"
     ]
    },
    {
     "name": "stdout",
     "output_type": "stream",
     "text": [
      "Test Accuracy:  0.987\n",
      "              precision    recall  f1-score   support\n",
      "\n",
      "      benign     0.9856    0.9915    0.9885      1995\n",
      "  vulnerable     0.9885    0.9805    0.9845      1489\n",
      "\n",
      "    accuracy                         0.9868      3484\n",
      "   macro avg     0.9870    0.9860    0.9865      3484\n",
      "weighted avg     0.9868    0.9868    0.9868      3484\n",
      "\n",
      "[[1978   17]\n",
      " [  29 1460]]\n"
     ]
    }
   ],
   "source": [
    "import pandas as pd\n",
    "import numpy as np\n",
    "import torch\n",
    "from transformers import BertTokenizer\n",
    "from torch import nn\n",
    "from transformers import BertModel\n",
    "from transformers import RobertaModel, RobertaTokenizerFast\n",
    "from torch.optim import Adam\n",
    "from tqdm import tqdm\n",
    "from sklearn import metrics\n",
    "from torch.nn.parallel import DistributedDataParallel\n",
    "import os\n",
    "import random\n",
    "\n",
    "# definitions\n",
    "seed = 42\n",
    "os.environ['PYTHONHASHSEED'] = str(seed)\n",
    "torch.manual_seed(seed)\n",
    "torch.cuda.manual_seed(seed)\n",
    "torch.cuda.manual_seed_all(seed)\n",
    "np.random.seed(seed)\n",
    "random.seed(seed)\n",
    "torch.backends.cudnn.benchmark = False\n",
    "torch.backends.cudnn.deterministic = True\n",
    "\n",
    "BERT_CONFIG = 'roberta-large'\n",
    "labels = {0:0, 1:1}\n",
    "BATCH_SIZE = 128\n",
    "tokenizer = RobertaTokenizerFast.from_pretrained(BERT_CONFIG)\n",
    "\n",
    "class Dataset(torch.utils.data.Dataset):\n",
    "    def __init__(self, df):\n",
    "        self.labels = [labels[label] for label in df['label']]\n",
    "        self.texts = [tokenizer(text, padding='max_length', max_length=512, truncation=True,\n",
    "                                return_tensors=\"pt\") for text in df['commit_message']]\n",
    "\n",
    "    def classes(self):\n",
    "        return self.labels\n",
    "\n",
    "    def __len__(self):\n",
    "        return len(self.labels)\n",
    "\n",
    "    def get_batch_labels(self, idx):\n",
    "        # Fetch a batch of labels\n",
    "        return np.array(self.labels[idx])\n",
    "\n",
    "    def get_batch_texts(self, idx):\n",
    "        # Fetch a batch of inputs\n",
    "        return self.texts[idx]\n",
    "\n",
    "    def __getitem__(self, idx):\n",
    "        batch_texts = self.get_batch_texts(idx)\n",
    "        batch_y = self.get_batch_labels(idx)\n",
    "        return batch_texts, batch_y\n",
    "\n",
    "class BertClassifier(nn.Module):\n",
    "    def __init__(self, dropout=0.5):\n",
    "        super(BertClassifier, self).__init__()\n",
    "\n",
    "        self.bert = RobertaModel.from_pretrained(BERT_CONFIG)\n",
    "        self.dropout = nn.Dropout(dropout)\n",
    "        if BERT_CONFIG == 'roberta-large':\n",
    "            self.linear = nn.Linear(1024, len(labels))\n",
    "        else:\n",
    "            self.linear = nn.Linear(768, len(labels))\n",
    "        self.relu = nn.ReLU()\n",
    "\n",
    "    def forward(self, input_id, mask):\n",
    "        _, pooled_output = self.bert(input_ids=input_id, attention_mask=mask, return_dict=False)\n",
    "        dropout_output = self.dropout(pooled_output)\n",
    "        linear_output = self.linear(dropout_output)\n",
    "        # final_layer = self.relu(linear_output) # IMPO CHANGE\n",
    "        return linear_output\n",
    "\n",
    "    def check_parameters(self):\n",
    "        print('The number of Bert parameters:', self.bert.num_parameters())\n",
    "\n",
    "import torch.nn.functional as F\n",
    "\n",
    "# ------------------------------------------------------------------------------\n",
    "# generate intermediate data by MsgTransformer\n",
    "model = BertClassifier()\n",
    "model.to(device)\n",
    "model.load_state_dict(torch.load(finetuned_mt_model_path))\n",
    "\n",
    "def generate_mt_intermediate_dataset(input_data, intermediate_data_path):\n",
    "    data_loader = torch.utils.data.DataLoader(Dataset(input_data), batch_size=BATCH_SIZE)\n",
    "    \n",
    "    model.eval()\n",
    "    with torch.no_grad():\n",
    "        for texts, labels in tqdm(data_loader):\n",
    "            labels = labels.to(device)\n",
    "            masks = texts['attention_mask'].to(device)\n",
    "            input_ids = texts['input_ids'].squeeze(1).to(device)\n",
    "            outputs = model(input_ids, masks)\n",
    "\n",
    "            probs = torch.nn.functional.softmax(outputs, dim=1).tolist()\n",
    "            assert(len(probs) == len(labels))\n",
    "            for i in range(len(probs)):\n",
    "                prob = probs[i]\n",
    "                label = int(labels[i])\n",
    "                content = '\\t'.join([str(i) for i in prob + [label]]) + '\\n'\n",
    "                write_to_file(content, intermediate_data_path)\n",
    "\n",
    "df_train = pd.read_json(init_train_path)\n",
    "df_val = pd.read_json(init_val_path)\n",
    "\n",
    "remove_file_if_exist(intermediate_mt_train_path)\n",
    "remove_file_if_exist(intermediate_mt_val_path)\n",
    "\n",
    "generate_mt_intermediate_dataset(df_train, intermediate_mt_train_path)\n",
    "generate_mt_intermediate_dataset(df_val, intermediate_mt_val_path)\n",
    "\n",
    "# ------------------------------------------------------------------------------\n",
    "# evaluation\n",
    "print('\\nEvaluation:')\n",
    "\n",
    "seed = 42\n",
    "os.environ['PYTHONHASHSEED'] = str(seed)\n",
    "torch.manual_seed(seed)\n",
    "torch.cuda.manual_seed(seed)\n",
    "torch.cuda.manual_seed_all(seed)\n",
    "np.random.seed(seed)\n",
    "random.seed(seed)\n",
    "torch.backends.cudnn.benchmark = False\n",
    "torch.backends.cudnn.deterministic = True\n",
    "\n",
    "def evaluate(model, test_data):\n",
    "    test = Dataset(test_data)\n",
    "    test_dataloader = torch.utils.data.DataLoader(test, batch_size=BATCH_SIZE)\n",
    "\n",
    "    device = torch.device(\"cuda\" if torch.cuda.is_available() else \"cpu\")\n",
    "\n",
    "    total_acc_test = 0\n",
    "    predict_all = np.array([], dtype=int)\n",
    "    labels_all = np.array([], dtype=int)\n",
    "    model.eval()\n",
    "    with torch.no_grad():\n",
    "        for test_input, test_label in test_dataloader:\n",
    "            test_label = test_label.to(device)\n",
    "            mask = test_input['attention_mask'].to(device)\n",
    "            input_id = test_input['input_ids'].squeeze(1).to(device)\n",
    "\n",
    "            output = model(input_id, mask)\n",
    "\n",
    "            acc = (output.argmax(dim=1) == test_label).sum().item()\n",
    "            total_acc_test += acc\n",
    "\n",
    "            test_label = test_label.data.cpu().numpy()\n",
    "            predic = output.argmax(dim=1).data.cpu().numpy()\n",
    "            labels_all = np.append(labels_all, test_label)\n",
    "            predict_all = np.append(predict_all, predic)\n",
    "\n",
    "    report = metrics.classification_report(labels_all, predict_all, target_names=['benign', 'vulnerable'], digits=4)\n",
    "    confusion = metrics.confusion_matrix(labels_all, predict_all)\n",
    "    print(f'Test Accuracy: {total_acc_test / len(test_data): .3f}')\n",
    "    print(report)\n",
    "    print(confusion)\n",
    "\n",
    "model = BertClassifier()\n",
    "model.to(device)\n",
    "model.load_state_dict(torch.load(finetuned_mt_model_path))\n",
    "evaluate(model, df_val)\n",
    "\n"
   ]
  },
  {
   "cell_type": "markdown",
   "metadata": {
    "tags": []
   },
   "source": [
    "# Combine everything into intermediate dataset"
   ]
  },
  {
   "cell_type": "code",
   "execution_count": 9,
   "metadata": {},
   "outputs": [],
   "source": [
    "intermediate_train_path = f'{intermediate_directory}/train.txt'\n",
    "intermediate_val_path = f'{intermediate_directory}/val.txt'\n",
    "\n",
    "def generate_intermediate_dataset(intermediate_mt_data_path, intermediate_ct_data_path, intermediate_data_path):\n",
    "    with open(intermediate_mt_data_path) as f:\n",
    "        mt_data_list = f.read().split('\\n')\n",
    "    \n",
    "    with open(intermediate_ct_data_path) as f:\n",
    "        ct_data_list = f.read().split('\\n')\n",
    "    \n",
    "    mt_data_list = mt_data_list[:-1] if not mt_data_list[-1] else mt_data_list\n",
    "    ct_data_list = ct_data_list[:-1] if not ct_data_list[-1] else ct_data_list\n",
    "\n",
    "    assert(len(mt_data_list) == len(ct_data_list))\n",
    "    \n",
    "    for i in range(len(mt_data_list)):\n",
    "        mt_data = mt_data_list[i].split('\\t')\n",
    "        ct_data = ct_data_list[i].split('\\t')\n",
    "        assert(mt_data[2] == ct_data[2])\n",
    "        label = mt_data[2]\n",
    "        content = '\\t'.join(mt_data[:2] + ct_data[:2] + [label])\n",
    "        content = content + '\\n' if i < len(mt_data_list) - 1 else content\n",
    "        write_to_file(content, intermediate_data_path)\n",
    "\n",
    "remove_file_if_exist(intermediate_train_path)\n",
    "remove_file_if_exist(intermediate_val_path)\n",
    "\n",
    "generate_intermediate_dataset(intermediate_mt_train_path, intermediate_ct_train_path, intermediate_train_path)\n",
    "generate_intermediate_dataset(intermediate_mt_val_path, intermediate_ct_val_path, intermediate_val_path)\n"
   ]
  },
  {
   "cell_type": "markdown",
   "metadata": {
    "tags": []
   },
   "source": [
    "# Ensemble learning"
   ]
  },
  {
   "cell_type": "code",
   "execution_count": 19,
   "metadata": {},
   "outputs": [
    {
     "name": "stderr",
     "output_type": "stream",
     "text": [
      "100%|██████████| 2612/2612 [00:04<00:00, 638.68it/s]\n"
     ]
    },
    {
     "name": "stdout",
     "output_type": "stream",
     "text": [
      "Epochs: 1 | Train Loss:  0.1383             | Train Accuracy:  0.8937             | Val Loss:  0.1422             | Val Accuracy:  0.8327\n"
     ]
    },
    {
     "name": "stderr",
     "output_type": "stream",
     "text": [
      "100%|██████████| 2612/2612 [00:03<00:00, 677.08it/s]\n"
     ]
    },
    {
     "name": "stdout",
     "output_type": "stream",
     "text": [
      "Epochs: 2 | Train Loss:  0.1368             | Train Accuracy:  0.8919             | Val Loss:  0.1408             | Val Accuracy:  0.8335\n"
     ]
    },
    {
     "name": "stderr",
     "output_type": "stream",
     "text": [
      "100%|██████████| 2612/2612 [00:03<00:00, 679.98it/s]\n"
     ]
    },
    {
     "name": "stdout",
     "output_type": "stream",
     "text": [
      "Epochs: 3 | Train Loss:  0.1349             | Train Accuracy:  0.8973             | Val Loss:  0.1394             | Val Accuracy:  0.8347\n"
     ]
    },
    {
     "name": "stderr",
     "output_type": "stream",
     "text": [
      "100%|██████████| 2612/2612 [00:03<00:00, 656.41it/s]\n"
     ]
    },
    {
     "name": "stdout",
     "output_type": "stream",
     "text": [
      "Epochs: 4 | Train Loss:  0.1332             | Train Accuracy:  0.8937             | Val Loss:  0.1380             | Val Accuracy:  0.8358\n"
     ]
    },
    {
     "name": "stderr",
     "output_type": "stream",
     "text": [
      "100%|██████████| 2612/2612 [00:04<00:00, 582.04it/s]\n"
     ]
    },
    {
     "name": "stdout",
     "output_type": "stream",
     "text": [
      "Epochs: 5 | Train Loss:  0.1319             | Train Accuracy:  0.8941             | Val Loss:  0.1366             | Val Accuracy:  0.8361\n"
     ]
    },
    {
     "name": "stderr",
     "output_type": "stream",
     "text": [
      "100%|██████████| 2612/2612 [00:03<00:00, 673.75it/s]\n"
     ]
    },
    {
     "name": "stdout",
     "output_type": "stream",
     "text": [
      "Epochs: 6 | Train Loss:  0.1301             | Train Accuracy:  0.8960             | Val Loss:  0.1352             | Val Accuracy:  0.8375\n"
     ]
    },
    {
     "name": "stderr",
     "output_type": "stream",
     "text": [
      "100%|██████████| 2612/2612 [00:04<00:00, 613.80it/s]\n"
     ]
    },
    {
     "name": "stdout",
     "output_type": "stream",
     "text": [
      "Epochs: 7 | Train Loss:  0.1284             | Train Accuracy:  0.8956             | Val Loss:  0.1338             | Val Accuracy:  0.8384\n"
     ]
    },
    {
     "name": "stderr",
     "output_type": "stream",
     "text": [
      "100%|██████████| 2612/2612 [00:04<00:00, 632.65it/s]\n"
     ]
    },
    {
     "name": "stdout",
     "output_type": "stream",
     "text": [
      "Epochs: 8 | Train Loss:  0.1269             | Train Accuracy:  0.8933             | Val Loss:  0.1323             | Val Accuracy:  0.8401\n"
     ]
    },
    {
     "name": "stderr",
     "output_type": "stream",
     "text": [
      "100%|██████████| 2612/2612 [00:03<00:00, 667.10it/s]\n"
     ]
    },
    {
     "name": "stdout",
     "output_type": "stream",
     "text": [
      "Epochs: 9 | Train Loss:  0.1252             | Train Accuracy:  0.8957             | Val Loss:  0.1309             | Val Accuracy:  0.8410\n"
     ]
    },
    {
     "name": "stderr",
     "output_type": "stream",
     "text": [
      "100%|██████████| 2612/2612 [00:04<00:00, 640.98it/s]\n"
     ]
    },
    {
     "name": "stdout",
     "output_type": "stream",
     "text": [
      "Epochs: 10 | Train Loss:  0.1232             | Train Accuracy:  0.9014             | Val Loss:  0.1295             | Val Accuracy:  0.8421\n"
     ]
    },
    {
     "name": "stderr",
     "output_type": "stream",
     "text": [
      "100%|██████████| 2612/2612 [00:04<00:00, 589.31it/s]\n"
     ]
    },
    {
     "name": "stdout",
     "output_type": "stream",
     "text": [
      "Epochs: 11 | Train Loss:  0.1217             | Train Accuracy:  0.8993             | Val Loss:  0.1281             | Val Accuracy:  0.8430\n"
     ]
    },
    {
     "name": "stderr",
     "output_type": "stream",
     "text": [
      "100%|██████████| 2612/2612 [00:04<00:00, 650.37it/s]\n"
     ]
    },
    {
     "name": "stdout",
     "output_type": "stream",
     "text": [
      "Epochs: 12 | Train Loss:  0.1202             | Train Accuracy:  0.8981             | Val Loss:  0.1266             | Val Accuracy:  0.8441\n"
     ]
    },
    {
     "name": "stderr",
     "output_type": "stream",
     "text": [
      "100%|██████████| 2612/2612 [00:03<00:00, 677.50it/s]\n"
     ]
    },
    {
     "name": "stdout",
     "output_type": "stream",
     "text": [
      "Epochs: 13 | Train Loss:  0.1187             | Train Accuracy:  0.8981             | Val Loss:  0.1252             | Val Accuracy:  0.8447\n"
     ]
    },
    {
     "name": "stderr",
     "output_type": "stream",
     "text": [
      "100%|██████████| 2612/2612 [00:03<00:00, 696.52it/s]\n"
     ]
    },
    {
     "name": "stdout",
     "output_type": "stream",
     "text": [
      "Epochs: 14 | Train Loss:  0.1167             | Train Accuracy:  0.9016             | Val Loss:  0.1238             | Val Accuracy:  0.8459\n"
     ]
    },
    {
     "name": "stderr",
     "output_type": "stream",
     "text": [
      "100%|██████████| 2612/2612 [00:04<00:00, 652.69it/s]\n"
     ]
    },
    {
     "name": "stdout",
     "output_type": "stream",
     "text": [
      "Epochs: 15 | Train Loss:  0.1150             | Train Accuracy:  0.9032             | Val Loss:  0.1223             | Val Accuracy:  0.8459\n"
     ]
    },
    {
     "name": "stderr",
     "output_type": "stream",
     "text": [
      "100%|██████████| 2612/2612 [00:04<00:00, 598.30it/s]\n"
     ]
    },
    {
     "name": "stdout",
     "output_type": "stream",
     "text": [
      "Epochs: 16 | Train Loss:  0.1136             | Train Accuracy:  0.9066             | Val Loss:  0.1209             | Val Accuracy:  0.8467\n"
     ]
    },
    {
     "name": "stderr",
     "output_type": "stream",
     "text": [
      "100%|██████████| 2612/2612 [00:04<00:00, 571.33it/s]\n"
     ]
    },
    {
     "name": "stdout",
     "output_type": "stream",
     "text": [
      "Epochs: 17 | Train Loss:  0.1117             | Train Accuracy:  0.9176             | Val Loss:  0.1195             | Val Accuracy:  0.8473\n"
     ]
    },
    {
     "name": "stderr",
     "output_type": "stream",
     "text": [
      "100%|██████████| 2612/2612 [00:04<00:00, 575.10it/s]\n"
     ]
    },
    {
     "name": "stdout",
     "output_type": "stream",
     "text": [
      "Epochs: 18 | Train Loss:  0.1100             | Train Accuracy:  0.9225             | Val Loss:  0.1180             | Val Accuracy:  0.8482\n"
     ]
    },
    {
     "name": "stderr",
     "output_type": "stream",
     "text": [
      "100%|██████████| 2612/2612 [00:04<00:00, 602.66it/s]\n"
     ]
    },
    {
     "name": "stdout",
     "output_type": "stream",
     "text": [
      "Epochs: 19 | Train Loss:  0.1086             | Train Accuracy:  0.9223             | Val Loss:  0.1166             | Val Accuracy:  0.8487\n"
     ]
    },
    {
     "name": "stderr",
     "output_type": "stream",
     "text": [
      "100%|██████████| 2612/2612 [00:04<00:00, 627.16it/s]\n"
     ]
    },
    {
     "name": "stdout",
     "output_type": "stream",
     "text": [
      "Epochs: 20 | Train Loss:  0.1068             | Train Accuracy:  0.9249             | Val Loss:  0.1152             | Val Accuracy:  0.8493\n"
     ]
    },
    {
     "name": "stderr",
     "output_type": "stream",
     "text": [
      "100%|██████████| 2612/2612 [00:04<00:00, 648.19it/s]\n"
     ]
    },
    {
     "name": "stdout",
     "output_type": "stream",
     "text": [
      "Epochs: 21 | Train Loss:  0.1054             | Train Accuracy:  0.9266             | Val Loss:  0.1137             | Val Accuracy:  0.8499\n"
     ]
    },
    {
     "name": "stderr",
     "output_type": "stream",
     "text": [
      "100%|██████████| 2612/2612 [00:03<00:00, 676.84it/s]\n"
     ]
    },
    {
     "name": "stdout",
     "output_type": "stream",
     "text": [
      "Epochs: 22 | Train Loss:  0.1035             | Train Accuracy:  0.9286             | Val Loss:  0.1123             | Val Accuracy:  0.8507\n"
     ]
    },
    {
     "name": "stderr",
     "output_type": "stream",
     "text": [
      "100%|██████████| 2612/2612 [00:04<00:00, 631.11it/s]\n"
     ]
    },
    {
     "name": "stdout",
     "output_type": "stream",
     "text": [
      "Epochs: 23 | Train Loss:  0.1018             | Train Accuracy:  0.9355             | Val Loss:  0.1108             | Val Accuracy:  0.8525\n"
     ]
    },
    {
     "name": "stderr",
     "output_type": "stream",
     "text": [
      "100%|██████████| 2612/2612 [00:04<00:00, 636.98it/s]\n"
     ]
    },
    {
     "name": "stdout",
     "output_type": "stream",
     "text": [
      "Epochs: 24 | Train Loss:  0.1002             | Train Accuracy:  0.9360             | Val Loss:  0.1094             | Val Accuracy:  0.8551\n"
     ]
    },
    {
     "name": "stderr",
     "output_type": "stream",
     "text": [
      "100%|██████████| 2612/2612 [00:03<00:00, 677.77it/s]\n"
     ]
    },
    {
     "name": "stdout",
     "output_type": "stream",
     "text": [
      "Epochs: 25 | Train Loss:  0.0984             | Train Accuracy:  0.9395             | Val Loss:  0.1079             | Val Accuracy:  0.8576\n"
     ]
    },
    {
     "name": "stderr",
     "output_type": "stream",
     "text": [
      "100%|██████████| 2612/2612 [00:03<00:00, 680.27it/s]\n"
     ]
    },
    {
     "name": "stdout",
     "output_type": "stream",
     "text": [
      "Epochs: 26 | Train Loss:  0.0971             | Train Accuracy:  0.9449             | Val Loss:  0.1065             | Val Accuracy:  0.8605\n"
     ]
    },
    {
     "name": "stderr",
     "output_type": "stream",
     "text": [
      "100%|██████████| 2612/2612 [00:04<00:00, 641.56it/s]\n"
     ]
    },
    {
     "name": "stdout",
     "output_type": "stream",
     "text": [
      "Epochs: 27 | Train Loss:  0.0953             | Train Accuracy:  0.9487             | Val Loss:  0.1051             | Val Accuracy:  0.8622\n"
     ]
    },
    {
     "name": "stderr",
     "output_type": "stream",
     "text": [
      "100%|██████████| 2612/2612 [00:04<00:00, 581.31it/s]\n"
     ]
    },
    {
     "name": "stdout",
     "output_type": "stream",
     "text": [
      "Epochs: 28 | Train Loss:  0.0938             | Train Accuracy:  0.9517             | Val Loss:  0.1036             | Val Accuracy:  0.8657\n"
     ]
    },
    {
     "name": "stderr",
     "output_type": "stream",
     "text": [
      "100%|██████████| 2612/2612 [00:04<00:00, 562.02it/s]\n"
     ]
    },
    {
     "name": "stdout",
     "output_type": "stream",
     "text": [
      "Epochs: 29 | Train Loss:  0.0923             | Train Accuracy:  0.9651             | Val Loss:  0.1022             | Val Accuracy:  0.8677\n"
     ]
    },
    {
     "name": "stderr",
     "output_type": "stream",
     "text": [
      "100%|██████████| 2612/2612 [00:04<00:00, 628.27it/s]\n"
     ]
    },
    {
     "name": "stdout",
     "output_type": "stream",
     "text": [
      "Epochs: 30 | Train Loss:  0.0904             | Train Accuracy:  0.9751             | Val Loss:  0.1008             | Val Accuracy:  0.8711\n"
     ]
    },
    {
     "name": "stderr",
     "output_type": "stream",
     "text": [
      "100%|██████████| 2612/2612 [00:03<00:00, 677.80it/s]\n"
     ]
    },
    {
     "name": "stdout",
     "output_type": "stream",
     "text": [
      "Epochs: 31 | Train Loss:  0.0889             | Train Accuracy:  0.9743             | Val Loss:  0.0994             | Val Accuracy:  0.8757\n"
     ]
    },
    {
     "name": "stderr",
     "output_type": "stream",
     "text": [
      "100%|██████████| 2612/2612 [00:03<00:00, 680.92it/s]\n"
     ]
    },
    {
     "name": "stdout",
     "output_type": "stream",
     "text": [
      "Epochs: 32 | Train Loss:  0.0870             | Train Accuracy:  0.9810             | Val Loss:  0.0980             | Val Accuracy:  0.8829\n"
     ]
    },
    {
     "name": "stderr",
     "output_type": "stream",
     "text": [
      "100%|██████████| 2612/2612 [00:04<00:00, 595.45it/s]\n"
     ]
    },
    {
     "name": "stdout",
     "output_type": "stream",
     "text": [
      "Epochs: 33 | Train Loss:  0.0857             | Train Accuracy:  0.9797             | Val Loss:  0.0966             | Val Accuracy:  0.9107\n"
     ]
    },
    {
     "name": "stderr",
     "output_type": "stream",
     "text": [
      "100%|██████████| 2612/2612 [00:04<00:00, 599.51it/s]\n"
     ]
    },
    {
     "name": "stdout",
     "output_type": "stream",
     "text": [
      "Epochs: 34 | Train Loss:  0.0843             | Train Accuracy:  0.9798             | Val Loss:  0.0952             | Val Accuracy:  0.9839\n"
     ]
    },
    {
     "name": "stderr",
     "output_type": "stream",
     "text": [
      "100%|██████████| 2612/2612 [00:04<00:00, 554.37it/s]\n"
     ]
    },
    {
     "name": "stdout",
     "output_type": "stream",
     "text": [
      "Epochs: 35 | Train Loss:  0.0827             | Train Accuracy:  0.9810             | Val Loss:  0.0938             | Val Accuracy:  0.9845\n"
     ]
    },
    {
     "name": "stderr",
     "output_type": "stream",
     "text": [
      "100%|██████████| 2612/2612 [00:04<00:00, 623.46it/s]\n"
     ]
    },
    {
     "name": "stdout",
     "output_type": "stream",
     "text": [
      "Epochs: 36 | Train Loss:  0.0811             | Train Accuracy:  0.9806             | Val Loss:  0.0924             | Val Accuracy:  0.9848\n"
     ]
    },
    {
     "name": "stderr",
     "output_type": "stream",
     "text": [
      "100%|██████████| 2612/2612 [00:03<00:00, 660.31it/s]\n"
     ]
    },
    {
     "name": "stdout",
     "output_type": "stream",
     "text": [
      "Epochs: 37 | Train Loss:  0.0798             | Train Accuracy:  0.9831             | Val Loss:  0.0910             | Val Accuracy:  0.9851\n"
     ]
    },
    {
     "name": "stderr",
     "output_type": "stream",
     "text": [
      "100%|██████████| 2612/2612 [00:03<00:00, 676.57it/s]\n"
     ]
    },
    {
     "name": "stdout",
     "output_type": "stream",
     "text": [
      "Epochs: 38 | Train Loss:  0.0781             | Train Accuracy:  0.9842             | Val Loss:  0.0897             | Val Accuracy:  0.9851\n"
     ]
    },
    {
     "name": "stderr",
     "output_type": "stream",
     "text": [
      "100%|██████████| 2612/2612 [00:03<00:00, 691.58it/s]\n"
     ]
    },
    {
     "name": "stdout",
     "output_type": "stream",
     "text": [
      "Epochs: 39 | Train Loss:  0.0769             | Train Accuracy:  0.9835             | Val Loss:  0.0883             | Val Accuracy:  0.9854\n"
     ]
    },
    {
     "name": "stderr",
     "output_type": "stream",
     "text": [
      "100%|██████████| 2612/2612 [00:04<00:00, 624.79it/s]\n"
     ]
    },
    {
     "name": "stdout",
     "output_type": "stream",
     "text": [
      "Epochs: 40 | Train Loss:  0.0752             | Train Accuracy:  0.9842             | Val Loss:  0.0870             | Val Accuracy:  0.9854\n"
     ]
    },
    {
     "name": "stderr",
     "output_type": "stream",
     "text": [
      "100%|██████████| 2612/2612 [00:04<00:00, 548.61it/s]\n"
     ]
    },
    {
     "name": "stdout",
     "output_type": "stream",
     "text": [
      "Epochs: 41 | Train Loss:  0.0736             | Train Accuracy:  0.9869             | Val Loss:  0.0857             | Val Accuracy:  0.9854\n"
     ]
    },
    {
     "name": "stderr",
     "output_type": "stream",
     "text": [
      "100%|██████████| 2612/2612 [00:04<00:00, 571.14it/s]\n"
     ]
    },
    {
     "name": "stdout",
     "output_type": "stream",
     "text": [
      "Epochs: 42 | Train Loss:  0.0723             | Train Accuracy:  0.9850             | Val Loss:  0.0844             | Val Accuracy:  0.9854\n"
     ]
    },
    {
     "name": "stderr",
     "output_type": "stream",
     "text": [
      "100%|██████████| 2612/2612 [00:03<00:00, 675.71it/s]\n"
     ]
    },
    {
     "name": "stdout",
     "output_type": "stream",
     "text": [
      "Epochs: 43 | Train Loss:  0.0708             | Train Accuracy:  0.9859             | Val Loss:  0.0831             | Val Accuracy:  0.9854\n"
     ]
    },
    {
     "name": "stderr",
     "output_type": "stream",
     "text": [
      "100%|██████████| 2612/2612 [00:03<00:00, 681.41it/s]\n"
     ]
    },
    {
     "name": "stdout",
     "output_type": "stream",
     "text": [
      "Epochs: 44 | Train Loss:  0.0695             | Train Accuracy:  0.9861             | Val Loss:  0.0818             | Val Accuracy:  0.9854\n"
     ]
    },
    {
     "name": "stderr",
     "output_type": "stream",
     "text": [
      "100%|██████████| 2612/2612 [00:04<00:00, 606.37it/s]\n"
     ]
    },
    {
     "name": "stdout",
     "output_type": "stream",
     "text": [
      "Epochs: 45 | Train Loss:  0.0680             | Train Accuracy:  0.9860             | Val Loss:  0.0805             | Val Accuracy:  0.9854\n"
     ]
    },
    {
     "name": "stderr",
     "output_type": "stream",
     "text": [
      "100%|██████████| 2612/2612 [00:04<00:00, 617.51it/s]\n"
     ]
    },
    {
     "name": "stdout",
     "output_type": "stream",
     "text": [
      "Epochs: 46 | Train Loss:  0.0666             | Train Accuracy:  0.9864             | Val Loss:  0.0792             | Val Accuracy:  0.9859\n"
     ]
    },
    {
     "name": "stderr",
     "output_type": "stream",
     "text": [
      "100%|██████████| 2612/2612 [00:03<00:00, 655.56it/s]\n"
     ]
    },
    {
     "name": "stdout",
     "output_type": "stream",
     "text": [
      "Epochs: 47 | Train Loss:  0.0654             | Train Accuracy:  0.9867             | Val Loss:  0.0780             | Val Accuracy:  0.9856\n"
     ]
    },
    {
     "name": "stderr",
     "output_type": "stream",
     "text": [
      "100%|██████████| 2612/2612 [00:03<00:00, 659.89it/s]\n"
     ]
    },
    {
     "name": "stdout",
     "output_type": "stream",
     "text": [
      "Epochs: 48 | Train Loss:  0.0641             | Train Accuracy:  0.9856             | Val Loss:  0.0768             | Val Accuracy:  0.9856\n"
     ]
    },
    {
     "name": "stderr",
     "output_type": "stream",
     "text": [
      "100%|██████████| 2612/2612 [00:03<00:00, 667.88it/s]\n"
     ]
    },
    {
     "name": "stdout",
     "output_type": "stream",
     "text": [
      "Epochs: 49 | Train Loss:  0.0628             | Train Accuracy:  0.9870             | Val Loss:  0.0755             | Val Accuracy:  0.9856\n"
     ]
    },
    {
     "name": "stderr",
     "output_type": "stream",
     "text": [
      "100%|██████████| 2612/2612 [00:04<00:00, 637.54it/s]\n"
     ]
    },
    {
     "name": "stdout",
     "output_type": "stream",
     "text": [
      "Epochs: 50 | Train Loss:  0.0612             | Train Accuracy:  0.9889             | Val Loss:  0.0743             | Val Accuracy:  0.9856\n"
     ]
    },
    {
     "name": "stderr",
     "output_type": "stream",
     "text": [
      "100%|██████████| 2612/2612 [00:03<00:00, 672.56it/s]\n"
     ]
    },
    {
     "name": "stdout",
     "output_type": "stream",
     "text": [
      "Epochs: 51 | Train Loss:  0.0601             | Train Accuracy:  0.9878             | Val Loss:  0.0731             | Val Accuracy:  0.9856\n"
     ]
    },
    {
     "name": "stderr",
     "output_type": "stream",
     "text": [
      "100%|██████████| 2612/2612 [00:04<00:00, 627.04it/s]\n"
     ]
    },
    {
     "name": "stdout",
     "output_type": "stream",
     "text": [
      "Epochs: 52 | Train Loss:  0.0589             | Train Accuracy:  0.9898             | Val Loss:  0.0719             | Val Accuracy:  0.9856\n"
     ]
    },
    {
     "name": "stderr",
     "output_type": "stream",
     "text": [
      "100%|██████████| 2612/2612 [00:03<00:00, 673.98it/s]\n"
     ]
    },
    {
     "name": "stdout",
     "output_type": "stream",
     "text": [
      "Epochs: 53 | Train Loss:  0.0576             | Train Accuracy:  0.9899             | Val Loss:  0.0708             | Val Accuracy:  0.9856\n"
     ]
    },
    {
     "name": "stderr",
     "output_type": "stream",
     "text": [
      "100%|██████████| 2612/2612 [00:03<00:00, 681.61it/s]\n"
     ]
    },
    {
     "name": "stdout",
     "output_type": "stream",
     "text": [
      "Epochs: 54 | Train Loss:  0.0562             | Train Accuracy:  0.9912             | Val Loss:  0.0696             | Val Accuracy:  0.9856\n"
     ]
    },
    {
     "name": "stderr",
     "output_type": "stream",
     "text": [
      "100%|██████████| 2612/2612 [00:04<00:00, 638.40it/s]\n"
     ]
    },
    {
     "name": "stdout",
     "output_type": "stream",
     "text": [
      "Epochs: 55 | Train Loss:  0.0550             | Train Accuracy:  0.9903             | Val Loss:  0.0685             | Val Accuracy:  0.9856\n"
     ]
    },
    {
     "name": "stderr",
     "output_type": "stream",
     "text": [
      "100%|██████████| 2612/2612 [00:03<00:00, 680.90it/s]\n"
     ]
    },
    {
     "name": "stdout",
     "output_type": "stream",
     "text": [
      "Epochs: 56 | Train Loss:  0.0537             | Train Accuracy:  0.9922             | Val Loss:  0.0674             | Val Accuracy:  0.9856\n"
     ]
    },
    {
     "name": "stderr",
     "output_type": "stream",
     "text": [
      "100%|██████████| 2612/2612 [00:04<00:00, 629.30it/s]\n"
     ]
    },
    {
     "name": "stdout",
     "output_type": "stream",
     "text": [
      "Epochs: 57 | Train Loss:  0.0524             | Train Accuracy:  0.9910             | Val Loss:  0.0663             | Val Accuracy:  0.9856\n"
     ]
    },
    {
     "name": "stderr",
     "output_type": "stream",
     "text": [
      "100%|██████████| 2612/2612 [00:04<00:00, 594.06it/s]\n"
     ]
    },
    {
     "name": "stdout",
     "output_type": "stream",
     "text": [
      "Epochs: 58 | Train Loss:  0.0516             | Train Accuracy:  0.9916             | Val Loss:  0.0652             | Val Accuracy:  0.9856\n"
     ]
    },
    {
     "name": "stderr",
     "output_type": "stream",
     "text": [
      "100%|██████████| 2612/2612 [00:04<00:00, 612.55it/s]\n"
     ]
    },
    {
     "name": "stdout",
     "output_type": "stream",
     "text": [
      "Epochs: 59 | Train Loss:  0.0507             | Train Accuracy:  0.9896             | Val Loss:  0.0642             | Val Accuracy:  0.9856\n"
     ]
    },
    {
     "name": "stderr",
     "output_type": "stream",
     "text": [
      "100%|██████████| 2612/2612 [00:04<00:00, 553.62it/s]\n"
     ]
    },
    {
     "name": "stdout",
     "output_type": "stream",
     "text": [
      "Epochs: 60 | Train Loss:  0.0491             | Train Accuracy:  0.9926             | Val Loss:  0.0631             | Val Accuracy:  0.9859\n"
     ]
    },
    {
     "name": "stderr",
     "output_type": "stream",
     "text": [
      "100%|██████████| 2612/2612 [00:03<00:00, 678.87it/s]\n"
     ]
    },
    {
     "name": "stdout",
     "output_type": "stream",
     "text": [
      "Epochs: 61 | Train Loss:  0.0480             | Train Accuracy:  0.9924             | Val Loss:  0.0621             | Val Accuracy:  0.9859\n"
     ]
    },
    {
     "name": "stderr",
     "output_type": "stream",
     "text": [
      "100%|██████████| 2612/2612 [00:03<00:00, 677.89it/s]\n"
     ]
    },
    {
     "name": "stdout",
     "output_type": "stream",
     "text": [
      "Epochs: 62 | Train Loss:  0.0472             | Train Accuracy:  0.9906             | Val Loss:  0.0611             | Val Accuracy:  0.9859\n"
     ]
    },
    {
     "name": "stderr",
     "output_type": "stream",
     "text": [
      "100%|██████████| 2612/2612 [00:03<00:00, 668.75it/s]\n"
     ]
    },
    {
     "name": "stdout",
     "output_type": "stream",
     "text": [
      "Epochs: 63 | Train Loss:  0.0462             | Train Accuracy:  0.9909             | Val Loss:  0.0601             | Val Accuracy:  0.9859\n"
     ]
    },
    {
     "name": "stderr",
     "output_type": "stream",
     "text": [
      "100%|██████████| 2612/2612 [00:03<00:00, 673.61it/s]\n"
     ]
    },
    {
     "name": "stdout",
     "output_type": "stream",
     "text": [
      "Epochs: 64 | Train Loss:  0.0450             | Train Accuracy:  0.9924             | Val Loss:  0.0591             | Val Accuracy:  0.9859\n"
     ]
    },
    {
     "name": "stderr",
     "output_type": "stream",
     "text": [
      "100%|██████████| 2612/2612 [00:04<00:00, 617.17it/s]\n"
     ]
    },
    {
     "name": "stdout",
     "output_type": "stream",
     "text": [
      "Epochs: 65 | Train Loss:  0.0440             | Train Accuracy:  0.9927             | Val Loss:  0.0581             | Val Accuracy:  0.9859\n"
     ]
    },
    {
     "name": "stderr",
     "output_type": "stream",
     "text": [
      "100%|██████████| 2612/2612 [00:04<00:00, 567.29it/s]\n"
     ]
    },
    {
     "name": "stdout",
     "output_type": "stream",
     "text": [
      "Epochs: 66 | Train Loss:  0.0432             | Train Accuracy:  0.9926             | Val Loss:  0.0571             | Val Accuracy:  0.9859\n"
     ]
    },
    {
     "name": "stderr",
     "output_type": "stream",
     "text": [
      "100%|██████████| 2612/2612 [00:04<00:00, 536.07it/s]\n"
     ]
    },
    {
     "name": "stdout",
     "output_type": "stream",
     "text": [
      "Epochs: 67 | Train Loss:  0.0421             | Train Accuracy:  0.9931             | Val Loss:  0.0562             | Val Accuracy:  0.9856\n"
     ]
    },
    {
     "name": "stderr",
     "output_type": "stream",
     "text": [
      "100%|██████████| 2612/2612 [00:03<00:00, 688.73it/s]\n"
     ]
    },
    {
     "name": "stdout",
     "output_type": "stream",
     "text": [
      "Epochs: 68 | Train Loss:  0.0412             | Train Accuracy:  0.9931             | Val Loss:  0.0552             | Val Accuracy:  0.9856\n"
     ]
    },
    {
     "name": "stderr",
     "output_type": "stream",
     "text": [
      "100%|██████████| 2612/2612 [00:03<00:00, 660.81it/s]\n"
     ]
    },
    {
     "name": "stdout",
     "output_type": "stream",
     "text": [
      "Epochs: 69 | Train Loss:  0.0402             | Train Accuracy:  0.9922             | Val Loss:  0.0543             | Val Accuracy:  0.9856\n"
     ]
    },
    {
     "name": "stderr",
     "output_type": "stream",
     "text": [
      "100%|██████████| 2612/2612 [00:04<00:00, 631.38it/s]\n"
     ]
    },
    {
     "name": "stdout",
     "output_type": "stream",
     "text": [
      "Epochs: 70 | Train Loss:  0.0394             | Train Accuracy:  0.9923             | Val Loss:  0.0534             | Val Accuracy:  0.9856\n"
     ]
    },
    {
     "name": "stderr",
     "output_type": "stream",
     "text": [
      "100%|██████████| 2612/2612 [00:04<00:00, 528.59it/s]\n"
     ]
    },
    {
     "name": "stdout",
     "output_type": "stream",
     "text": [
      "Epochs: 71 | Train Loss:  0.0387             | Train Accuracy:  0.9918             | Val Loss:  0.0525             | Val Accuracy:  0.9856\n"
     ]
    },
    {
     "name": "stderr",
     "output_type": "stream",
     "text": [
      "100%|██████████| 2612/2612 [00:03<00:00, 662.87it/s]\n"
     ]
    },
    {
     "name": "stdout",
     "output_type": "stream",
     "text": [
      "Epochs: 72 | Train Loss:  0.0374             | Train Accuracy:  0.9937             | Val Loss:  0.0517             | Val Accuracy:  0.9856\n"
     ]
    },
    {
     "name": "stderr",
     "output_type": "stream",
     "text": [
      "100%|██████████| 2612/2612 [00:04<00:00, 639.00it/s]\n"
     ]
    },
    {
     "name": "stdout",
     "output_type": "stream",
     "text": [
      "Epochs: 73 | Train Loss:  0.0369             | Train Accuracy:  0.9908             | Val Loss:  0.0508             | Val Accuracy:  0.9856\n"
     ]
    },
    {
     "name": "stderr",
     "output_type": "stream",
     "text": [
      "100%|██████████| 2612/2612 [00:03<00:00, 676.08it/s]\n"
     ]
    },
    {
     "name": "stdout",
     "output_type": "stream",
     "text": [
      "Epochs: 74 | Train Loss:  0.0358             | Train Accuracy:  0.9922             | Val Loss:  0.0500             | Val Accuracy:  0.9856\n"
     ]
    },
    {
     "name": "stderr",
     "output_type": "stream",
     "text": [
      "100%|██████████| 2612/2612 [00:03<00:00, 670.07it/s]\n"
     ]
    },
    {
     "name": "stdout",
     "output_type": "stream",
     "text": [
      "Epochs: 75 | Train Loss:  0.0350             | Train Accuracy:  0.9921             | Val Loss:  0.0491             | Val Accuracy:  0.9856\n"
     ]
    },
    {
     "name": "stderr",
     "output_type": "stream",
     "text": [
      "100%|██████████| 2612/2612 [00:03<00:00, 669.21it/s]\n"
     ]
    },
    {
     "name": "stdout",
     "output_type": "stream",
     "text": [
      "Epochs: 76 | Train Loss:  0.0342             | Train Accuracy:  0.9926             | Val Loss:  0.0483             | Val Accuracy:  0.9856\n"
     ]
    },
    {
     "name": "stderr",
     "output_type": "stream",
     "text": [
      "100%|██████████| 2612/2612 [00:03<00:00, 667.81it/s]\n"
     ]
    },
    {
     "name": "stdout",
     "output_type": "stream",
     "text": [
      "Epochs: 77 | Train Loss:  0.0333             | Train Accuracy:  0.9929             | Val Loss:  0.0475             | Val Accuracy:  0.9859\n"
     ]
    },
    {
     "name": "stderr",
     "output_type": "stream",
     "text": [
      "100%|██████████| 2612/2612 [00:04<00:00, 614.18it/s]\n"
     ]
    },
    {
     "name": "stdout",
     "output_type": "stream",
     "text": [
      "Epochs: 78 | Train Loss:  0.0326             | Train Accuracy:  0.9937             | Val Loss:  0.0467             | Val Accuracy:  0.9859\n"
     ]
    },
    {
     "name": "stderr",
     "output_type": "stream",
     "text": [
      "100%|██████████| 2612/2612 [00:04<00:00, 611.60it/s]\n"
     ]
    },
    {
     "name": "stdout",
     "output_type": "stream",
     "text": [
      "Epochs: 79 | Train Loss:  0.0316             | Train Accuracy:  0.9945             | Val Loss:  0.0459             | Val Accuracy:  0.9859\n"
     ]
    },
    {
     "name": "stderr",
     "output_type": "stream",
     "text": [
      "100%|██████████| 2612/2612 [00:04<00:00, 559.38it/s]\n"
     ]
    },
    {
     "name": "stdout",
     "output_type": "stream",
     "text": [
      "Epochs: 80 | Train Loss:  0.0312             | Train Accuracy:  0.9921             | Val Loss:  0.0452             | Val Accuracy:  0.9859\n"
     ]
    },
    {
     "name": "stderr",
     "output_type": "stream",
     "text": [
      "100%|██████████| 2612/2612 [00:04<00:00, 545.74it/s]\n"
     ]
    },
    {
     "name": "stdout",
     "output_type": "stream",
     "text": [
      "Epochs: 81 | Train Loss:  0.0306             | Train Accuracy:  0.9928             | Val Loss:  0.0444             | Val Accuracy:  0.9859\n"
     ]
    },
    {
     "name": "stderr",
     "output_type": "stream",
     "text": [
      "100%|██████████| 2612/2612 [00:04<00:00, 622.62it/s]\n"
     ]
    },
    {
     "name": "stdout",
     "output_type": "stream",
     "text": [
      "Epochs: 82 | Train Loss:  0.0295             | Train Accuracy:  0.9944             | Val Loss:  0.0437             | Val Accuracy:  0.9859\n"
     ]
    },
    {
     "name": "stderr",
     "output_type": "stream",
     "text": [
      "100%|██████████| 2612/2612 [00:03<00:00, 662.44it/s]\n"
     ]
    },
    {
     "name": "stdout",
     "output_type": "stream",
     "text": [
      "Epochs: 83 | Train Loss:  0.0291             | Train Accuracy:  0.9941             | Val Loss:  0.0430             | Val Accuracy:  0.9859\n"
     ]
    },
    {
     "name": "stderr",
     "output_type": "stream",
     "text": [
      "100%|██████████| 2612/2612 [00:03<00:00, 653.78it/s]\n"
     ]
    },
    {
     "name": "stdout",
     "output_type": "stream",
     "text": [
      "Epochs: 84 | Train Loss:  0.0285             | Train Accuracy:  0.9916             | Val Loss:  0.0423             | Val Accuracy:  0.9859\n"
     ]
    },
    {
     "name": "stderr",
     "output_type": "stream",
     "text": [
      "100%|██████████| 2612/2612 [00:03<00:00, 690.44it/s]\n"
     ]
    },
    {
     "name": "stdout",
     "output_type": "stream",
     "text": [
      "Epochs: 85 | Train Loss:  0.0278             | Train Accuracy:  0.9914             | Val Loss:  0.0416             | Val Accuracy:  0.9859\n"
     ]
    },
    {
     "name": "stderr",
     "output_type": "stream",
     "text": [
      "100%|██████████| 2612/2612 [00:03<00:00, 676.75it/s]\n"
     ]
    },
    {
     "name": "stdout",
     "output_type": "stream",
     "text": [
      "Epochs: 86 | Train Loss:  0.0269             | Train Accuracy:  0.9933             | Val Loss:  0.0409             | Val Accuracy:  0.9859\n"
     ]
    },
    {
     "name": "stderr",
     "output_type": "stream",
     "text": [
      "100%|██████████| 2612/2612 [00:04<00:00, 643.16it/s]\n"
     ]
    },
    {
     "name": "stdout",
     "output_type": "stream",
     "text": [
      "Epochs: 87 | Train Loss:  0.0262             | Train Accuracy:  0.9935             | Val Loss:  0.0402             | Val Accuracy:  0.9856\n"
     ]
    },
    {
     "name": "stderr",
     "output_type": "stream",
     "text": [
      "100%|██████████| 2612/2612 [00:04<00:00, 651.74it/s]\n"
     ]
    },
    {
     "name": "stdout",
     "output_type": "stream",
     "text": [
      "Epochs: 88 | Train Loss:  0.0255             | Train Accuracy:  0.9943             | Val Loss:  0.0395             | Val Accuracy:  0.9856\n"
     ]
    },
    {
     "name": "stderr",
     "output_type": "stream",
     "text": [
      "100%|██████████| 2612/2612 [00:03<00:00, 671.19it/s]\n"
     ]
    },
    {
     "name": "stdout",
     "output_type": "stream",
     "text": [
      "Epochs: 89 | Train Loss:  0.0251             | Train Accuracy:  0.9944             | Val Loss:  0.0389             | Val Accuracy:  0.9856\n"
     ]
    },
    {
     "name": "stderr",
     "output_type": "stream",
     "text": [
      "100%|██████████| 2612/2612 [00:03<00:00, 653.32it/s]\n"
     ]
    },
    {
     "name": "stdout",
     "output_type": "stream",
     "text": [
      "Epochs: 90 | Train Loss:  0.0246             | Train Accuracy:  0.9946             | Val Loss:  0.0382             | Val Accuracy:  0.9856\n"
     ]
    },
    {
     "name": "stderr",
     "output_type": "stream",
     "text": [
      "100%|██████████| 2612/2612 [00:04<00:00, 637.17it/s]\n"
     ]
    },
    {
     "name": "stdout",
     "output_type": "stream",
     "text": [
      "Epochs: 91 | Train Loss:  0.0237             | Train Accuracy:  0.9959             | Val Loss:  0.0376             | Val Accuracy:  0.9856\n"
     ]
    },
    {
     "name": "stderr",
     "output_type": "stream",
     "text": [
      "100%|██████████| 2612/2612 [00:03<00:00, 664.90it/s]\n"
     ]
    },
    {
     "name": "stdout",
     "output_type": "stream",
     "text": [
      "Epochs: 92 | Train Loss:  0.0233             | Train Accuracy:  0.9949             | Val Loss:  0.0370             | Val Accuracy:  0.9859\n"
     ]
    },
    {
     "name": "stderr",
     "output_type": "stream",
     "text": [
      "100%|██████████| 2612/2612 [00:04<00:00, 651.00it/s]\n"
     ]
    },
    {
     "name": "stdout",
     "output_type": "stream",
     "text": [
      "Epochs: 93 | Train Loss:  0.0226             | Train Accuracy:  0.9952             | Val Loss:  0.0364             | Val Accuracy:  0.9862\n"
     ]
    },
    {
     "name": "stderr",
     "output_type": "stream",
     "text": [
      "100%|██████████| 2612/2612 [00:04<00:00, 572.32it/s]\n"
     ]
    },
    {
     "name": "stdout",
     "output_type": "stream",
     "text": [
      "Epochs: 94 | Train Loss:  0.0222             | Train Accuracy:  0.9958             | Val Loss:  0.0358             | Val Accuracy:  0.9862\n"
     ]
    },
    {
     "name": "stderr",
     "output_type": "stream",
     "text": [
      "100%|██████████| 2612/2612 [00:04<00:00, 579.29it/s]\n"
     ]
    },
    {
     "name": "stdout",
     "output_type": "stream",
     "text": [
      "Epochs: 95 | Train Loss:  0.0216             | Train Accuracy:  0.9980             | Val Loss:  0.0353             | Val Accuracy:  0.9862\n"
     ]
    },
    {
     "name": "stderr",
     "output_type": "stream",
     "text": [
      "100%|██████████| 2612/2612 [00:03<00:00, 670.99it/s]\n"
     ]
    },
    {
     "name": "stdout",
     "output_type": "stream",
     "text": [
      "Epochs: 96 | Train Loss:  0.0213             | Train Accuracy:  0.9973             | Val Loss:  0.0347             | Val Accuracy:  0.9865\n"
     ]
    },
    {
     "name": "stderr",
     "output_type": "stream",
     "text": [
      "100%|██████████| 2612/2612 [00:04<00:00, 599.05it/s]\n"
     ]
    },
    {
     "name": "stdout",
     "output_type": "stream",
     "text": [
      "Epochs: 97 | Train Loss:  0.0204             | Train Accuracy:  0.9977             | Val Loss:  0.0342             | Val Accuracy:  0.9865\n"
     ]
    },
    {
     "name": "stderr",
     "output_type": "stream",
     "text": [
      "100%|██████████| 2612/2612 [00:03<00:00, 683.89it/s]\n"
     ]
    },
    {
     "name": "stdout",
     "output_type": "stream",
     "text": [
      "Epochs: 98 | Train Loss:  0.0202             | Train Accuracy:  0.9978             | Val Loss:  0.0337             | Val Accuracy:  0.9865\n"
     ]
    },
    {
     "name": "stderr",
     "output_type": "stream",
     "text": [
      "100%|██████████| 2612/2612 [00:03<00:00, 676.54it/s]\n"
     ]
    },
    {
     "name": "stdout",
     "output_type": "stream",
     "text": [
      "Epochs: 99 | Train Loss:  0.0193             | Train Accuracy:  0.9981             | Val Loss:  0.0331             | Val Accuracy:  0.9865\n"
     ]
    },
    {
     "name": "stderr",
     "output_type": "stream",
     "text": [
      "100%|██████████| 2612/2612 [00:03<00:00, 675.60it/s]\n"
     ]
    },
    {
     "name": "stdout",
     "output_type": "stream",
     "text": [
      "Epochs: 100 | Train Loss:  0.0192             | Train Accuracy:  0.9982             | Val Loss:  0.0326             | Val Accuracy:  0.9865\n"
     ]
    },
    {
     "name": "stderr",
     "output_type": "stream",
     "text": [
      "100%|██████████| 2612/2612 [00:03<00:00, 673.38it/s]\n"
     ]
    },
    {
     "name": "stdout",
     "output_type": "stream",
     "text": [
      "Epochs: 101 | Train Loss:  0.0186             | Train Accuracy:  0.9984             | Val Loss:  0.0322             | Val Accuracy:  0.9865\n"
     ]
    },
    {
     "name": "stderr",
     "output_type": "stream",
     "text": [
      "100%|██████████| 2612/2612 [00:03<00:00, 676.03it/s]\n"
     ]
    },
    {
     "name": "stdout",
     "output_type": "stream",
     "text": [
      "Epochs: 102 | Train Loss:  0.0183             | Train Accuracy:  0.9983             | Val Loss:  0.0317             | Val Accuracy:  0.9865\n"
     ]
    },
    {
     "name": "stderr",
     "output_type": "stream",
     "text": [
      "100%|██████████| 2612/2612 [00:03<00:00, 673.55it/s]\n"
     ]
    },
    {
     "name": "stdout",
     "output_type": "stream",
     "text": [
      "Epochs: 103 | Train Loss:  0.0178             | Train Accuracy:  0.9979             | Val Loss:  0.0312             | Val Accuracy:  0.9865\n"
     ]
    },
    {
     "name": "stderr",
     "output_type": "stream",
     "text": [
      "100%|██████████| 2612/2612 [00:03<00:00, 672.51it/s]\n"
     ]
    },
    {
     "name": "stdout",
     "output_type": "stream",
     "text": [
      "Epochs: 104 | Train Loss:  0.0174             | Train Accuracy:  0.9988             | Val Loss:  0.0307             | Val Accuracy:  0.9865\n"
     ]
    },
    {
     "name": "stderr",
     "output_type": "stream",
     "text": [
      "100%|██████████| 2612/2612 [00:03<00:00, 675.91it/s]\n"
     ]
    },
    {
     "name": "stdout",
     "output_type": "stream",
     "text": [
      "Epochs: 105 | Train Loss:  0.0170             | Train Accuracy:  0.9985             | Val Loss:  0.0303             | Val Accuracy:  0.9865\n"
     ]
    },
    {
     "name": "stderr",
     "output_type": "stream",
     "text": [
      "100%|██████████| 2612/2612 [00:04<00:00, 561.95it/s]\n"
     ]
    },
    {
     "name": "stdout",
     "output_type": "stream",
     "text": [
      "Epochs: 106 | Train Loss:  0.0165             | Train Accuracy:  0.9983             | Val Loss:  0.0298             | Val Accuracy:  0.9865\n"
     ]
    },
    {
     "name": "stderr",
     "output_type": "stream",
     "text": [
      "100%|██████████| 2612/2612 [00:04<00:00, 526.35it/s]\n"
     ]
    },
    {
     "name": "stdout",
     "output_type": "stream",
     "text": [
      "Epochs: 107 | Train Loss:  0.0163             | Train Accuracy:  0.9981             | Val Loss:  0.0294             | Val Accuracy:  0.9865\n"
     ]
    },
    {
     "name": "stderr",
     "output_type": "stream",
     "text": [
      "100%|██████████| 2612/2612 [00:04<00:00, 558.29it/s]\n"
     ]
    },
    {
     "name": "stdout",
     "output_type": "stream",
     "text": [
      "Epochs: 108 | Train Loss:  0.0157             | Train Accuracy:  0.9977             | Val Loss:  0.0290             | Val Accuracy:  0.9865\n"
     ]
    },
    {
     "name": "stderr",
     "output_type": "stream",
     "text": [
      "100%|██████████| 2612/2612 [00:04<00:00, 604.80it/s]\n"
     ]
    },
    {
     "name": "stdout",
     "output_type": "stream",
     "text": [
      "Epochs: 109 | Train Loss:  0.0154             | Train Accuracy:  0.9989             | Val Loss:  0.0285             | Val Accuracy:  0.9865\n"
     ]
    },
    {
     "name": "stderr",
     "output_type": "stream",
     "text": [
      "100%|██████████| 2612/2612 [00:04<00:00, 603.13it/s]\n"
     ]
    },
    {
     "name": "stdout",
     "output_type": "stream",
     "text": [
      "Epochs: 110 | Train Loss:  0.0149             | Train Accuracy:  0.9990             | Val Loss:  0.0281             | Val Accuracy:  0.9865\n"
     ]
    },
    {
     "name": "stderr",
     "output_type": "stream",
     "text": [
      "100%|██████████| 2612/2612 [00:04<00:00, 565.94it/s]\n"
     ]
    },
    {
     "name": "stdout",
     "output_type": "stream",
     "text": [
      "Epochs: 111 | Train Loss:  0.0146             | Train Accuracy:  0.9990             | Val Loss:  0.0277             | Val Accuracy:  0.9865\n"
     ]
    },
    {
     "name": "stderr",
     "output_type": "stream",
     "text": [
      "100%|██████████| 2612/2612 [00:04<00:00, 622.53it/s]\n"
     ]
    },
    {
     "name": "stdout",
     "output_type": "stream",
     "text": [
      "Epochs: 112 | Train Loss:  0.0142             | Train Accuracy:  0.9988             | Val Loss:  0.0274             | Val Accuracy:  0.9865\n"
     ]
    },
    {
     "name": "stderr",
     "output_type": "stream",
     "text": [
      "100%|██████████| 2612/2612 [00:04<00:00, 583.08it/s]\n"
     ]
    },
    {
     "name": "stdout",
     "output_type": "stream",
     "text": [
      "Epochs: 113 | Train Loss:  0.0138             | Train Accuracy:  0.9992             | Val Loss:  0.0270             | Val Accuracy:  0.9865\n"
     ]
    },
    {
     "name": "stderr",
     "output_type": "stream",
     "text": [
      "100%|██████████| 2612/2612 [00:03<00:00, 686.78it/s]\n"
     ]
    },
    {
     "name": "stdout",
     "output_type": "stream",
     "text": [
      "Epochs: 114 | Train Loss:  0.0135             | Train Accuracy:  0.9992             | Val Loss:  0.0266             | Val Accuracy:  0.9865\n"
     ]
    },
    {
     "name": "stderr",
     "output_type": "stream",
     "text": [
      "100%|██████████| 2612/2612 [00:03<00:00, 665.46it/s]\n"
     ]
    },
    {
     "name": "stdout",
     "output_type": "stream",
     "text": [
      "Epochs: 115 | Train Loss:  0.0131             | Train Accuracy:  0.9991             | Val Loss:  0.0263             | Val Accuracy:  0.9865\n"
     ]
    },
    {
     "name": "stderr",
     "output_type": "stream",
     "text": [
      "100%|██████████| 2612/2612 [00:04<00:00, 638.28it/s]\n"
     ]
    },
    {
     "name": "stdout",
     "output_type": "stream",
     "text": [
      "Epochs: 116 | Train Loss:  0.0128             | Train Accuracy:  0.9995             | Val Loss:  0.0259             | Val Accuracy:  0.9865\n"
     ]
    },
    {
     "name": "stderr",
     "output_type": "stream",
     "text": [
      "100%|██████████| 2612/2612 [00:03<00:00, 674.99it/s]\n"
     ]
    },
    {
     "name": "stdout",
     "output_type": "stream",
     "text": [
      "Epochs: 117 | Train Loss:  0.0126             | Train Accuracy:  0.9993             | Val Loss:  0.0256             | Val Accuracy:  0.9865\n"
     ]
    },
    {
     "name": "stderr",
     "output_type": "stream",
     "text": [
      "100%|██████████| 2612/2612 [00:03<00:00, 667.93it/s]\n"
     ]
    },
    {
     "name": "stdout",
     "output_type": "stream",
     "text": [
      "Epochs: 118 | Train Loss:  0.0122             | Train Accuracy:  0.9994             | Val Loss:  0.0253             | Val Accuracy:  0.9865\n"
     ]
    },
    {
     "name": "stderr",
     "output_type": "stream",
     "text": [
      "100%|██████████| 2612/2612 [00:03<00:00, 668.91it/s]\n"
     ]
    },
    {
     "name": "stdout",
     "output_type": "stream",
     "text": [
      "Epochs: 119 | Train Loss:  0.0119             | Train Accuracy:  0.9994             | Val Loss:  0.0250             | Val Accuracy:  0.9865\n"
     ]
    },
    {
     "name": "stderr",
     "output_type": "stream",
     "text": [
      "100%|██████████| 2612/2612 [00:04<00:00, 627.73it/s]\n"
     ]
    },
    {
     "name": "stdout",
     "output_type": "stream",
     "text": [
      "Epochs: 120 | Train Loss:  0.0117             | Train Accuracy:  0.9992             | Val Loss:  0.0247             | Val Accuracy:  0.9868\n"
     ]
    }
   ],
   "source": [
    "import torch\n",
    "import torch.nn as nn\n",
    "import torch.nn.functional as F\n",
    "from torch.optim import Adam\n",
    "from torch.utils.data import Dataset, DataLoader\n",
    "from tqdm import tqdm\n",
    "from sklearn import metrics\n",
    "\n",
    "EPOCHS = 120\n",
    "LR = 1e-6\n",
    "BATCH_SIZE = 4\n",
    "intermediate_train_path = f'{intermediate_directory}/train.txt'\n",
    "intermediate_val_path = f'{intermediate_directory}/val.txt'\n",
    "MODEL_SAVE_PATH = f'{root_directory}/ensemble_model/{DATASET_MASKING}{DATASET_NAME}'\n",
    "mkdir_if_not_exist(f'{root_directory}/ensemble_model')\n",
    "remove_file_if_exist(MODEL_SAVE_PATH)\n",
    "mkdir_if_not_exist(MODEL_SAVE_PATH)\n",
    "device = torch.device('cuda' if torch.cuda.is_available() else 'cpu')\n",
    "\n",
    "seed = 42\n",
    "os.environ['PYTHONHASHSEED'] = str(seed)\n",
    "torch.manual_seed(seed)\n",
    "torch.cuda.manual_seed(seed)\n",
    "torch.cuda.manual_seed_all(seed)\n",
    "np.random.seed(seed)\n",
    "random.seed(seed)\n",
    "torch.backends.cudnn.benchmark = False\n",
    "torch.backends.cudnn.deterministic = True\n",
    "\n",
    "class MyDataset(Dataset):\n",
    "    def __init__(self, path):\n",
    "        with open(path) as f:\n",
    "            data_list = f.read().split('\\n')\n",
    "        self.labels = [ int(data.split('\\t')[-1]) for data in data_list ]\n",
    "        self.inputs = [ [float(v) for v in data.split('\\t')[:-1]] for data in data_list ]\n",
    "        assert(len(self.labels) == len(self.inputs))\n",
    "\n",
    "    def classes(self):\n",
    "        return self.labels\n",
    "\n",
    "    def __len__(self):\n",
    "        return len(self.labels)\n",
    "\n",
    "    def __getitem__(self, idx):\n",
    "        x = self.inputs[idx]\n",
    "        y = self.labels[idx]\n",
    "        return x[0], x[1], x[2], x[3], y\n",
    "\n",
    "class MLP(nn.Module):\n",
    "    def __init__(self, input_dim, output_dim):\n",
    "        super().__init__()\n",
    "\n",
    "        self.dropout = nn.Dropout(0.1)\n",
    "        self.fc1 = nn.Linear(input_dim, 20)\n",
    "        self.out = nn.Linear(20, output_dim)\n",
    "\n",
    "    def forward(self, x):\n",
    "        x = self.fc1(x)\n",
    "        x = F.relu(x)\n",
    "        x = self.dropout(x)\n",
    "        x = self.out(x)\n",
    "        return x\n",
    "\n",
    "def train(model, train_dataset, val_dataset):\n",
    "    train_dataloader = DataLoader(train_dataset, batch_size=BATCH_SIZE)\n",
    "    val_dataloader = DataLoader(val_dataset, batch_size=BATCH_SIZE)\n",
    "\n",
    "    model = model.to(device)\n",
    "    optimizer = Adam(model.parameters(), lr=LR)\n",
    "    criterion = nn.CrossEntropyLoss()\n",
    "    criterion = criterion.to(device)\n",
    "\n",
    "    for epoch_num in range(EPOCHS):\n",
    "        model.train()\n",
    "        total_acc_train = 0\n",
    "        total_loss_train = 0\n",
    "        for x1, x2, x3, x4, y in tqdm(train_dataloader):\n",
    "            x = torch.transpose(torch.stack([x1, x2, x3, x4]), 0, 1).float().to(device)\n",
    "            y = y.to(device)\n",
    "            y_pred = model(x)\n",
    "\n",
    "            loss = criterion(y_pred, y)\n",
    "            total_loss_train += loss.item()\n",
    "\n",
    "            acc = (y_pred.argmax(dim=1) == y).sum().item()\n",
    "            total_acc_train += acc\n",
    "\n",
    "            model.zero_grad()\n",
    "            loss.backward()\n",
    "            optimizer.step()\n",
    "\n",
    "        total_acc_val = 0\n",
    "        total_loss_val = 0\n",
    "        model.eval()\n",
    "        with torch.no_grad():\n",
    "            for x1, x2, x3, x4, y in val_dataloader:\n",
    "                x = torch.transpose(torch.stack([x1, x2, x3, x4]), 0, 1).float().to(device)\n",
    "                y = y.to(device)\n",
    "                y_pred = model(x)\n",
    "\n",
    "                loss = criterion(y_pred, y)\n",
    "                total_loss_val += loss.item()\n",
    "\n",
    "                acc = (y_pred.argmax(dim=1) == y).sum().item()\n",
    "                total_acc_val += acc\n",
    "\n",
    "        print(\n",
    "            f'Epochs: {epoch_num + 1} | Train Loss: {total_loss_train / len(train_dataset): .4f} \\\n",
    "            | Train Accuracy: {total_acc_train / len(train_dataset): .4f} \\\n",
    "            | Val Loss: {total_loss_val / len(val_dataset): .4f} \\\n",
    "            | Val Accuracy: {total_acc_val / len(val_dataset): .4f}')\n",
    "\n",
    "        val_acc = f'{total_acc_val / len(val_dataset):.4f}'\n",
    "        torch.save(model.state_dict(), f'{MODEL_SAVE_PATH}/ensemble2_{val_acc}_epoch{epoch_num + 1}.pt')\n",
    "\n",
    "train_dataset = MyDataset(intermediate_train_path)\n",
    "val_dataset = MyDataset(intermediate_val_path)\n",
    "\n",
    "model = MLP(4, 2)\n",
    "train(model, train_dataset, val_dataset)\n"
   ]
  },
  {
   "cell_type": "code",
   "execution_count": 20,
   "metadata": {},
   "outputs": [
    {
     "name": "stdout",
     "output_type": "stream",
     "text": [
      "Test Accuracy:  0.9868\n",
      "              precision    recall  f1-score   support\n",
      "\n",
      "      benign     0.9851    0.9920    0.9885      1995\n",
      "  vulnerable     0.9892    0.9799    0.9845      1489\n",
      "\n",
      "    accuracy                         0.9868      3484\n",
      "   macro avg     0.9871    0.9859    0.9865      3484\n",
      "weighted avg     0.9868    0.9868    0.9868      3484\n",
      "\n",
      "[[1979   16]\n",
      " [  30 1459]]\n"
     ]
    }
   ],
   "source": [
    "def evaluate(model, test_dataset):\n",
    "    test_dataloader = DataLoader(test_dataset, batch_size=BATCH_SIZE)\n",
    "    model = model.to(device)\n",
    "    \n",
    "    total_acc_test = 0\n",
    "    predict_all = np.array([], dtype=int)\n",
    "    labels_all = np.array([], dtype=int)\n",
    "    model.eval()\n",
    "    with torch.no_grad():\n",
    "        for x1, x2, x3, x4, y in test_dataloader:\n",
    "            x = torch.transpose(torch.stack([x1, x2, x3, x4]), 0, 1).float().to(device)\n",
    "            y = y.to(device)\n",
    "            y_pred = model(x)\n",
    "            \n",
    "            acc = (y_pred.argmax(dim=1) == y).sum().item()\n",
    "            total_acc_test += acc\n",
    "            \n",
    "            y = y.data.cpu().numpy()\n",
    "            predic = y_pred.argmax(dim=1).data.cpu().numpy()\n",
    "            labels_all = np.append(labels_all, y)\n",
    "            predict_all = np.append(predict_all, predic)\n",
    "\n",
    "    report = metrics.classification_report(labels_all, predict_all, target_names=['benign', 'vulnerable'], digits=4)\n",
    "    confusion = metrics.confusion_matrix(labels_all, predict_all)\n",
    "    print(f'Test Accuracy: {total_acc_test / len(test_dataset): .4f}')\n",
    "    print(report)\n",
    "    print(confusion)\n",
    "\n",
    "mkdir_if_not_exist(MODEL_SAVE_PATH)\n",
    "model = MLP(4, 2)\n",
    "saved_model_name = 'ensemble2_0.9868_epoch120.pt'\n",
    "model.load_state_dict(torch.load(f'{MODEL_SAVE_PATH}/{saved_model_name}'))\n",
    "evaluate(model, val_dataset)\n",
    "\n",
    "    "
   ]
  },
  {
   "cell_type": "code",
   "execution_count": null,
   "metadata": {},
   "outputs": [],
   "source": []
  }
 ],
 "metadata": {
  "kernelspec": {
   "display_name": "Python 3 (ipykernel)",
   "language": "python",
   "name": "python3"
  },
  "language_info": {
   "codemirror_mode": {
    "name": "ipython",
    "version": 3
   },
   "file_extension": ".py",
   "mimetype": "text/x-python",
   "name": "python",
   "nbconvert_exporter": "python",
   "pygments_lexer": "ipython3",
   "version": "3.8.10"
  }
 },
 "nbformat": 4,
 "nbformat_minor": 4
}
