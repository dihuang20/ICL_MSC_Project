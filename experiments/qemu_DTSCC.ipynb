{
 "cells": [
  {
   "cell_type": "markdown",
   "metadata": {
    "tags": []
   },
   "source": [
    "# Global settings"
   ]
  },
  {
   "cell_type": "code",
   "execution_count": null,
   "metadata": {},
   "outputs": [],
   "source": [
    "# References:\n",
    "# This source code file refers to:\n",
    "# https://github.com/ICL-ml4csec/VulBERTa\n",
    "# https://towardsdatascience.com/text-classification-with-bert-in-pytorch-887965e5820f\n",
    "# https://huggingface.co/docs/transformers/model_doc/roberta\n",
    "# https://colab.research.google.com/github/dpressel/dlss-tutorial/blob/master/1_pretrained_vectors.ipynb\n"
   ]
  },
  {
   "cell_type": "code",
   "execution_count": 1,
   "metadata": {},
   "outputs": [
    {
     "name": "stdout",
     "output_type": "stream",
     "text": [
      "using cuda\n"
     ]
    }
   ],
   "source": [
    "import os\n",
    "os.environ['CUDA_LAUNCH_BLOCKING'] = \"1\"\n",
    "import random\n",
    "import torch\n",
    "import numpy as np\n",
    "import shutil\n",
    "\n",
    "def write_to_file(text, path, mode='a'): # 'a': append; 'w': overwrite\n",
    "    with open(path, mode) as f:\n",
    "        f.write(text)\n",
    "\n",
    "def mkdir_if_not_exist(directory):\n",
    "    if not directory: return\n",
    "    if not os.path.exists(directory):\n",
    "        os.mkdir(directory)\n",
    "\n",
    "def remove_file_if_exist(path):\n",
    "    if not path: return\n",
    "    if os.path.exists(path):\n",
    "        try:\n",
    "            os.remove(path)\n",
    "        except:\n",
    "            shutil.rmtree(path)\n",
    "\n",
    "device = torch.device(\"cuda\" if torch.cuda.is_available() else \"cpu\")\n",
    "print('using', device)\n",
    "\n",
    "# The following randomization refers to: https://github.com/ICL-ml4csec/VulBERTa/blob/main/Finetuning_VulBERTa-MLP.ipynb\n",
    "seed = 42\n",
    "os.environ['PYTHONHASHSEED'] = str(seed)\n",
    "torch.manual_seed(seed)\n",
    "torch.cuda.manual_seed(seed)\n",
    "torch.cuda.manual_seed_all(seed)\n",
    "np.random.seed(seed)\n",
    "random.seed(seed)\n",
    "torch.backends.cudnn.benchmark = False\n",
    "torch.backends.cudnn.deterministic = True\n",
    "os.environ['WANDB_DISABLED'] = 'true'\n",
    "os.environ['WANDB_MODE'] = 'dryrun'\n",
    "\n",
    "# -------------------------------------- start\n",
    "\n",
    "DATASET_NAME = 'qemu'\n",
    "# DATASET_MASKING = 'masked_'\n",
    "DATASET_MASKING = ''\n",
    "\n",
    "codeTF_check_point = 'checkpoint-6681'\n",
    "msgTF_check_point = 'roberta_large_qemu_0.976_ep12.pt'\n",
    "\n",
    "# -------------------------------------- end\n",
    "\n",
    "root_directory = '/root/autodl-tmp'\n",
    "dataset_directory = f'{root_directory}/output_dataset_1/{DATASET_MASKING}{DATASET_NAME}'\n",
    "init_train_path = f'{dataset_directory}/train.json'\n",
    "init_val_path = f'{dataset_directory}/val.json'\n",
    "init_test_path = f'{dataset_directory}/test.json'\n",
    "intermediate_directory = f'{root_directory}/intermediate/{DATASET_MASKING}{DATASET_NAME}'\n",
    "mkdir_if_not_exist(f'{root_directory}/intermediate')\n",
    "mkdir_if_not_exist(intermediate_directory)\n",
    "\n",
    "finetuned_ct_model_path = f'{root_directory}/codeTF_check_point/{DATASET_MASKING}{DATASET_NAME}/{codeTF_check_point}'\n",
    "intermediate_ct_train_path = f'{intermediate_directory}/ct_train.txt'\n",
    "intermediate_ct_val_path = f'{intermediate_directory}/ct_val.txt'\n",
    "intermediate_ct_test_path = f'{intermediate_directory}/ct_test.txt'\n",
    "\n",
    "finetuned_mt_model_path = f'{root_directory}/msgTF_check_point/{DATASET_MASKING}{DATASET_NAME}/{msgTF_check_point}'\n",
    "intermediate_mt_train_path = f'{intermediate_directory}/mt_train.txt'\n",
    "intermediate_mt_val_path = f'{intermediate_directory}/mt_val.txt'\n",
    "intermediate_mt_test_path = f'{intermediate_directory}/mt_test.txt'\n"
   ]
  },
  {
   "cell_type": "markdown",
   "metadata": {
    "tags": []
   },
   "source": [
    "# CodeTransformer"
   ]
  },
  {
   "cell_type": "code",
   "execution_count": 2,
   "metadata": {},
   "outputs": [
    {
     "name": "stdout",
     "output_type": "stream",
     "text": [
      "Generating codeTF intermediate dataset:\n"
     ]
    },
    {
     "name": "stderr",
     "output_type": "stream",
     "text": [
      "100%|██████████| 70/70 [02:07<00:00,  1.81s/it]\n",
      "100%|██████████| 24/24 [00:42<00:00,  1.78s/it]\n"
     ]
    },
    {
     "name": "stdout",
     "output_type": "stream",
     "text": [
      "\n",
      "Evaluation:\n"
     ]
    },
    {
     "name": "stderr",
     "output_type": "stream",
     "text": [
      "100%|██████████| 24/24 [00:42<00:00,  1.78s/it]"
     ]
    },
    {
     "name": "stdout",
     "output_type": "stream",
     "text": [
      "Confusion matrix: \n",
      " [[1267  471]\n",
      " [ 564  667]]\n",
      "\n",
      "TP: 667\n",
      "FP: 471\n",
      "TN: 1267\n",
      "FN: 564\n",
      "\n",
      "Accuracy: 0.6513977770293028\n",
      "Precision: 0.5861159929701231\n",
      "Recall: 0.5418359057676686\n",
      "F-measure: 0.5631067961165049\n",
      "Precision-Recall AUC: 0.6056356912068408\n",
      "AUC: 0.6834732584303275\n",
      "MCC: 0.2744372153612606\n"
     ]
    },
    {
     "name": "stderr",
     "output_type": "stream",
     "text": [
      "\n"
     ]
    }
   ],
   "source": [
    "from tqdm import tqdm\n",
    "import sys\n",
    "import pandas as pd\n",
    "import numpy as np\n",
    "import csv\n",
    "import pickle\n",
    "import re\n",
    "import torch\n",
    "import sklearn\n",
    "import random\n",
    "import clang\n",
    "from clang import *\n",
    "from clang import cindex\n",
    "from pathlib import Path\n",
    "from tokenizers import ByteLevelBPETokenizer\n",
    "from tokenizers.implementations import ByteLevelBPETokenizer\n",
    "from tokenizers.processors import BertProcessing\n",
    "from torch.utils.data import Dataset, DataLoader, IterableDataset\n",
    "from transformers import RobertaConfig\n",
    "from transformers import RobertaForMaskedLM, RobertaForSequenceClassification\n",
    "from transformers import RobertaTokenizerFast\n",
    "from transformers import DataCollatorForLanguageModeling\n",
    "from transformers import Trainer, TrainingArguments\n",
    "from transformers import LineByLineTextDataset\n",
    "from transformers.modeling_outputs import SequenceClassifierOutput\n",
    "from tokenizers.pre_tokenizers import PreTokenizer\n",
    "from tokenizers.pre_tokenizers import Whitespace\n",
    "from tokenizers import NormalizedString,PreTokenizedString\n",
    "from typing import List\n",
    "from tokenizers import Tokenizer\n",
    "from tokenizers import normalizers,decoders\n",
    "from tokenizers.normalizers import StripAccents, unicode_normalizer_from_str, Replace\n",
    "from tokenizers.processors import TemplateProcessing\n",
    "from tokenizers import processors,pre_tokenizers\n",
    "from tokenizers.models import BPE\n",
    "\n",
    "# definitions\n",
    "class MyTokenizer:\n",
    "    cidx = cindex.Index.create()\n",
    "\n",
    "    def clang_split(self, i: int, normalized_string: NormalizedString) -> List[NormalizedString]:\n",
    "        ## Tokkenize using clang\n",
    "        tok = []\n",
    "        tu = self.cidx.parse('tmp.c',\n",
    "                       args=[''],  \n",
    "                       unsaved_files=[('tmp.c', str(normalized_string.original))],  \n",
    "                       options=0)\n",
    "        for t in tu.get_tokens(extent=tu.cursor.extent):\n",
    "            spelling = t.spelling.strip()\n",
    "            if spelling == '': continue\n",
    "            ## Keyword no need\n",
    "            ## Punctuations no need\n",
    "            ## Literal all to BPE\n",
    "            #spelling = spelling.replace(' ', '')\n",
    "            tok.append(NormalizedString(spelling))\n",
    "        return(tok)\n",
    "\n",
    "    def pre_tokenize(self, pretok: PreTokenizedString):\n",
    "        pretok.split(self.clang_split)\n",
    "\n",
    "def process_encodings(encodings):\n",
    "    input_ids=[]\n",
    "    attention_mask=[]\n",
    "    for enc in encodings:\n",
    "        input_ids.append(enc.ids)\n",
    "        attention_mask.append(enc.attention_mask)\n",
    "    return {'input_ids':input_ids, 'attention_mask':attention_mask}\n",
    "\n",
    "class MyCustomDataset(Dataset):\n",
    "    def __init__(self, encodings, labels):\n",
    "        self.encodings = encodings\n",
    "        self.labels = labels\n",
    "        assert len(self.encodings['input_ids']) == len(self.encodings['attention_mask']) ==  len(self.labels)\n",
    "\n",
    "    def __getitem__(self, idx):\n",
    "        item = {key: torch.tensor(val[idx]) for key, val in self.encodings.items()}\n",
    "        item['labels'] = torch.tensor(self.labels[idx])\n",
    "        return item\n",
    "\n",
    "    def __len__(self):\n",
    "        return len(self.labels)\n",
    "\n",
    "# ------------------------------------------------------------------------------\n",
    "# tokenize and load dataset\n",
    "vocab, merges = BPE.read_file(vocab=\"./tokenizer/drapgh-vocab.json\", merges=\"./tokenizer/drapgh-merges.txt\")\n",
    "my_tokenizer = Tokenizer(BPE(vocab, merges, unk_token=\"<unk>\"))\n",
    "\n",
    "my_tokenizer.normalizer = normalizers.Sequence([StripAccents(), Replace(\" \", \"Ä\")])\n",
    "my_tokenizer.pre_tokenizer = PreTokenizer.custom(MyTokenizer())\n",
    "my_tokenizer.post_processor = processors.ByteLevel(trim_offsets=False)\n",
    "my_tokenizer.post_processor = TemplateProcessing(\n",
    "    single=\"<s> $A </s>\",\n",
    "    special_tokens=[\n",
    "    (\"<s>\",0),\n",
    "    (\"<pad>\",1),\n",
    "    (\"</s>\",2),\n",
    "    (\"<unk>\",3),\n",
    "    (\"<mask>\",4)\n",
    "    ]\n",
    ")\n",
    "\n",
    "my_tokenizer.enable_truncation(max_length=1024)\n",
    "my_tokenizer.enable_padding(direction='right', pad_id=1, pad_type_id=0, pad_token='<pad>', length=None, pad_to_multiple_of=None)\n",
    "\n",
    "m1 = pd.read_json(init_train_path)\n",
    "m2 = pd.read_json(init_val_path)\n",
    "\n",
    "train_encodings = my_tokenizer.encode_batch(m1.commit_patch)\n",
    "train_encodings = process_encodings(train_encodings)\n",
    "\n",
    "val_encodings = my_tokenizer.encode_batch(m2.commit_patch)\n",
    "val_encodings = process_encodings(val_encodings)\n",
    "\n",
    "train_dataset = MyCustomDataset(train_encodings, m1.label.tolist())\n",
    "val_dataset = MyCustomDataset(val_encodings, m2.label.tolist())\n",
    "\n",
    "train_loader = DataLoader(train_dataset, batch_size=128)\n",
    "val_loader = DataLoader(val_dataset, batch_size=128)\n",
    "\n",
    "# ------------------------------------------------------------------------------\n",
    "# generate intermediate data by CodeTransformer\n",
    "model = RobertaForSequenceClassification.from_pretrained(finetuned_ct_model_path)\n",
    "model.to(device)\n",
    "\n",
    "def generate_ct_intermediate_dataset(data_loader, intermediate_data_path):\n",
    "    # model.eval()\n",
    "    with torch.no_grad():\n",
    "        for batch in tqdm(data_loader):\n",
    "            input_ids = batch['input_ids'].to(device)\n",
    "            attention_mask = batch['attention_mask'].to(device)\n",
    "            labels = batch['labels'].to(device)\n",
    "            outputs = model(input_ids, attention_mask=attention_mask)\n",
    "            probs = torch.nn.functional.softmax(outputs[0], dim=1).tolist()\n",
    "            assert(len(probs) == len(labels))\n",
    "            for i in range(len(probs)):\n",
    "                prob = probs[i]\n",
    "                label = int(labels[i])\n",
    "                content = '\\t'.join([str(i) for i in prob + [label]]) + '\\n'\n",
    "                write_to_file(content, intermediate_data_path)\n",
    "\n",
    "remove_file_if_exist(intermediate_ct_train_path)\n",
    "remove_file_if_exist(intermediate_ct_val_path)\n",
    "\n",
    "print('Generating codeTF intermediate dataset:')\n",
    "generate_ct_intermediate_dataset(train_loader, intermediate_ct_train_path)\n",
    "del train_loader\n",
    "generate_ct_intermediate_dataset(val_loader, intermediate_ct_val_path)\n",
    "del val_loader\n",
    "\n",
    "# ------------------------------------------------------------------------------\n",
    "# evaluation\n",
    "print('\\nEvaluation:')\n",
    "model = RobertaForSequenceClassification.from_pretrained(finetuned_ct_model_path)\n",
    "\n",
    "test_loader = DataLoader(val_dataset, batch_size=128)\n",
    "\n",
    "def softmax_accuracy(probs,all_labels):\n",
    "    def getClass(x):\n",
    "        return(x.index(max(x)))\n",
    "\n",
    "    all_labels = all_labels.tolist()\n",
    "    probs = pd.Series(probs.tolist())\n",
    "    all_predicted = probs.apply(getClass)\n",
    "    all_predicted.reset_index(drop=True, inplace=True)\n",
    "    vc = pd.value_counts(all_predicted == all_labels)\n",
    "    try:\n",
    "        acc = vc[1]/len(all_labels)\n",
    "    except:\n",
    "        if(vc.index[0]==False):\n",
    "            acc = 0\n",
    "        else:\n",
    "            acc = 1\n",
    "    return(acc,all_predicted)\n",
    "\n",
    "model.to(device)\n",
    "\n",
    "all_pred=[]\n",
    "all_labels=[]\n",
    "all_probs=[]\n",
    "model.eval()\n",
    "with torch.no_grad():\n",
    "    for batch in tqdm(test_loader):\n",
    "        input_ids = batch['input_ids'].to(device)\n",
    "        attention_mask = batch['attention_mask'].to(device)\n",
    "        labels = batch['labels'].to(device)\n",
    "        outputs = model(input_ids, attention_mask=attention_mask, labels=labels)\n",
    "        loss = outputs[0]\n",
    "        acc_val,pred = softmax_accuracy(torch.nn.functional.softmax(outputs[1],dim=1),labels)\n",
    "        all_pred += pred.tolist()\n",
    "        all_labels += labels.tolist()\n",
    "        all_probs += outputs[1].tolist()\n",
    "\n",
    "confusion = sklearn.metrics.confusion_matrix(y_true=all_labels, y_pred=all_pred)\n",
    "print('Confusion matrix: \\n',confusion)\n",
    "\n",
    "tn, fp, fn, tp = confusion.ravel()\n",
    "print('\\nTP:',tp)\n",
    "print('FP:',fp)\n",
    "print('TN:',tn)\n",
    "print('FN:',fn)\n",
    "\n",
    "probs2=[]\n",
    "for x in all_probs:\n",
    "    probs2.append(x[1])\n",
    "\n",
    "## Performance measure\n",
    "print('\\nAccuracy: '+ str(sklearn.metrics.accuracy_score(y_true=all_labels, y_pred=all_pred)))\n",
    "print('Precision: '+ str(sklearn.metrics.precision_score(y_true=all_labels, y_pred=all_pred)))\n",
    "print('Recall: '+ str(sklearn.metrics.recall_score(y_true=all_labels, y_pred=all_pred)))\n",
    "print('F-measure: '+ str(sklearn.metrics.f1_score(y_true=all_labels, y_pred=all_pred)))\n",
    "print('Precision-Recall AUC: '+ str(sklearn.metrics.average_precision_score(y_true=all_labels, y_score=probs2)))\n",
    "print('AUC: '+ str(sklearn.metrics.roc_auc_score(y_true=all_labels, y_score=probs2)))\n",
    "print('MCC: '+ str(sklearn.metrics.matthews_corrcoef(y_true=all_labels, y_pred=all_pred)))\n",
    "\n"
   ]
  },
  {
   "cell_type": "markdown",
   "metadata": {
    "tags": []
   },
   "source": [
    "# MsgTransformer"
   ]
  },
  {
   "cell_type": "code",
   "execution_count": 3,
   "metadata": {},
   "outputs": [
    {
     "name": "stderr",
     "output_type": "stream",
     "text": [
      "Some weights of the model checkpoint at roberta-large were not used when initializing RobertaModel: ['lm_head.layer_norm.weight', 'lm_head.dense.bias', 'lm_head.layer_norm.bias', 'lm_head.decoder.weight', 'lm_head.bias', 'lm_head.dense.weight']\n",
      "- This IS expected if you are initializing RobertaModel from the checkpoint of a model trained on another task or with another architecture (e.g. initializing a BertForSequenceClassification model from a BertForPreTraining model).\n",
      "- This IS NOT expected if you are initializing RobertaModel from the checkpoint of a model that you expect to be exactly identical (initializing a BertForSequenceClassification model from a BertForSequenceClassification model).\n",
      "100%|██████████| 70/70 [02:32<00:00,  2.17s/it]\n",
      "100%|██████████| 24/24 [00:50<00:00,  2.12s/it]\n"
     ]
    },
    {
     "name": "stdout",
     "output_type": "stream",
     "text": [
      "\n",
      "Evaluation:\n"
     ]
    },
    {
     "name": "stderr",
     "output_type": "stream",
     "text": [
      "Some weights of the model checkpoint at roberta-large were not used when initializing RobertaModel: ['lm_head.layer_norm.weight', 'lm_head.dense.bias', 'lm_head.layer_norm.bias', 'lm_head.decoder.weight', 'lm_head.bias', 'lm_head.dense.weight']\n",
      "- This IS expected if you are initializing RobertaModel from the checkpoint of a model trained on another task or with another architecture (e.g. initializing a BertForSequenceClassification model from a BertForPreTraining model).\n",
      "- This IS NOT expected if you are initializing RobertaModel from the checkpoint of a model that you expect to be exactly identical (initializing a BertForSequenceClassification model from a BertForSequenceClassification model).\n"
     ]
    },
    {
     "name": "stdout",
     "output_type": "stream",
     "text": [
      "Test Accuracy:  0.976\n",
      "              precision    recall  f1-score   support\n",
      "\n",
      "      benign     0.9749    0.9839    0.9794      1738\n",
      "  vulnerable     0.9770    0.9643    0.9706      1231\n",
      "\n",
      "    accuracy                         0.9757      2969\n",
      "   macro avg     0.9759    0.9741    0.9750      2969\n",
      "weighted avg     0.9758    0.9757    0.9757      2969\n",
      "\n",
      "[[1710   28]\n",
      " [  44 1187]]\n"
     ]
    }
   ],
   "source": [
    "import pandas as pd\n",
    "import numpy as np\n",
    "import torch\n",
    "from transformers import BertTokenizer\n",
    "from torch import nn\n",
    "from transformers import BertModel\n",
    "from transformers import RobertaModel, RobertaTokenizerFast\n",
    "from torch.optim import Adam\n",
    "from tqdm import tqdm\n",
    "from sklearn import metrics\n",
    "from torch.nn.parallel import DistributedDataParallel\n",
    "import os\n",
    "import random\n",
    "\n",
    "# definitions\n",
    "seed = 42\n",
    "os.environ['PYTHONHASHSEED'] = str(seed)\n",
    "torch.manual_seed(seed)\n",
    "torch.cuda.manual_seed(seed)\n",
    "torch.cuda.manual_seed_all(seed)\n",
    "np.random.seed(seed)\n",
    "random.seed(seed)\n",
    "torch.backends.cudnn.benchmark = False\n",
    "torch.backends.cudnn.deterministic = True\n",
    "\n",
    "BERT_CONFIG = 'roberta-large'\n",
    "labels = {0:0, 1:1}\n",
    "BATCH_SIZE = 128\n",
    "tokenizer = RobertaTokenizerFast.from_pretrained(BERT_CONFIG)\n",
    "\n",
    "class Dataset(torch.utils.data.Dataset):\n",
    "    def __init__(self, df):\n",
    "        self.labels = [labels[label] for label in df['label']]\n",
    "        self.texts = [tokenizer(text, padding='max_length', max_length=512, truncation=True,\n",
    "                                return_tensors=\"pt\") for text in df['commit_message']]\n",
    "\n",
    "    def classes(self):\n",
    "        return self.labels\n",
    "\n",
    "    def __len__(self):\n",
    "        return len(self.labels)\n",
    "\n",
    "    def get_batch_labels(self, idx):\n",
    "        # Fetch a batch of labels\n",
    "        return np.array(self.labels[idx])\n",
    "\n",
    "    def get_batch_texts(self, idx):\n",
    "        # Fetch a batch of inputs\n",
    "        return self.texts[idx]\n",
    "\n",
    "    def __getitem__(self, idx):\n",
    "        batch_texts = self.get_batch_texts(idx)\n",
    "        batch_y = self.get_batch_labels(idx)\n",
    "        return batch_texts, batch_y\n",
    "\n",
    "class BertClassifier(nn.Module):\n",
    "    def __init__(self, dropout=0.5):\n",
    "        super(BertClassifier, self).__init__()\n",
    "\n",
    "        self.bert = RobertaModel.from_pretrained(BERT_CONFIG)\n",
    "        self.dropout = nn.Dropout(dropout)\n",
    "        if BERT_CONFIG == 'roberta-large':\n",
    "            self.linear = nn.Linear(1024, len(labels))\n",
    "        else:\n",
    "            self.linear = nn.Linear(768, len(labels))\n",
    "        self.relu = nn.ReLU()\n",
    "\n",
    "    def forward(self, input_id, mask):\n",
    "        _, pooled_output = self.bert(input_ids=input_id, attention_mask=mask, return_dict=False)\n",
    "        dropout_output = self.dropout(pooled_output)\n",
    "        linear_output = self.linear(dropout_output)\n",
    "        # final_layer = self.relu(linear_output) # IMPO CHANGE\n",
    "        return linear_output\n",
    "\n",
    "    def check_parameters(self):\n",
    "        print('The number of Bert parameters:', self.bert.num_parameters())\n",
    "\n",
    "import torch.nn.functional as F\n",
    "\n",
    "class ParallelConv(nn.Module):\n",
    "\n",
    "    def __init__(self, input_dims, filters, dropout=0.5):\n",
    "        super().__init__()\n",
    "        convs = []        \n",
    "        self.output_dims = sum([t[1] for t in filters])\n",
    "        for (filter_length, output_dims) in filters:\n",
    "            pad = filter_length//2\n",
    "            conv = nn.Sequential(\n",
    "                nn.Conv1d(input_dims, output_dims, filter_length, padding=pad),\n",
    "                nn.ReLU()\n",
    "            )\n",
    "            convs.append(conv)\n",
    "        # Add the module so its managed correctly\n",
    "        self.convs = nn.ModuleList(convs)\n",
    "        self.conv_drop = nn.Dropout(dropout)\n",
    "\n",
    "    def forward(self, input_bct):\n",
    "        mots = []\n",
    "        for conv in self.convs:\n",
    "            # In Conv1d, data BxCxT, max over time\n",
    "            conv_out = conv(input_bct)\n",
    "            mot, _ = conv_out.max(2)\n",
    "            mots.append(mot)\n",
    "        mots = torch.cat(mots, 1)\n",
    "        return self.conv_drop(mots)\n",
    "\n",
    "class ConvClassifier(nn.Module):\n",
    "\n",
    "    def __init__(self, embed_dims,\n",
    "                 filters=[(2, 100), (3, 100), (4, 100)],\n",
    "                 dropout=0.5, hidden_units=[]):\n",
    "        super().__init__()\n",
    "        self.bert = RobertaModel.from_pretrained(BERT_CONFIG)\n",
    "        self.dropout = nn.Dropout(dropout)\n",
    "        self.convs = ParallelConv(embed_dims, filters, dropout)\n",
    "        \n",
    "        input_units = self.convs.output_dims\n",
    "        output_units = self.convs.output_dims\n",
    "        sequence = []\n",
    "        for h in hidden_units:\n",
    "            sequence.append(self.dropout(nn.Linear(input_units, h)))\n",
    "            input_units = h\n",
    "            output_units = h\n",
    "            \n",
    "        sequence.append(nn.Linear(output_units, 2))\n",
    "        self.outputs = nn.Sequential(*sequence)\n",
    "\n",
    "    def forward(self, input_id, mask):\n",
    "        x, pooled_output = self.bert(input_ids=input_id, attention_mask=mask, return_dict=False)\n",
    "        embed = self.dropout(x)\n",
    "        embed = embed.transpose(1, 2).contiguous()\n",
    "        hidden = self.convs(embed)\n",
    "        linear = self.outputs(hidden)\n",
    "        return F.log_softmax(linear, dim=-1)\n",
    "\n",
    "\n",
    "# ------------------------------------------------------------------------------\n",
    "# generate intermediate data by MsgTransformer\n",
    "embed_dim = 1024\n",
    "model = ConvClassifier(embed_dim)\n",
    "model.load_state_dict(torch.load(finetuned_mt_model_path))\n",
    "model.to(device)\n",
    "\n",
    "def generate_mt_intermediate_dataset(input_data, intermediate_data_path):\n",
    "    data_loader = torch.utils.data.DataLoader(Dataset(input_data), batch_size=BATCH_SIZE)\n",
    "    \n",
    "    model.eval()\n",
    "    with torch.no_grad():\n",
    "        for texts, labels in tqdm(data_loader):\n",
    "            labels = labels.to(device)\n",
    "            masks = texts['attention_mask'].to(device)\n",
    "            input_ids = texts['input_ids'].squeeze(1).to(device)\n",
    "            outputs = model(input_ids, masks)\n",
    "\n",
    "            probs = torch.nn.functional.softmax(outputs, dim=1).tolist()\n",
    "            assert(len(probs) == len(labels))\n",
    "            for i in range(len(probs)):\n",
    "                prob = probs[i]\n",
    "                label = int(labels[i])\n",
    "                content = '\\t'.join([str(i) for i in prob + [label]]) + '\\n'\n",
    "                write_to_file(content, intermediate_data_path)\n",
    "\n",
    "df_train = pd.read_json(init_train_path)\n",
    "df_val = pd.read_json(init_val_path)\n",
    "\n",
    "remove_file_if_exist(intermediate_mt_train_path)\n",
    "remove_file_if_exist(intermediate_mt_val_path)\n",
    "\n",
    "generate_mt_intermediate_dataset(df_train, intermediate_mt_train_path)\n",
    "generate_mt_intermediate_dataset(df_val, intermediate_mt_val_path)\n",
    "\n",
    "# ------------------------------------------------------------------------------\n",
    "# evaluation\n",
    "print('\\nEvaluation:')\n",
    "\n",
    "seed = 42\n",
    "os.environ['PYTHONHASHSEED'] = str(seed)\n",
    "torch.manual_seed(seed)\n",
    "torch.cuda.manual_seed(seed)\n",
    "torch.cuda.manual_seed_all(seed)\n",
    "np.random.seed(seed)\n",
    "random.seed(seed)\n",
    "torch.backends.cudnn.benchmark = False\n",
    "torch.backends.cudnn.deterministic = True\n",
    "\n",
    "def evaluate(model, test_data):\n",
    "    test = Dataset(test_data)\n",
    "    test_dataloader = torch.utils.data.DataLoader(test, batch_size=BATCH_SIZE)\n",
    "\n",
    "    device = torch.device(\"cuda\" if torch.cuda.is_available() else \"cpu\")\n",
    "\n",
    "    total_acc_test = 0\n",
    "    predict_all = np.array([], dtype=int)\n",
    "    labels_all = np.array([], dtype=int)\n",
    "    model.eval()\n",
    "    with torch.no_grad():\n",
    "        for test_input, test_label in test_dataloader:\n",
    "            test_label = test_label.to(device)\n",
    "            mask = test_input['attention_mask'].to(device)\n",
    "            input_id = test_input['input_ids'].squeeze(1).to(device)\n",
    "\n",
    "            output = model(input_id, mask)\n",
    "\n",
    "            acc = (output.argmax(dim=1) == test_label).sum().item()\n",
    "            total_acc_test += acc\n",
    "\n",
    "            test_label = test_label.data.cpu().numpy()\n",
    "            predic = output.argmax(dim=1).data.cpu().numpy()\n",
    "            labels_all = np.append(labels_all, test_label)\n",
    "            predict_all = np.append(predict_all, predic)\n",
    "\n",
    "    report = metrics.classification_report(labels_all, predict_all, target_names=['benign', 'vulnerable'], digits=4)\n",
    "    confusion = metrics.confusion_matrix(labels_all, predict_all)\n",
    "    print(f'Test Accuracy: {total_acc_test / len(test_data): .3f}')\n",
    "    print(report)\n",
    "    print(confusion)\n",
    "\n",
    "embed_dim = 1024\n",
    "model = ConvClassifier(embed_dim)\n",
    "model.to(device)\n",
    "model.load_state_dict(torch.load(finetuned_mt_model_path))\n",
    "evaluate(model, df_val)\n",
    "\n"
   ]
  },
  {
   "cell_type": "markdown",
   "metadata": {
    "tags": []
   },
   "source": [
    "# Combine everything into intermediate dataset"
   ]
  },
  {
   "cell_type": "code",
   "execution_count": 4,
   "metadata": {},
   "outputs": [],
   "source": [
    "intermediate_train_path = f'{intermediate_directory}/train.txt'\n",
    "intermediate_val_path = f'{intermediate_directory}/val.txt'\n",
    "\n",
    "def generate_intermediate_dataset(intermediate_mt_data_path, intermediate_ct_data_path, intermediate_data_path):\n",
    "    with open(intermediate_mt_data_path) as f:\n",
    "        mt_data_list = f.read().split('\\n')\n",
    "    \n",
    "    with open(intermediate_ct_data_path) as f:\n",
    "        ct_data_list = f.read().split('\\n')\n",
    "    \n",
    "    mt_data_list = mt_data_list[:-1] if not mt_data_list[-1] else mt_data_list\n",
    "    ct_data_list = ct_data_list[:-1] if not ct_data_list[-1] else ct_data_list\n",
    "\n",
    "    assert(len(mt_data_list) == len(ct_data_list))\n",
    "    \n",
    "    for i in range(len(mt_data_list)):\n",
    "        mt_data = mt_data_list[i].split('\\t')\n",
    "        ct_data = ct_data_list[i].split('\\t')\n",
    "        assert(mt_data[2] == ct_data[2])\n",
    "        label = mt_data[2]\n",
    "        content = '\\t'.join(mt_data[:2] + ct_data[:2] + [label])\n",
    "        content = content + '\\n' if i < len(mt_data_list) - 1 else content\n",
    "        write_to_file(content, intermediate_data_path)\n",
    "\n",
    "remove_file_if_exist(intermediate_train_path)\n",
    "remove_file_if_exist(intermediate_val_path)\n",
    "\n",
    "generate_intermediate_dataset(intermediate_mt_train_path, intermediate_ct_train_path, intermediate_train_path)\n",
    "generate_intermediate_dataset(intermediate_mt_val_path, intermediate_ct_val_path, intermediate_val_path)\n"
   ]
  },
  {
   "cell_type": "markdown",
   "metadata": {
    "tags": []
   },
   "source": [
    "# Ensemble learning"
   ]
  },
  {
   "cell_type": "code",
   "execution_count": 8,
   "metadata": {},
   "outputs": [
    {
     "name": "stderr",
     "output_type": "stream",
     "text": [
      "100%|██████████| 2227/2227 [00:03<00:00, 626.13it/s]\n"
     ]
    },
    {
     "name": "stdout",
     "output_type": "stream",
     "text": [
      "Epochs: 1 | Train Loss:  0.1421             | Train Accuracy:  0.8946             | Val Loss:  0.1453             | Val Accuracy:  0.8164\n"
     ]
    },
    {
     "name": "stderr",
     "output_type": "stream",
     "text": [
      "100%|██████████| 2227/2227 [00:03<00:00, 598.17it/s]\n"
     ]
    },
    {
     "name": "stdout",
     "output_type": "stream",
     "text": [
      "Epochs: 2 | Train Loss:  0.1410             | Train Accuracy:  0.8949             | Val Loss:  0.1442             | Val Accuracy:  0.8218\n"
     ]
    },
    {
     "name": "stderr",
     "output_type": "stream",
     "text": [
      "100%|██████████| 2227/2227 [00:03<00:00, 619.31it/s]\n"
     ]
    },
    {
     "name": "stdout",
     "output_type": "stream",
     "text": [
      "Epochs: 3 | Train Loss:  0.1395             | Train Accuracy:  0.9064             | Val Loss:  0.1431             | Val Accuracy:  0.8265\n"
     ]
    },
    {
     "name": "stderr",
     "output_type": "stream",
     "text": [
      "100%|██████████| 2227/2227 [00:03<00:00, 600.42it/s]\n"
     ]
    },
    {
     "name": "stdout",
     "output_type": "stream",
     "text": [
      "Epochs: 4 | Train Loss:  0.1386             | Train Accuracy:  0.8988             | Val Loss:  0.1420             | Val Accuracy:  0.8286\n"
     ]
    },
    {
     "name": "stderr",
     "output_type": "stream",
     "text": [
      "100%|██████████| 2227/2227 [00:03<00:00, 625.17it/s]\n"
     ]
    },
    {
     "name": "stdout",
     "output_type": "stream",
     "text": [
      "Epochs: 5 | Train Loss:  0.1371             | Train Accuracy:  0.9067             | Val Loss:  0.1410             | Val Accuracy:  0.8356\n"
     ]
    },
    {
     "name": "stderr",
     "output_type": "stream",
     "text": [
      "100%|██████████| 2227/2227 [00:04<00:00, 544.15it/s]\n"
     ]
    },
    {
     "name": "stdout",
     "output_type": "stream",
     "text": [
      "Epochs: 6 | Train Loss:  0.1359             | Train Accuracy:  0.9083             | Val Loss:  0.1399             | Val Accuracy:  0.8390\n"
     ]
    },
    {
     "name": "stderr",
     "output_type": "stream",
     "text": [
      "100%|██████████| 2227/2227 [00:03<00:00, 590.84it/s]\n"
     ]
    },
    {
     "name": "stdout",
     "output_type": "stream",
     "text": [
      "Epochs: 7 | Train Loss:  0.1348             | Train Accuracy:  0.9075             | Val Loss:  0.1388             | Val Accuracy:  0.8447\n"
     ]
    },
    {
     "name": "stderr",
     "output_type": "stream",
     "text": [
      "100%|██████████| 2227/2227 [00:03<00:00, 558.45it/s]\n"
     ]
    },
    {
     "name": "stdout",
     "output_type": "stream",
     "text": [
      "Epochs: 8 | Train Loss:  0.1335             | Train Accuracy:  0.9120             | Val Loss:  0.1377             | Val Accuracy:  0.8474\n"
     ]
    },
    {
     "name": "stderr",
     "output_type": "stream",
     "text": [
      "100%|██████████| 2227/2227 [00:04<00:00, 545.32it/s]\n"
     ]
    },
    {
     "name": "stdout",
     "output_type": "stream",
     "text": [
      "Epochs: 9 | Train Loss:  0.1325             | Train Accuracy:  0.9098             | Val Loss:  0.1366             | Val Accuracy:  0.8515\n"
     ]
    },
    {
     "name": "stderr",
     "output_type": "stream",
     "text": [
      "100%|██████████| 2227/2227 [00:04<00:00, 555.61it/s]\n"
     ]
    },
    {
     "name": "stdout",
     "output_type": "stream",
     "text": [
      "Epochs: 10 | Train Loss:  0.1312             | Train Accuracy:  0.9122             | Val Loss:  0.1355             | Val Accuracy:  0.8555\n"
     ]
    },
    {
     "name": "stderr",
     "output_type": "stream",
     "text": [
      "100%|██████████| 2227/2227 [00:03<00:00, 615.68it/s]\n"
     ]
    },
    {
     "name": "stdout",
     "output_type": "stream",
     "text": [
      "Epochs: 11 | Train Loss:  0.1299             | Train Accuracy:  0.9178             | Val Loss:  0.1344             | Val Accuracy:  0.8606\n"
     ]
    },
    {
     "name": "stderr",
     "output_type": "stream",
     "text": [
      "100%|██████████| 2227/2227 [00:03<00:00, 617.62it/s]\n"
     ]
    },
    {
     "name": "stdout",
     "output_type": "stream",
     "text": [
      "Epochs: 12 | Train Loss:  0.1282             | Train Accuracy:  0.9236             | Val Loss:  0.1333             | Val Accuracy:  0.8636\n"
     ]
    },
    {
     "name": "stderr",
     "output_type": "stream",
     "text": [
      "100%|██████████| 2227/2227 [00:03<00:00, 647.55it/s]\n"
     ]
    },
    {
     "name": "stdout",
     "output_type": "stream",
     "text": [
      "Epochs: 13 | Train Loss:  0.1272             | Train Accuracy:  0.9258             | Val Loss:  0.1322             | Val Accuracy:  0.8680\n"
     ]
    },
    {
     "name": "stderr",
     "output_type": "stream",
     "text": [
      "100%|██████████| 2227/2227 [00:03<00:00, 568.58it/s]\n"
     ]
    },
    {
     "name": "stdout",
     "output_type": "stream",
     "text": [
      "Epochs: 14 | Train Loss:  0.1258             | Train Accuracy:  0.9268             | Val Loss:  0.1311             | Val Accuracy:  0.8713\n"
     ]
    },
    {
     "name": "stderr",
     "output_type": "stream",
     "text": [
      "100%|██████████| 2227/2227 [00:03<00:00, 573.21it/s]\n"
     ]
    },
    {
     "name": "stdout",
     "output_type": "stream",
     "text": [
      "Epochs: 15 | Train Loss:  0.1249             | Train Accuracy:  0.9270             | Val Loss:  0.1300             | Val Accuracy:  0.8754\n"
     ]
    },
    {
     "name": "stderr",
     "output_type": "stream",
     "text": [
      "100%|██████████| 2227/2227 [00:04<00:00, 554.62it/s]\n"
     ]
    },
    {
     "name": "stdout",
     "output_type": "stream",
     "text": [
      "Epochs: 16 | Train Loss:  0.1237             | Train Accuracy:  0.9287             | Val Loss:  0.1288             | Val Accuracy:  0.8794\n"
     ]
    },
    {
     "name": "stderr",
     "output_type": "stream",
     "text": [
      "100%|██████████| 2227/2227 [00:03<00:00, 566.48it/s]\n"
     ]
    },
    {
     "name": "stdout",
     "output_type": "stream",
     "text": [
      "Epochs: 17 | Train Loss:  0.1224             | Train Accuracy:  0.9311             | Val Loss:  0.1277             | Val Accuracy:  0.8835\n"
     ]
    },
    {
     "name": "stderr",
     "output_type": "stream",
     "text": [
      "100%|██████████| 2227/2227 [00:04<00:00, 548.22it/s]\n"
     ]
    },
    {
     "name": "stdout",
     "output_type": "stream",
     "text": [
      "Epochs: 18 | Train Loss:  0.1211             | Train Accuracy:  0.9345             | Val Loss:  0.1265             | Val Accuracy:  0.8872\n"
     ]
    },
    {
     "name": "stderr",
     "output_type": "stream",
     "text": [
      "100%|██████████| 2227/2227 [00:03<00:00, 566.83it/s]\n"
     ]
    },
    {
     "name": "stdout",
     "output_type": "stream",
     "text": [
      "Epochs: 19 | Train Loss:  0.1196             | Train Accuracy:  0.9395             | Val Loss:  0.1254             | Val Accuracy:  0.8922\n"
     ]
    },
    {
     "name": "stderr",
     "output_type": "stream",
     "text": [
      "100%|██████████| 2227/2227 [00:03<00:00, 617.66it/s]\n"
     ]
    },
    {
     "name": "stdout",
     "output_type": "stream",
     "text": [
      "Epochs: 20 | Train Loss:  0.1180             | Train Accuracy:  0.9424             | Val Loss:  0.1242             | Val Accuracy:  0.8976\n"
     ]
    },
    {
     "name": "stderr",
     "output_type": "stream",
     "text": [
      "100%|██████████| 2227/2227 [00:03<00:00, 598.58it/s]\n"
     ]
    },
    {
     "name": "stdout",
     "output_type": "stream",
     "text": [
      "Epochs: 21 | Train Loss:  0.1169             | Train Accuracy:  0.9451             | Val Loss:  0.1231             | Val Accuracy:  0.9037\n"
     ]
    },
    {
     "name": "stderr",
     "output_type": "stream",
     "text": [
      "100%|██████████| 2227/2227 [00:03<00:00, 564.00it/s]\n"
     ]
    },
    {
     "name": "stdout",
     "output_type": "stream",
     "text": [
      "Epochs: 22 | Train Loss:  0.1157             | Train Accuracy:  0.9442             | Val Loss:  0.1219             | Val Accuracy:  0.9084\n"
     ]
    },
    {
     "name": "stderr",
     "output_type": "stream",
     "text": [
      "100%|██████████| 2227/2227 [00:03<00:00, 622.86it/s]\n"
     ]
    },
    {
     "name": "stdout",
     "output_type": "stream",
     "text": [
      "Epochs: 23 | Train Loss:  0.1146             | Train Accuracy:  0.9437             | Val Loss:  0.1208             | Val Accuracy:  0.9148\n"
     ]
    },
    {
     "name": "stderr",
     "output_type": "stream",
     "text": [
      "100%|██████████| 2227/2227 [00:03<00:00, 605.52it/s]\n"
     ]
    },
    {
     "name": "stdout",
     "output_type": "stream",
     "text": [
      "Epochs: 24 | Train Loss:  0.1132             | Train Accuracy:  0.9495             | Val Loss:  0.1196             | Val Accuracy:  0.9229\n"
     ]
    },
    {
     "name": "stderr",
     "output_type": "stream",
     "text": [
      "100%|██████████| 2227/2227 [00:03<00:00, 618.83it/s]\n"
     ]
    },
    {
     "name": "stdout",
     "output_type": "stream",
     "text": [
      "Epochs: 25 | Train Loss:  0.1120             | Train Accuracy:  0.9462             | Val Loss:  0.1184             | Val Accuracy:  0.9286\n"
     ]
    },
    {
     "name": "stderr",
     "output_type": "stream",
     "text": [
      "100%|██████████| 2227/2227 [00:03<00:00, 588.49it/s]\n"
     ]
    },
    {
     "name": "stdout",
     "output_type": "stream",
     "text": [
      "Epochs: 26 | Train Loss:  0.1104             | Train Accuracy:  0.9547             | Val Loss:  0.1173             | Val Accuracy:  0.9330\n"
     ]
    },
    {
     "name": "stderr",
     "output_type": "stream",
     "text": [
      "100%|██████████| 2227/2227 [00:03<00:00, 625.30it/s]\n"
     ]
    },
    {
     "name": "stdout",
     "output_type": "stream",
     "text": [
      "Epochs: 27 | Train Loss:  0.1091             | Train Accuracy:  0.9540             | Val Loss:  0.1161             | Val Accuracy:  0.9427\n"
     ]
    },
    {
     "name": "stderr",
     "output_type": "stream",
     "text": [
      "100%|██████████| 2227/2227 [00:03<00:00, 565.32it/s]\n"
     ]
    },
    {
     "name": "stdout",
     "output_type": "stream",
     "text": [
      "Epochs: 28 | Train Loss:  0.1080             | Train Accuracy:  0.9539             | Val Loss:  0.1149             | Val Accuracy:  0.9475\n"
     ]
    },
    {
     "name": "stderr",
     "output_type": "stream",
     "text": [
      "100%|██████████| 2227/2227 [00:03<00:00, 590.65it/s]\n"
     ]
    },
    {
     "name": "stdout",
     "output_type": "stream",
     "text": [
      "Epochs: 29 | Train Loss:  0.1066             | Train Accuracy:  0.9613             | Val Loss:  0.1138             | Val Accuracy:  0.9535\n"
     ]
    },
    {
     "name": "stderr",
     "output_type": "stream",
     "text": [
      "100%|██████████| 2227/2227 [00:03<00:00, 600.88it/s]\n"
     ]
    },
    {
     "name": "stdout",
     "output_type": "stream",
     "text": [
      "Epochs: 30 | Train Loss:  0.1053             | Train Accuracy:  0.9611             | Val Loss:  0.1126             | Val Accuracy:  0.9586\n"
     ]
    },
    {
     "name": "stderr",
     "output_type": "stream",
     "text": [
      "100%|██████████| 2227/2227 [00:03<00:00, 638.19it/s]\n"
     ]
    },
    {
     "name": "stdout",
     "output_type": "stream",
     "text": [
      "Epochs: 31 | Train Loss:  0.1042             | Train Accuracy:  0.9571             | Val Loss:  0.1114             | Val Accuracy:  0.9616\n"
     ]
    },
    {
     "name": "stderr",
     "output_type": "stream",
     "text": [
      "100%|██████████| 2227/2227 [00:03<00:00, 631.98it/s]\n"
     ]
    },
    {
     "name": "stdout",
     "output_type": "stream",
     "text": [
      "Epochs: 32 | Train Loss:  0.1026             | Train Accuracy:  0.9620             | Val Loss:  0.1103             | Val Accuracy:  0.9660\n"
     ]
    },
    {
     "name": "stderr",
     "output_type": "stream",
     "text": [
      "100%|██████████| 2227/2227 [00:03<00:00, 627.48it/s]\n"
     ]
    },
    {
     "name": "stdout",
     "output_type": "stream",
     "text": [
      "Epochs: 33 | Train Loss:  0.1016             | Train Accuracy:  0.9611             | Val Loss:  0.1091             | Val Accuracy:  0.9697\n"
     ]
    },
    {
     "name": "stderr",
     "output_type": "stream",
     "text": [
      "100%|██████████| 2227/2227 [00:03<00:00, 623.36it/s]\n"
     ]
    },
    {
     "name": "stdout",
     "output_type": "stream",
     "text": [
      "Epochs: 34 | Train Loss:  0.1000             | Train Accuracy:  0.9644             | Val Loss:  0.1079             | Val Accuracy:  0.9714\n"
     ]
    },
    {
     "name": "stderr",
     "output_type": "stream",
     "text": [
      "100%|██████████| 2227/2227 [00:03<00:00, 582.42it/s]\n"
     ]
    },
    {
     "name": "stdout",
     "output_type": "stream",
     "text": [
      "Epochs: 35 | Train Loss:  0.0986             | Train Accuracy:  0.9662             | Val Loss:  0.1068             | Val Accuracy:  0.9724\n"
     ]
    },
    {
     "name": "stderr",
     "output_type": "stream",
     "text": [
      "100%|██████████| 2227/2227 [00:03<00:00, 568.22it/s]\n"
     ]
    },
    {
     "name": "stdout",
     "output_type": "stream",
     "text": [
      "Epochs: 36 | Train Loss:  0.0975             | Train Accuracy:  0.9664             | Val Loss:  0.1056             | Val Accuracy:  0.9744\n"
     ]
    },
    {
     "name": "stderr",
     "output_type": "stream",
     "text": [
      "100%|██████████| 2227/2227 [00:03<00:00, 612.55it/s]\n"
     ]
    },
    {
     "name": "stdout",
     "output_type": "stream",
     "text": [
      "Epochs: 37 | Train Loss:  0.0961             | Train Accuracy:  0.9696             | Val Loss:  0.1044             | Val Accuracy:  0.9744\n"
     ]
    },
    {
     "name": "stderr",
     "output_type": "stream",
     "text": [
      "100%|██████████| 2227/2227 [00:03<00:00, 607.29it/s]\n"
     ]
    },
    {
     "name": "stdout",
     "output_type": "stream",
     "text": [
      "Epochs: 38 | Train Loss:  0.0946             | Train Accuracy:  0.9728             | Val Loss:  0.1033             | Val Accuracy:  0.9741\n"
     ]
    },
    {
     "name": "stderr",
     "output_type": "stream",
     "text": [
      "100%|██████████| 2227/2227 [00:03<00:00, 609.24it/s]\n"
     ]
    },
    {
     "name": "stdout",
     "output_type": "stream",
     "text": [
      "Epochs: 39 | Train Loss:  0.0936             | Train Accuracy:  0.9705             | Val Loss:  0.1021             | Val Accuracy:  0.9744\n"
     ]
    },
    {
     "name": "stderr",
     "output_type": "stream",
     "text": [
      "100%|██████████| 2227/2227 [00:03<00:00, 601.81it/s]\n"
     ]
    },
    {
     "name": "stdout",
     "output_type": "stream",
     "text": [
      "Epochs: 40 | Train Loss:  0.0924             | Train Accuracy:  0.9719             | Val Loss:  0.1010             | Val Accuracy:  0.9744\n"
     ]
    },
    {
     "name": "stderr",
     "output_type": "stream",
     "text": [
      "100%|██████████| 2227/2227 [00:03<00:00, 593.63it/s]\n"
     ]
    },
    {
     "name": "stdout",
     "output_type": "stream",
     "text": [
      "Epochs: 41 | Train Loss:  0.0910             | Train Accuracy:  0.9736             | Val Loss:  0.0998             | Val Accuracy:  0.9744\n"
     ]
    },
    {
     "name": "stderr",
     "output_type": "stream",
     "text": [
      "100%|██████████| 2227/2227 [00:03<00:00, 604.35it/s]\n"
     ]
    },
    {
     "name": "stdout",
     "output_type": "stream",
     "text": [
      "Epochs: 42 | Train Loss:  0.0897             | Train Accuracy:  0.9751             | Val Loss:  0.0987             | Val Accuracy:  0.9744\n"
     ]
    },
    {
     "name": "stderr",
     "output_type": "stream",
     "text": [
      "100%|██████████| 2227/2227 [00:03<00:00, 614.35it/s]\n"
     ]
    },
    {
     "name": "stdout",
     "output_type": "stream",
     "text": [
      "Epochs: 43 | Train Loss:  0.0884             | Train Accuracy:  0.9746             | Val Loss:  0.0975             | Val Accuracy:  0.9744\n"
     ]
    },
    {
     "name": "stderr",
     "output_type": "stream",
     "text": [
      "100%|██████████| 2227/2227 [00:04<00:00, 535.94it/s]\n"
     ]
    },
    {
     "name": "stdout",
     "output_type": "stream",
     "text": [
      "Epochs: 44 | Train Loss:  0.0874             | Train Accuracy:  0.9751             | Val Loss:  0.0964             | Val Accuracy:  0.9744\n"
     ]
    },
    {
     "name": "stderr",
     "output_type": "stream",
     "text": [
      "100%|██████████| 2227/2227 [00:04<00:00, 554.50it/s]\n"
     ]
    },
    {
     "name": "stdout",
     "output_type": "stream",
     "text": [
      "Epochs: 45 | Train Loss:  0.0859             | Train Accuracy:  0.9777             | Val Loss:  0.0953             | Val Accuracy:  0.9744\n"
     ]
    },
    {
     "name": "stderr",
     "output_type": "stream",
     "text": [
      "100%|██████████| 2227/2227 [00:03<00:00, 602.48it/s]\n"
     ]
    },
    {
     "name": "stdout",
     "output_type": "stream",
     "text": [
      "Epochs: 46 | Train Loss:  0.0847             | Train Accuracy:  0.9801             | Val Loss:  0.0941             | Val Accuracy:  0.9744\n"
     ]
    },
    {
     "name": "stderr",
     "output_type": "stream",
     "text": [
      "100%|██████████| 2227/2227 [00:03<00:00, 581.63it/s]\n"
     ]
    },
    {
     "name": "stdout",
     "output_type": "stream",
     "text": [
      "Epochs: 47 | Train Loss:  0.0835             | Train Accuracy:  0.9777             | Val Loss:  0.0930             | Val Accuracy:  0.9741\n"
     ]
    },
    {
     "name": "stderr",
     "output_type": "stream",
     "text": [
      "100%|██████████| 2227/2227 [00:03<00:00, 576.28it/s]\n"
     ]
    },
    {
     "name": "stdout",
     "output_type": "stream",
     "text": [
      "Epochs: 48 | Train Loss:  0.0819             | Train Accuracy:  0.9815             | Val Loss:  0.0919             | Val Accuracy:  0.9741\n"
     ]
    },
    {
     "name": "stderr",
     "output_type": "stream",
     "text": [
      "100%|██████████| 2227/2227 [00:03<00:00, 560.61it/s]\n"
     ]
    },
    {
     "name": "stdout",
     "output_type": "stream",
     "text": [
      "Epochs: 49 | Train Loss:  0.0811             | Train Accuracy:  0.9804             | Val Loss:  0.0908             | Val Accuracy:  0.9741\n"
     ]
    },
    {
     "name": "stderr",
     "output_type": "stream",
     "text": [
      "100%|██████████| 2227/2227 [00:03<00:00, 562.29it/s]\n"
     ]
    },
    {
     "name": "stdout",
     "output_type": "stream",
     "text": [
      "Epochs: 50 | Train Loss:  0.0797             | Train Accuracy:  0.9811             | Val Loss:  0.0897             | Val Accuracy:  0.9741\n"
     ]
    },
    {
     "name": "stderr",
     "output_type": "stream",
     "text": [
      "100%|██████████| 2227/2227 [00:03<00:00, 559.05it/s]\n"
     ]
    },
    {
     "name": "stdout",
     "output_type": "stream",
     "text": [
      "Epochs: 51 | Train Loss:  0.0785             | Train Accuracy:  0.9811             | Val Loss:  0.0886             | Val Accuracy:  0.9744\n"
     ]
    },
    {
     "name": "stderr",
     "output_type": "stream",
     "text": [
      "100%|██████████| 2227/2227 [00:03<00:00, 560.56it/s]\n"
     ]
    },
    {
     "name": "stdout",
     "output_type": "stream",
     "text": [
      "Epochs: 52 | Train Loss:  0.0773             | Train Accuracy:  0.9832             | Val Loss:  0.0875             | Val Accuracy:  0.9747\n"
     ]
    },
    {
     "name": "stderr",
     "output_type": "stream",
     "text": [
      "100%|██████████| 2227/2227 [00:03<00:00, 586.83it/s]\n"
     ]
    },
    {
     "name": "stdout",
     "output_type": "stream",
     "text": [
      "Epochs: 53 | Train Loss:  0.0758             | Train Accuracy:  0.9847             | Val Loss:  0.0864             | Val Accuracy:  0.9747\n"
     ]
    },
    {
     "name": "stderr",
     "output_type": "stream",
     "text": [
      "100%|██████████| 2227/2227 [00:03<00:00, 610.85it/s]\n"
     ]
    },
    {
     "name": "stdout",
     "output_type": "stream",
     "text": [
      "Epochs: 54 | Train Loss:  0.0748             | Train Accuracy:  0.9864             | Val Loss:  0.0853             | Val Accuracy:  0.9747\n"
     ]
    },
    {
     "name": "stderr",
     "output_type": "stream",
     "text": [
      "100%|██████████| 2227/2227 [00:03<00:00, 589.05it/s]\n"
     ]
    },
    {
     "name": "stdout",
     "output_type": "stream",
     "text": [
      "Epochs: 55 | Train Loss:  0.0736             | Train Accuracy:  0.9845             | Val Loss:  0.0842             | Val Accuracy:  0.9747\n"
     ]
    },
    {
     "name": "stderr",
     "output_type": "stream",
     "text": [
      "100%|██████████| 2227/2227 [00:04<00:00, 549.33it/s]\n"
     ]
    },
    {
     "name": "stdout",
     "output_type": "stream",
     "text": [
      "Epochs: 56 | Train Loss:  0.0723             | Train Accuracy:  0.9847             | Val Loss:  0.0831             | Val Accuracy:  0.9747\n"
     ]
    },
    {
     "name": "stderr",
     "output_type": "stream",
     "text": [
      "100%|██████████| 2227/2227 [00:04<00:00, 547.20it/s]\n"
     ]
    },
    {
     "name": "stdout",
     "output_type": "stream",
     "text": [
      "Epochs: 57 | Train Loss:  0.0713             | Train Accuracy:  0.9874             | Val Loss:  0.0821             | Val Accuracy:  0.9747\n"
     ]
    },
    {
     "name": "stderr",
     "output_type": "stream",
     "text": [
      "100%|██████████| 2227/2227 [00:03<00:00, 580.14it/s]\n"
     ]
    },
    {
     "name": "stdout",
     "output_type": "stream",
     "text": [
      "Epochs: 58 | Train Loss:  0.0697             | Train Accuracy:  0.9879             | Val Loss:  0.0810             | Val Accuracy:  0.9747\n"
     ]
    },
    {
     "name": "stderr",
     "output_type": "stream",
     "text": [
      "100%|██████████| 2227/2227 [00:03<00:00, 576.88it/s]\n"
     ]
    },
    {
     "name": "stdout",
     "output_type": "stream",
     "text": [
      "Epochs: 59 | Train Loss:  0.0691             | Train Accuracy:  0.9846             | Val Loss:  0.0799             | Val Accuracy:  0.9747\n"
     ]
    },
    {
     "name": "stderr",
     "output_type": "stream",
     "text": [
      "100%|██████████| 2227/2227 [00:03<00:00, 560.07it/s]\n"
     ]
    },
    {
     "name": "stdout",
     "output_type": "stream",
     "text": [
      "Epochs: 60 | Train Loss:  0.0679             | Train Accuracy:  0.9842             | Val Loss:  0.0789             | Val Accuracy:  0.9751\n"
     ]
    },
    {
     "name": "stderr",
     "output_type": "stream",
     "text": [
      "100%|██████████| 2227/2227 [00:03<00:00, 605.10it/s]\n"
     ]
    },
    {
     "name": "stdout",
     "output_type": "stream",
     "text": [
      "Epochs: 61 | Train Loss:  0.0664             | Train Accuracy:  0.9873             | Val Loss:  0.0778             | Val Accuracy:  0.9751\n"
     ]
    },
    {
     "name": "stderr",
     "output_type": "stream",
     "text": [
      "100%|██████████| 2227/2227 [00:03<00:00, 556.88it/s]\n"
     ]
    },
    {
     "name": "stdout",
     "output_type": "stream",
     "text": [
      "Epochs: 62 | Train Loss:  0.0651             | Train Accuracy:  0.9890             | Val Loss:  0.0768             | Val Accuracy:  0.9751\n"
     ]
    },
    {
     "name": "stderr",
     "output_type": "stream",
     "text": [
      "100%|██████████| 2227/2227 [00:03<00:00, 610.16it/s]\n"
     ]
    },
    {
     "name": "stdout",
     "output_type": "stream",
     "text": [
      "Epochs: 63 | Train Loss:  0.0641             | Train Accuracy:  0.9885             | Val Loss:  0.0758             | Val Accuracy:  0.9751\n"
     ]
    },
    {
     "name": "stderr",
     "output_type": "stream",
     "text": [
      "100%|██████████| 2227/2227 [00:03<00:00, 645.62it/s]\n"
     ]
    },
    {
     "name": "stdout",
     "output_type": "stream",
     "text": [
      "Epochs: 64 | Train Loss:  0.0631             | Train Accuracy:  0.9889             | Val Loss:  0.0747             | Val Accuracy:  0.9751\n"
     ]
    },
    {
     "name": "stderr",
     "output_type": "stream",
     "text": [
      "100%|██████████| 2227/2227 [00:03<00:00, 661.20it/s]\n"
     ]
    },
    {
     "name": "stdout",
     "output_type": "stream",
     "text": [
      "Epochs: 65 | Train Loss:  0.0619             | Train Accuracy:  0.9885             | Val Loss:  0.0737             | Val Accuracy:  0.9751\n"
     ]
    },
    {
     "name": "stderr",
     "output_type": "stream",
     "text": [
      "100%|██████████| 2227/2227 [00:03<00:00, 637.20it/s]\n"
     ]
    },
    {
     "name": "stdout",
     "output_type": "stream",
     "text": [
      "Epochs: 66 | Train Loss:  0.0607             | Train Accuracy:  0.9906             | Val Loss:  0.0727             | Val Accuracy:  0.9751\n"
     ]
    },
    {
     "name": "stderr",
     "output_type": "stream",
     "text": [
      "100%|██████████| 2227/2227 [00:03<00:00, 603.49it/s]\n"
     ]
    },
    {
     "name": "stdout",
     "output_type": "stream",
     "text": [
      "Epochs: 67 | Train Loss:  0.0594             | Train Accuracy:  0.9900             | Val Loss:  0.0717             | Val Accuracy:  0.9751\n"
     ]
    },
    {
     "name": "stderr",
     "output_type": "stream",
     "text": [
      "100%|██████████| 2227/2227 [00:03<00:00, 611.33it/s]\n"
     ]
    },
    {
     "name": "stdout",
     "output_type": "stream",
     "text": [
      "Epochs: 68 | Train Loss:  0.0589             | Train Accuracy:  0.9898             | Val Loss:  0.0707             | Val Accuracy:  0.9754\n"
     ]
    },
    {
     "name": "stderr",
     "output_type": "stream",
     "text": [
      "100%|██████████| 2227/2227 [00:03<00:00, 647.90it/s]\n"
     ]
    },
    {
     "name": "stdout",
     "output_type": "stream",
     "text": [
      "Epochs: 69 | Train Loss:  0.0573             | Train Accuracy:  0.9914             | Val Loss:  0.0697             | Val Accuracy:  0.9751\n"
     ]
    },
    {
     "name": "stderr",
     "output_type": "stream",
     "text": [
      "100%|██████████| 2227/2227 [00:03<00:00, 614.20it/s]\n"
     ]
    },
    {
     "name": "stdout",
     "output_type": "stream",
     "text": [
      "Epochs: 70 | Train Loss:  0.0564             | Train Accuracy:  0.9919             | Val Loss:  0.0687             | Val Accuracy:  0.9754\n"
     ]
    },
    {
     "name": "stderr",
     "output_type": "stream",
     "text": [
      "100%|██████████| 2227/2227 [00:03<00:00, 629.05it/s]\n"
     ]
    },
    {
     "name": "stdout",
     "output_type": "stream",
     "text": [
      "Epochs: 71 | Train Loss:  0.0552             | Train Accuracy:  0.9914             | Val Loss:  0.0678             | Val Accuracy:  0.9754\n"
     ]
    },
    {
     "name": "stderr",
     "output_type": "stream",
     "text": [
      "100%|██████████| 2227/2227 [00:03<00:00, 590.26it/s]\n"
     ]
    },
    {
     "name": "stdout",
     "output_type": "stream",
     "text": [
      "Epochs: 72 | Train Loss:  0.0540             | Train Accuracy:  0.9924             | Val Loss:  0.0668             | Val Accuracy:  0.9751\n"
     ]
    },
    {
     "name": "stderr",
     "output_type": "stream",
     "text": [
      "100%|██████████| 2227/2227 [00:03<00:00, 571.20it/s]\n"
     ]
    },
    {
     "name": "stdout",
     "output_type": "stream",
     "text": [
      "Epochs: 73 | Train Loss:  0.0533             | Train Accuracy:  0.9914             | Val Loss:  0.0659             | Val Accuracy:  0.9751\n"
     ]
    },
    {
     "name": "stderr",
     "output_type": "stream",
     "text": [
      "100%|██████████| 2227/2227 [00:03<00:00, 593.69it/s]\n"
     ]
    },
    {
     "name": "stdout",
     "output_type": "stream",
     "text": [
      "Epochs: 74 | Train Loss:  0.0523             | Train Accuracy:  0.9916             | Val Loss:  0.0649             | Val Accuracy:  0.9751\n"
     ]
    },
    {
     "name": "stderr",
     "output_type": "stream",
     "text": [
      "100%|██████████| 2227/2227 [00:03<00:00, 561.78it/s]\n"
     ]
    },
    {
     "name": "stdout",
     "output_type": "stream",
     "text": [
      "Epochs: 75 | Train Loss:  0.0513             | Train Accuracy:  0.9918             | Val Loss:  0.0640             | Val Accuracy:  0.9751\n"
     ]
    },
    {
     "name": "stderr",
     "output_type": "stream",
     "text": [
      "100%|██████████| 2227/2227 [00:04<00:00, 547.05it/s]\n"
     ]
    },
    {
     "name": "stdout",
     "output_type": "stream",
     "text": [
      "Epochs: 76 | Train Loss:  0.0502             | Train Accuracy:  0.9926             | Val Loss:  0.0631             | Val Accuracy:  0.9751\n"
     ]
    },
    {
     "name": "stderr",
     "output_type": "stream",
     "text": [
      "100%|██████████| 2227/2227 [00:03<00:00, 634.09it/s]\n"
     ]
    },
    {
     "name": "stdout",
     "output_type": "stream",
     "text": [
      "Epochs: 77 | Train Loss:  0.0492             | Train Accuracy:  0.9928             | Val Loss:  0.0622             | Val Accuracy:  0.9751\n"
     ]
    },
    {
     "name": "stderr",
     "output_type": "stream",
     "text": [
      "100%|██████████| 2227/2227 [00:04<00:00, 545.20it/s]\n"
     ]
    },
    {
     "name": "stdout",
     "output_type": "stream",
     "text": [
      "Epochs: 78 | Train Loss:  0.0480             | Train Accuracy:  0.9932             | Val Loss:  0.0613             | Val Accuracy:  0.9751\n"
     ]
    },
    {
     "name": "stderr",
     "output_type": "stream",
     "text": [
      "100%|██████████| 2227/2227 [00:03<00:00, 560.80it/s]\n"
     ]
    },
    {
     "name": "stdout",
     "output_type": "stream",
     "text": [
      "Epochs: 79 | Train Loss:  0.0472             | Train Accuracy:  0.9927             | Val Loss:  0.0604             | Val Accuracy:  0.9751\n"
     ]
    },
    {
     "name": "stderr",
     "output_type": "stream",
     "text": [
      "100%|██████████| 2227/2227 [00:03<00:00, 583.66it/s]\n"
     ]
    },
    {
     "name": "stdout",
     "output_type": "stream",
     "text": [
      "Epochs: 80 | Train Loss:  0.0463             | Train Accuracy:  0.9940             | Val Loss:  0.0595             | Val Accuracy:  0.9754\n"
     ]
    },
    {
     "name": "stderr",
     "output_type": "stream",
     "text": [
      "100%|██████████| 2227/2227 [00:03<00:00, 603.28it/s]\n"
     ]
    },
    {
     "name": "stdout",
     "output_type": "stream",
     "text": [
      "Epochs: 81 | Train Loss:  0.0452             | Train Accuracy:  0.9945             | Val Loss:  0.0587             | Val Accuracy:  0.9754\n"
     ]
    },
    {
     "name": "stderr",
     "output_type": "stream",
     "text": [
      "100%|██████████| 2227/2227 [00:03<00:00, 636.29it/s]\n"
     ]
    },
    {
     "name": "stdout",
     "output_type": "stream",
     "text": [
      "Epochs: 82 | Train Loss:  0.0444             | Train Accuracy:  0.9940             | Val Loss:  0.0578             | Val Accuracy:  0.9754\n"
     ]
    },
    {
     "name": "stderr",
     "output_type": "stream",
     "text": [
      "100%|██████████| 2227/2227 [00:03<00:00, 644.97it/s]\n"
     ]
    },
    {
     "name": "stdout",
     "output_type": "stream",
     "text": [
      "Epochs: 83 | Train Loss:  0.0439             | Train Accuracy:  0.9930             | Val Loss:  0.0570             | Val Accuracy:  0.9754\n"
     ]
    },
    {
     "name": "stderr",
     "output_type": "stream",
     "text": [
      "100%|██████████| 2227/2227 [00:03<00:00, 613.58it/s]\n"
     ]
    },
    {
     "name": "stdout",
     "output_type": "stream",
     "text": [
      "Epochs: 84 | Train Loss:  0.0423             | Train Accuracy:  0.9954             | Val Loss:  0.0561             | Val Accuracy:  0.9754\n"
     ]
    },
    {
     "name": "stderr",
     "output_type": "stream",
     "text": [
      "100%|██████████| 2227/2227 [00:03<00:00, 627.43it/s]\n"
     ]
    },
    {
     "name": "stdout",
     "output_type": "stream",
     "text": [
      "Epochs: 85 | Train Loss:  0.0415             | Train Accuracy:  0.9960             | Val Loss:  0.0553             | Val Accuracy:  0.9754\n"
     ]
    },
    {
     "name": "stderr",
     "output_type": "stream",
     "text": [
      "100%|██████████| 2227/2227 [00:03<00:00, 627.81it/s]\n"
     ]
    },
    {
     "name": "stdout",
     "output_type": "stream",
     "text": [
      "Epochs: 86 | Train Loss:  0.0408             | Train Accuracy:  0.9951             | Val Loss:  0.0545             | Val Accuracy:  0.9754\n"
     ]
    },
    {
     "name": "stderr",
     "output_type": "stream",
     "text": [
      "100%|██████████| 2227/2227 [00:03<00:00, 589.90it/s]\n"
     ]
    },
    {
     "name": "stdout",
     "output_type": "stream",
     "text": [
      "Epochs: 87 | Train Loss:  0.0399             | Train Accuracy:  0.9961             | Val Loss:  0.0537             | Val Accuracy:  0.9754\n"
     ]
    },
    {
     "name": "stderr",
     "output_type": "stream",
     "text": [
      "100%|██████████| 2227/2227 [00:03<00:00, 599.81it/s]\n"
     ]
    },
    {
     "name": "stdout",
     "output_type": "stream",
     "text": [
      "Epochs: 88 | Train Loss:  0.0389             | Train Accuracy:  0.9969             | Val Loss:  0.0530             | Val Accuracy:  0.9754\n"
     ]
    },
    {
     "name": "stderr",
     "output_type": "stream",
     "text": [
      "100%|██████████| 2227/2227 [00:03<00:00, 617.18it/s]\n"
     ]
    },
    {
     "name": "stdout",
     "output_type": "stream",
     "text": [
      "Epochs: 89 | Train Loss:  0.0380             | Train Accuracy:  0.9974             | Val Loss:  0.0522             | Val Accuracy:  0.9754\n"
     ]
    },
    {
     "name": "stderr",
     "output_type": "stream",
     "text": [
      "100%|██████████| 2227/2227 [00:03<00:00, 609.02it/s]\n"
     ]
    },
    {
     "name": "stdout",
     "output_type": "stream",
     "text": [
      "Epochs: 90 | Train Loss:  0.0372             | Train Accuracy:  0.9970             | Val Loss:  0.0514             | Val Accuracy:  0.9754\n"
     ]
    },
    {
     "name": "stderr",
     "output_type": "stream",
     "text": [
      "100%|██████████| 2227/2227 [00:03<00:00, 591.02it/s]\n"
     ]
    },
    {
     "name": "stdout",
     "output_type": "stream",
     "text": [
      "Epochs: 91 | Train Loss:  0.0366             | Train Accuracy:  0.9973             | Val Loss:  0.0507             | Val Accuracy:  0.9757\n"
     ]
    },
    {
     "name": "stderr",
     "output_type": "stream",
     "text": [
      "100%|██████████| 2227/2227 [00:03<00:00, 603.09it/s]\n"
     ]
    },
    {
     "name": "stdout",
     "output_type": "stream",
     "text": [
      "Epochs: 92 | Train Loss:  0.0358             | Train Accuracy:  0.9970             | Val Loss:  0.0500             | Val Accuracy:  0.9757\n"
     ]
    },
    {
     "name": "stderr",
     "output_type": "stream",
     "text": [
      "100%|██████████| 2227/2227 [00:03<00:00, 599.11it/s]\n"
     ]
    },
    {
     "name": "stdout",
     "output_type": "stream",
     "text": [
      "Epochs: 93 | Train Loss:  0.0348             | Train Accuracy:  0.9970             | Val Loss:  0.0493             | Val Accuracy:  0.9757\n"
     ]
    },
    {
     "name": "stderr",
     "output_type": "stream",
     "text": [
      "100%|██████████| 2227/2227 [00:03<00:00, 606.29it/s]\n"
     ]
    },
    {
     "name": "stdout",
     "output_type": "stream",
     "text": [
      "Epochs: 94 | Train Loss:  0.0340             | Train Accuracy:  0.9983             | Val Loss:  0.0486             | Val Accuracy:  0.9757\n"
     ]
    },
    {
     "name": "stderr",
     "output_type": "stream",
     "text": [
      "100%|██████████| 2227/2227 [00:03<00:00, 641.16it/s]\n"
     ]
    },
    {
     "name": "stdout",
     "output_type": "stream",
     "text": [
      "Epochs: 95 | Train Loss:  0.0337             | Train Accuracy:  0.9973             | Val Loss:  0.0479             | Val Accuracy:  0.9757\n"
     ]
    },
    {
     "name": "stderr",
     "output_type": "stream",
     "text": [
      "100%|██████████| 2227/2227 [00:03<00:00, 624.64it/s]\n"
     ]
    },
    {
     "name": "stdout",
     "output_type": "stream",
     "text": [
      "Epochs: 96 | Train Loss:  0.0325             | Train Accuracy:  0.9988             | Val Loss:  0.0472             | Val Accuracy:  0.9757\n"
     ]
    },
    {
     "name": "stderr",
     "output_type": "stream",
     "text": [
      "100%|██████████| 2227/2227 [00:03<00:00, 604.81it/s]\n"
     ]
    },
    {
     "name": "stdout",
     "output_type": "stream",
     "text": [
      "Epochs: 97 | Train Loss:  0.0319             | Train Accuracy:  0.9980             | Val Loss:  0.0465             | Val Accuracy:  0.9761\n"
     ]
    },
    {
     "name": "stderr",
     "output_type": "stream",
     "text": [
      "100%|██████████| 2227/2227 [00:03<00:00, 601.48it/s]\n"
     ]
    },
    {
     "name": "stdout",
     "output_type": "stream",
     "text": [
      "Epochs: 98 | Train Loss:  0.0315             | Train Accuracy:  0.9976             | Val Loss:  0.0459             | Val Accuracy:  0.9761\n"
     ]
    },
    {
     "name": "stderr",
     "output_type": "stream",
     "text": [
      "100%|██████████| 2227/2227 [00:03<00:00, 593.59it/s]\n"
     ]
    },
    {
     "name": "stdout",
     "output_type": "stream",
     "text": [
      "Epochs: 99 | Train Loss:  0.0303             | Train Accuracy:  0.9985             | Val Loss:  0.0453             | Val Accuracy:  0.9761\n"
     ]
    },
    {
     "name": "stderr",
     "output_type": "stream",
     "text": [
      "100%|██████████| 2227/2227 [00:03<00:00, 621.07it/s]\n"
     ]
    },
    {
     "name": "stdout",
     "output_type": "stream",
     "text": [
      "Epochs: 100 | Train Loss:  0.0299             | Train Accuracy:  0.9989             | Val Loss:  0.0447             | Val Accuracy:  0.9757\n"
     ]
    },
    {
     "name": "stderr",
     "output_type": "stream",
     "text": [
      "100%|██████████| 2227/2227 [00:03<00:00, 615.49it/s]\n"
     ]
    },
    {
     "name": "stdout",
     "output_type": "stream",
     "text": [
      "Epochs: 101 | Train Loss:  0.0291             | Train Accuracy:  0.9991             | Val Loss:  0.0441             | Val Accuracy:  0.9757\n"
     ]
    },
    {
     "name": "stderr",
     "output_type": "stream",
     "text": [
      "100%|██████████| 2227/2227 [00:03<00:00, 596.53it/s]\n"
     ]
    },
    {
     "name": "stdout",
     "output_type": "stream",
     "text": [
      "Epochs: 102 | Train Loss:  0.0282             | Train Accuracy:  0.9989             | Val Loss:  0.0435             | Val Accuracy:  0.9757\n"
     ]
    },
    {
     "name": "stderr",
     "output_type": "stream",
     "text": [
      "100%|██████████| 2227/2227 [00:03<00:00, 600.83it/s]\n"
     ]
    },
    {
     "name": "stdout",
     "output_type": "stream",
     "text": [
      "Epochs: 103 | Train Loss:  0.0275             | Train Accuracy:  0.9993             | Val Loss:  0.0429             | Val Accuracy:  0.9757\n"
     ]
    },
    {
     "name": "stderr",
     "output_type": "stream",
     "text": [
      "100%|██████████| 2227/2227 [00:03<00:00, 606.76it/s]\n"
     ]
    },
    {
     "name": "stdout",
     "output_type": "stream",
     "text": [
      "Epochs: 104 | Train Loss:  0.0268             | Train Accuracy:  0.9991             | Val Loss:  0.0423             | Val Accuracy:  0.9757\n"
     ]
    },
    {
     "name": "stderr",
     "output_type": "stream",
     "text": [
      "100%|██████████| 2227/2227 [00:03<00:00, 619.00it/s]\n"
     ]
    },
    {
     "name": "stdout",
     "output_type": "stream",
     "text": [
      "Epochs: 105 | Train Loss:  0.0267             | Train Accuracy:  0.9988             | Val Loss:  0.0418             | Val Accuracy:  0.9757\n"
     ]
    },
    {
     "name": "stderr",
     "output_type": "stream",
     "text": [
      "100%|██████████| 2227/2227 [00:03<00:00, 605.02it/s]\n"
     ]
    },
    {
     "name": "stdout",
     "output_type": "stream",
     "text": [
      "Epochs: 106 | Train Loss:  0.0258             | Train Accuracy:  0.9994             | Val Loss:  0.0412             | Val Accuracy:  0.9757\n"
     ]
    },
    {
     "name": "stderr",
     "output_type": "stream",
     "text": [
      "100%|██████████| 2227/2227 [00:03<00:00, 603.91it/s]\n"
     ]
    },
    {
     "name": "stdout",
     "output_type": "stream",
     "text": [
      "Epochs: 107 | Train Loss:  0.0251             | Train Accuracy:  0.9992             | Val Loss:  0.0407             | Val Accuracy:  0.9757\n"
     ]
    },
    {
     "name": "stderr",
     "output_type": "stream",
     "text": [
      "100%|██████████| 2227/2227 [00:03<00:00, 619.57it/s]\n"
     ]
    },
    {
     "name": "stdout",
     "output_type": "stream",
     "text": [
      "Epochs: 108 | Train Loss:  0.0246             | Train Accuracy:  0.9993             | Val Loss:  0.0402             | Val Accuracy:  0.9754\n"
     ]
    },
    {
     "name": "stderr",
     "output_type": "stream",
     "text": [
      "100%|██████████| 2227/2227 [00:03<00:00, 646.35it/s]\n"
     ]
    },
    {
     "name": "stdout",
     "output_type": "stream",
     "text": [
      "Epochs: 109 | Train Loss:  0.0238             | Train Accuracy:  0.9991             | Val Loss:  0.0397             | Val Accuracy:  0.9754\n"
     ]
    },
    {
     "name": "stderr",
     "output_type": "stream",
     "text": [
      "100%|██████████| 2227/2227 [00:03<00:00, 609.45it/s]\n"
     ]
    },
    {
     "name": "stdout",
     "output_type": "stream",
     "text": [
      "Epochs: 110 | Train Loss:  0.0233             | Train Accuracy:  0.9994             | Val Loss:  0.0392             | Val Accuracy:  0.9754\n"
     ]
    },
    {
     "name": "stderr",
     "output_type": "stream",
     "text": [
      "100%|██████████| 2227/2227 [00:03<00:00, 627.89it/s]\n"
     ]
    },
    {
     "name": "stdout",
     "output_type": "stream",
     "text": [
      "Epochs: 111 | Train Loss:  0.0227             | Train Accuracy:  0.9997             | Val Loss:  0.0388             | Val Accuracy:  0.9754\n"
     ]
    },
    {
     "name": "stderr",
     "output_type": "stream",
     "text": [
      "100%|██████████| 2227/2227 [00:03<00:00, 597.43it/s]\n"
     ]
    },
    {
     "name": "stdout",
     "output_type": "stream",
     "text": [
      "Epochs: 112 | Train Loss:  0.0223             | Train Accuracy:  0.9994             | Val Loss:  0.0383             | Val Accuracy:  0.9754\n"
     ]
    },
    {
     "name": "stderr",
     "output_type": "stream",
     "text": [
      "100%|██████████| 2227/2227 [00:03<00:00, 610.01it/s]\n"
     ]
    },
    {
     "name": "stdout",
     "output_type": "stream",
     "text": [
      "Epochs: 113 | Train Loss:  0.0218             | Train Accuracy:  0.9992             | Val Loss:  0.0379             | Val Accuracy:  0.9754\n"
     ]
    },
    {
     "name": "stderr",
     "output_type": "stream",
     "text": [
      "100%|██████████| 2227/2227 [00:03<00:00, 598.92it/s]\n"
     ]
    },
    {
     "name": "stdout",
     "output_type": "stream",
     "text": [
      "Epochs: 114 | Train Loss:  0.0210             | Train Accuracy:  0.9990             | Val Loss:  0.0374             | Val Accuracy:  0.9754\n"
     ]
    },
    {
     "name": "stderr",
     "output_type": "stream",
     "text": [
      "100%|██████████| 2227/2227 [00:03<00:00, 630.09it/s]\n"
     ]
    },
    {
     "name": "stdout",
     "output_type": "stream",
     "text": [
      "Epochs: 115 | Train Loss:  0.0207             | Train Accuracy:  0.9997             | Val Loss:  0.0370             | Val Accuracy:  0.9751\n"
     ]
    },
    {
     "name": "stderr",
     "output_type": "stream",
     "text": [
      "100%|██████████| 2227/2227 [00:03<00:00, 584.46it/s]\n"
     ]
    },
    {
     "name": "stdout",
     "output_type": "stream",
     "text": [
      "Epochs: 116 | Train Loss:  0.0199             | Train Accuracy:  0.9993             | Val Loss:  0.0366             | Val Accuracy:  0.9751\n"
     ]
    },
    {
     "name": "stderr",
     "output_type": "stream",
     "text": [
      "100%|██████████| 2227/2227 [00:03<00:00, 609.58it/s]\n"
     ]
    },
    {
     "name": "stdout",
     "output_type": "stream",
     "text": [
      "Epochs: 117 | Train Loss:  0.0198             | Train Accuracy:  0.9994             | Val Loss:  0.0362             | Val Accuracy:  0.9751\n"
     ]
    },
    {
     "name": "stderr",
     "output_type": "stream",
     "text": [
      "100%|██████████| 2227/2227 [00:03<00:00, 626.67it/s]\n"
     ]
    },
    {
     "name": "stdout",
     "output_type": "stream",
     "text": [
      "Epochs: 118 | Train Loss:  0.0190             | Train Accuracy:  0.9997             | Val Loss:  0.0358             | Val Accuracy:  0.9751\n"
     ]
    },
    {
     "name": "stderr",
     "output_type": "stream",
     "text": [
      "100%|██████████| 2227/2227 [00:03<00:00, 573.96it/s]\n"
     ]
    },
    {
     "name": "stdout",
     "output_type": "stream",
     "text": [
      "Epochs: 119 | Train Loss:  0.0187             | Train Accuracy:  0.9993             | Val Loss:  0.0354             | Val Accuracy:  0.9751\n"
     ]
    },
    {
     "name": "stderr",
     "output_type": "stream",
     "text": [
      "100%|██████████| 2227/2227 [00:04<00:00, 553.93it/s]\n"
     ]
    },
    {
     "name": "stdout",
     "output_type": "stream",
     "text": [
      "Epochs: 120 | Train Loss:  0.0185             | Train Accuracy:  0.9996             | Val Loss:  0.0351             | Val Accuracy:  0.9751\n"
     ]
    },
    {
     "name": "stderr",
     "output_type": "stream",
     "text": [
      "100%|██████████| 2227/2227 [00:03<00:00, 639.76it/s]\n"
     ]
    },
    {
     "name": "stdout",
     "output_type": "stream",
     "text": [
      "Epochs: 121 | Train Loss:  0.0178             | Train Accuracy:  0.9999             | Val Loss:  0.0347             | Val Accuracy:  0.9751\n"
     ]
    },
    {
     "name": "stderr",
     "output_type": "stream",
     "text": [
      "100%|██████████| 2227/2227 [00:03<00:00, 625.75it/s]\n"
     ]
    },
    {
     "name": "stdout",
     "output_type": "stream",
     "text": [
      "Epochs: 122 | Train Loss:  0.0174             | Train Accuracy:  0.9998             | Val Loss:  0.0344             | Val Accuracy:  0.9751\n"
     ]
    },
    {
     "name": "stderr",
     "output_type": "stream",
     "text": [
      "100%|██████████| 2227/2227 [00:03<00:00, 654.28it/s]\n"
     ]
    },
    {
     "name": "stdout",
     "output_type": "stream",
     "text": [
      "Epochs: 123 | Train Loss:  0.0170             | Train Accuracy:  0.9996             | Val Loss:  0.0340             | Val Accuracy:  0.9751\n"
     ]
    },
    {
     "name": "stderr",
     "output_type": "stream",
     "text": [
      "100%|██████████| 2227/2227 [00:03<00:00, 643.34it/s]\n"
     ]
    },
    {
     "name": "stdout",
     "output_type": "stream",
     "text": [
      "Epochs: 124 | Train Loss:  0.0166             | Train Accuracy:  0.9998             | Val Loss:  0.0337             | Val Accuracy:  0.9751\n"
     ]
    },
    {
     "name": "stderr",
     "output_type": "stream",
     "text": [
      "100%|██████████| 2227/2227 [00:03<00:00, 598.99it/s]\n"
     ]
    },
    {
     "name": "stdout",
     "output_type": "stream",
     "text": [
      "Epochs: 125 | Train Loss:  0.0164             | Train Accuracy:  0.9999             | Val Loss:  0.0334             | Val Accuracy:  0.9751\n"
     ]
    },
    {
     "name": "stderr",
     "output_type": "stream",
     "text": [
      "100%|██████████| 2227/2227 [00:03<00:00, 632.73it/s]\n"
     ]
    },
    {
     "name": "stdout",
     "output_type": "stream",
     "text": [
      "Epochs: 126 | Train Loss:  0.0157             | Train Accuracy:  0.9999             | Val Loss:  0.0331             | Val Accuracy:  0.9751\n"
     ]
    },
    {
     "name": "stderr",
     "output_type": "stream",
     "text": [
      "100%|██████████| 2227/2227 [00:03<00:00, 653.62it/s]\n"
     ]
    },
    {
     "name": "stdout",
     "output_type": "stream",
     "text": [
      "Epochs: 127 | Train Loss:  0.0154             | Train Accuracy:  0.9996             | Val Loss:  0.0328             | Val Accuracy:  0.9751\n"
     ]
    },
    {
     "name": "stderr",
     "output_type": "stream",
     "text": [
      "100%|██████████| 2227/2227 [00:03<00:00, 664.62it/s]\n"
     ]
    },
    {
     "name": "stdout",
     "output_type": "stream",
     "text": [
      "Epochs: 128 | Train Loss:  0.0150             | Train Accuracy:  0.9994             | Val Loss:  0.0325             | Val Accuracy:  0.9751\n"
     ]
    },
    {
     "name": "stderr",
     "output_type": "stream",
     "text": [
      "100%|██████████| 2227/2227 [00:03<00:00, 656.76it/s]\n"
     ]
    },
    {
     "name": "stdout",
     "output_type": "stream",
     "text": [
      "Epochs: 129 | Train Loss:  0.0147             | Train Accuracy:  0.9997             | Val Loss:  0.0322             | Val Accuracy:  0.9751\n"
     ]
    },
    {
     "name": "stderr",
     "output_type": "stream",
     "text": [
      "100%|██████████| 2227/2227 [00:03<00:00, 626.98it/s]\n"
     ]
    },
    {
     "name": "stdout",
     "output_type": "stream",
     "text": [
      "Epochs: 130 | Train Loss:  0.0143             | Train Accuracy:  0.9999             | Val Loss:  0.0319             | Val Accuracy:  0.9751\n"
     ]
    },
    {
     "name": "stderr",
     "output_type": "stream",
     "text": [
      "100%|██████████| 2227/2227 [00:03<00:00, 627.48it/s]\n"
     ]
    },
    {
     "name": "stdout",
     "output_type": "stream",
     "text": [
      "Epochs: 131 | Train Loss:  0.0140             | Train Accuracy:  0.9996             | Val Loss:  0.0317             | Val Accuracy:  0.9751\n"
     ]
    },
    {
     "name": "stderr",
     "output_type": "stream",
     "text": [
      "100%|██████████| 2227/2227 [00:03<00:00, 622.79it/s]\n"
     ]
    },
    {
     "name": "stdout",
     "output_type": "stream",
     "text": [
      "Epochs: 132 | Train Loss:  0.0135             | Train Accuracy:  0.9997             | Val Loss:  0.0314             | Val Accuracy:  0.9751\n"
     ]
    },
    {
     "name": "stderr",
     "output_type": "stream",
     "text": [
      "100%|██████████| 2227/2227 [00:03<00:00, 651.15it/s]\n"
     ]
    },
    {
     "name": "stdout",
     "output_type": "stream",
     "text": [
      "Epochs: 133 | Train Loss:  0.0131             | Train Accuracy:  0.9999             | Val Loss:  0.0312             | Val Accuracy:  0.9751\n"
     ]
    },
    {
     "name": "stderr",
     "output_type": "stream",
     "text": [
      "100%|██████████| 2227/2227 [00:03<00:00, 661.55it/s]\n"
     ]
    },
    {
     "name": "stdout",
     "output_type": "stream",
     "text": [
      "Epochs: 134 | Train Loss:  0.0129             | Train Accuracy:  0.9998             | Val Loss:  0.0310             | Val Accuracy:  0.9751\n"
     ]
    },
    {
     "name": "stderr",
     "output_type": "stream",
     "text": [
      "100%|██████████| 2227/2227 [00:03<00:00, 640.97it/s]\n"
     ]
    },
    {
     "name": "stdout",
     "output_type": "stream",
     "text": [
      "Epochs: 135 | Train Loss:  0.0124             | Train Accuracy:  0.9998             | Val Loss:  0.0307             | Val Accuracy:  0.9751\n"
     ]
    },
    {
     "name": "stderr",
     "output_type": "stream",
     "text": [
      "100%|██████████| 2227/2227 [00:03<00:00, 637.71it/s]\n"
     ]
    },
    {
     "name": "stdout",
     "output_type": "stream",
     "text": [
      "Epochs: 136 | Train Loss:  0.0122             | Train Accuracy:  0.9997             | Val Loss:  0.0305             | Val Accuracy:  0.9751\n"
     ]
    },
    {
     "name": "stderr",
     "output_type": "stream",
     "text": [
      "100%|██████████| 2227/2227 [00:03<00:00, 650.29it/s]\n"
     ]
    },
    {
     "name": "stdout",
     "output_type": "stream",
     "text": [
      "Epochs: 137 | Train Loss:  0.0120             | Train Accuracy:  0.9999             | Val Loss:  0.0303             | Val Accuracy:  0.9751\n"
     ]
    },
    {
     "name": "stderr",
     "output_type": "stream",
     "text": [
      "100%|██████████| 2227/2227 [00:03<00:00, 636.04it/s]\n"
     ]
    },
    {
     "name": "stdout",
     "output_type": "stream",
     "text": [
      "Epochs: 138 | Train Loss:  0.0116             | Train Accuracy:  0.9996             | Val Loss:  0.0301             | Val Accuracy:  0.9751\n"
     ]
    },
    {
     "name": "stderr",
     "output_type": "stream",
     "text": [
      "100%|██████████| 2227/2227 [00:03<00:00, 635.90it/s]\n"
     ]
    },
    {
     "name": "stdout",
     "output_type": "stream",
     "text": [
      "Epochs: 139 | Train Loss:  0.0114             | Train Accuracy:  0.9998             | Val Loss:  0.0299             | Val Accuracy:  0.9751\n"
     ]
    },
    {
     "name": "stderr",
     "output_type": "stream",
     "text": [
      "100%|██████████| 2227/2227 [00:03<00:00, 613.90it/s]\n"
     ]
    },
    {
     "name": "stdout",
     "output_type": "stream",
     "text": [
      "Epochs: 140 | Train Loss:  0.0110             | Train Accuracy:  0.9999             | Val Loss:  0.0297             | Val Accuracy:  0.9751\n"
     ]
    },
    {
     "name": "stderr",
     "output_type": "stream",
     "text": [
      "100%|██████████| 2227/2227 [00:03<00:00, 568.28it/s]\n"
     ]
    },
    {
     "name": "stdout",
     "output_type": "stream",
     "text": [
      "Epochs: 141 | Train Loss:  0.0109             | Train Accuracy:  0.9999             | Val Loss:  0.0296             | Val Accuracy:  0.9754\n"
     ]
    },
    {
     "name": "stderr",
     "output_type": "stream",
     "text": [
      "100%|██████████| 2227/2227 [00:04<00:00, 552.08it/s]\n"
     ]
    },
    {
     "name": "stdout",
     "output_type": "stream",
     "text": [
      "Epochs: 142 | Train Loss:  0.0105             | Train Accuracy:  0.9998             | Val Loss:  0.0294             | Val Accuracy:  0.9754\n"
     ]
    },
    {
     "name": "stderr",
     "output_type": "stream",
     "text": [
      "100%|██████████| 2227/2227 [00:03<00:00, 655.42it/s]\n"
     ]
    },
    {
     "name": "stdout",
     "output_type": "stream",
     "text": [
      "Epochs: 143 | Train Loss:  0.0101             | Train Accuracy:  0.9999             | Val Loss:  0.0292             | Val Accuracy:  0.9754\n"
     ]
    },
    {
     "name": "stderr",
     "output_type": "stream",
     "text": [
      "100%|██████████| 2227/2227 [00:03<00:00, 642.68it/s]\n"
     ]
    },
    {
     "name": "stdout",
     "output_type": "stream",
     "text": [
      "Epochs: 144 | Train Loss:  0.0099             | Train Accuracy:  0.9998             | Val Loss:  0.0291             | Val Accuracy:  0.9754\n"
     ]
    },
    {
     "name": "stderr",
     "output_type": "stream",
     "text": [
      "100%|██████████| 2227/2227 [00:03<00:00, 635.63it/s]\n"
     ]
    },
    {
     "name": "stdout",
     "output_type": "stream",
     "text": [
      "Epochs: 145 | Train Loss:  0.0097             | Train Accuracy:  0.9999             | Val Loss:  0.0290             | Val Accuracy:  0.9754\n"
     ]
    },
    {
     "name": "stderr",
     "output_type": "stream",
     "text": [
      "100%|██████████| 2227/2227 [00:03<00:00, 600.12it/s]\n"
     ]
    },
    {
     "name": "stdout",
     "output_type": "stream",
     "text": [
      "Epochs: 146 | Train Loss:  0.0095             | Train Accuracy:  0.9998             | Val Loss:  0.0288             | Val Accuracy:  0.9754\n"
     ]
    },
    {
     "name": "stderr",
     "output_type": "stream",
     "text": [
      "100%|██████████| 2227/2227 [00:03<00:00, 589.64it/s]\n"
     ]
    },
    {
     "name": "stdout",
     "output_type": "stream",
     "text": [
      "Epochs: 147 | Train Loss:  0.0094             | Train Accuracy:  0.9996             | Val Loss:  0.0287             | Val Accuracy:  0.9754\n"
     ]
    },
    {
     "name": "stderr",
     "output_type": "stream",
     "text": [
      "100%|██████████| 2227/2227 [00:03<00:00, 598.23it/s]\n"
     ]
    },
    {
     "name": "stdout",
     "output_type": "stream",
     "text": [
      "Epochs: 148 | Train Loss:  0.0090             | Train Accuracy:  0.9999             | Val Loss:  0.0286             | Val Accuracy:  0.9754\n"
     ]
    },
    {
     "name": "stderr",
     "output_type": "stream",
     "text": [
      "100%|██████████| 2227/2227 [00:03<00:00, 623.20it/s]\n"
     ]
    },
    {
     "name": "stdout",
     "output_type": "stream",
     "text": [
      "Epochs: 149 | Train Loss:  0.0088             | Train Accuracy:  0.9998             | Val Loss:  0.0284             | Val Accuracy:  0.9754\n"
     ]
    },
    {
     "name": "stderr",
     "output_type": "stream",
     "text": [
      "100%|██████████| 2227/2227 [00:03<00:00, 641.20it/s]\n"
     ]
    },
    {
     "name": "stdout",
     "output_type": "stream",
     "text": [
      "Epochs: 150 | Train Loss:  0.0085             | Train Accuracy:  0.9997             | Val Loss:  0.0283             | Val Accuracy:  0.9754\n"
     ]
    }
   ],
   "source": [
    "import torch\n",
    "import torch.nn as nn\n",
    "import torch.nn.functional as F\n",
    "from torch.optim import Adam\n",
    "from torch.utils.data import Dataset, DataLoader\n",
    "from tqdm import tqdm\n",
    "from sklearn import metrics\n",
    "\n",
    "EPOCHS = 150\n",
    "LR = 1e-6\n",
    "BATCH_SIZE = 4\n",
    "intermediate_train_path = f'{intermediate_directory}/train.txt'\n",
    "intermediate_val_path = f'{intermediate_directory}/val.txt'\n",
    "MODEL_SAVE_PATH = f'{root_directory}/ensemble_model/{DATASET_MASKING}{DATASET_NAME}'\n",
    "mkdir_if_not_exist(f'{root_directory}/ensemble_model')\n",
    "remove_file_if_exist(MODEL_SAVE_PATH)\n",
    "mkdir_if_not_exist(MODEL_SAVE_PATH)\n",
    "device = torch.device('cuda' if torch.cuda.is_available() else 'cpu')\n",
    "\n",
    "seed = 42\n",
    "os.environ['PYTHONHASHSEED'] = str(seed)\n",
    "torch.manual_seed(seed)\n",
    "torch.cuda.manual_seed(seed)\n",
    "torch.cuda.manual_seed_all(seed)\n",
    "np.random.seed(seed)\n",
    "random.seed(seed)\n",
    "torch.backends.cudnn.benchmark = False\n",
    "torch.backends.cudnn.deterministic = True\n",
    "\n",
    "class MyDataset(Dataset):\n",
    "    def __init__(self, path):\n",
    "        with open(path) as f:\n",
    "            data_list = f.read().split('\\n')\n",
    "        self.labels = [ int(data.split('\\t')[-1]) for data in data_list ]\n",
    "        self.inputs = [ [float(v) for v in data.split('\\t')[:-1]] for data in data_list ]\n",
    "        assert(len(self.labels) == len(self.inputs))\n",
    "\n",
    "    def classes(self):\n",
    "        return self.labels\n",
    "\n",
    "    def __len__(self):\n",
    "        return len(self.labels)\n",
    "\n",
    "    def __getitem__(self, idx):\n",
    "        x = self.inputs[idx]\n",
    "        y = self.labels[idx]\n",
    "        return x[0], x[1], x[2], x[3], y\n",
    "\n",
    "class MLP(nn.Module):\n",
    "    def __init__(self, input_dim, output_dim):\n",
    "        super().__init__()\n",
    "\n",
    "        self.dropout = nn.Dropout(0.1)\n",
    "        self.fc1 = nn.Linear(input_dim, 20)\n",
    "        self.out = nn.Linear(20, output_dim)\n",
    "\n",
    "    def forward(self, x):\n",
    "        x = self.fc1(x)\n",
    "        x = F.relu(x)\n",
    "        x = self.dropout(x)\n",
    "        x = self.out(x)\n",
    "        return x\n",
    "\n",
    "def train(model, train_dataset, val_dataset):\n",
    "    train_dataloader = DataLoader(train_dataset, batch_size=BATCH_SIZE)\n",
    "    val_dataloader = DataLoader(val_dataset, batch_size=BATCH_SIZE)\n",
    "\n",
    "    model = model.to(device)\n",
    "    optimizer = Adam(model.parameters(), lr=LR)\n",
    "    criterion = nn.CrossEntropyLoss()\n",
    "    criterion = criterion.to(device)\n",
    "\n",
    "    for epoch_num in range(EPOCHS):\n",
    "        model.train()\n",
    "        total_acc_train = 0\n",
    "        total_loss_train = 0\n",
    "        for x1, x2, x3, x4, y in tqdm(train_dataloader):\n",
    "            x = torch.transpose(torch.stack([x1, x2, x3, x4]), 0, 1).float().to(device)\n",
    "            y = y.to(device)\n",
    "            y_pred = model(x)\n",
    "\n",
    "            loss = criterion(y_pred, y)\n",
    "            total_loss_train += loss.item()\n",
    "\n",
    "            acc = (y_pred.argmax(dim=1) == y).sum().item()\n",
    "            total_acc_train += acc\n",
    "\n",
    "            model.zero_grad()\n",
    "            loss.backward()\n",
    "            optimizer.step()\n",
    "\n",
    "        total_acc_val = 0\n",
    "        total_loss_val = 0\n",
    "        model.eval()\n",
    "        with torch.no_grad():\n",
    "            for x1, x2, x3, x4, y in val_dataloader:\n",
    "                x = torch.transpose(torch.stack([x1, x2, x3, x4]), 0, 1).float().to(device)\n",
    "                y = y.to(device)\n",
    "                y_pred = model(x)\n",
    "\n",
    "                loss = criterion(y_pred, y)\n",
    "                total_loss_val += loss.item()\n",
    "\n",
    "                acc = (y_pred.argmax(dim=1) == y).sum().item()\n",
    "                total_acc_val += acc\n",
    "\n",
    "        print(\n",
    "            f'Epochs: {epoch_num + 1} | Train Loss: {total_loss_train / len(train_dataset): .4f} \\\n",
    "            | Train Accuracy: {total_acc_train / len(train_dataset): .4f} \\\n",
    "            | Val Loss: {total_loss_val / len(val_dataset): .4f} \\\n",
    "            | Val Accuracy: {total_acc_val / len(val_dataset): .4f}')\n",
    "\n",
    "        val_acc = f'{total_acc_val / len(val_dataset):.4f}'\n",
    "        torch.save(model.state_dict(), f'{MODEL_SAVE_PATH}/ensemble2_cnn_{val_acc}_epoch{epoch_num + 1}.pt')\n",
    "\n",
    "train_dataset = MyDataset(intermediate_train_path)\n",
    "val_dataset = MyDataset(intermediate_val_path)\n",
    "\n",
    "model = MLP(4, 2)\n",
    "train(model, train_dataset, val_dataset)\n"
   ]
  },
  {
   "cell_type": "code",
   "execution_count": 12,
   "metadata": {},
   "outputs": [
    {
     "name": "stdout",
     "output_type": "stream",
     "text": [
      "Test Accuracy:  0.9761\n",
      "              precision    recall  f1-score   support\n",
      "\n",
      "      benign     0.9738    0.9856    0.9797      1738\n",
      "  vulnerable     0.9793    0.9626    0.9709      1231\n",
      "\n",
      "    accuracy                         0.9761      2969\n",
      "   macro avg     0.9766    0.9741    0.9753      2969\n",
      "weighted avg     0.9761    0.9761    0.9761      2969\n",
      "\n",
      "[[1713   25]\n",
      " [  46 1185]]\n"
     ]
    }
   ],
   "source": [
    "def evaluate(model, test_dataset):\n",
    "    test_dataloader = DataLoader(test_dataset, batch_size=BATCH_SIZE)\n",
    "    model = model.to(device)\n",
    "    \n",
    "    total_acc_test = 0\n",
    "    predict_all = np.array([], dtype=int)\n",
    "    labels_all = np.array([], dtype=int)\n",
    "    model.eval()\n",
    "    with torch.no_grad():\n",
    "        for x1, x2, x3, x4, y in test_dataloader:\n",
    "            x = torch.transpose(torch.stack([x1, x2, x3, x4]), 0, 1).float().to(device)\n",
    "            y = y.to(device)\n",
    "            y_pred = model(x)\n",
    "            \n",
    "            acc = (y_pred.argmax(dim=1) == y).sum().item()\n",
    "            total_acc_test += acc\n",
    "            \n",
    "            y = y.data.cpu().numpy()\n",
    "            predic = y_pred.argmax(dim=1).data.cpu().numpy()\n",
    "            labels_all = np.append(labels_all, y)\n",
    "            predict_all = np.append(predict_all, predic)\n",
    "\n",
    "    report = metrics.classification_report(labels_all, predict_all, target_names=['benign', 'vulnerable'], digits=4)\n",
    "    confusion = metrics.confusion_matrix(labels_all, predict_all)\n",
    "    print(f'Test Accuracy: {total_acc_test / len(test_dataset): .4f}')\n",
    "    print(report)\n",
    "    print(confusion)\n",
    "\n",
    "mkdir_if_not_exist(MODEL_SAVE_PATH)\n",
    "model = MLP(4, 2)\n",
    "saved_model_name = 'ensemble2_cnn_0.9761_epoch99.pt'\n",
    "model.load_state_dict(torch.load(f'{MODEL_SAVE_PATH}/{saved_model_name}'))\n",
    "evaluate(model, val_dataset)\n",
    "\n"
   ]
  },
  {
   "cell_type": "code",
   "execution_count": null,
   "metadata": {},
   "outputs": [],
   "source": []
  }
 ],
 "metadata": {
  "kernelspec": {
   "display_name": "Python 3 (ipykernel)",
   "language": "python",
   "name": "python3"
  },
  "language_info": {
   "codemirror_mode": {
    "name": "ipython",
    "version": 3
   },
   "file_extension": ".py",
   "mimetype": "text/x-python",
   "name": "python",
   "nbconvert_exporter": "python",
   "pygments_lexer": "ipython3",
   "version": "3.8.10"
  }
 },
 "nbformat": 4,
 "nbformat_minor": 4
}
