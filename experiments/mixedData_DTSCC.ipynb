{
 "cells": [
  {
   "cell_type": "markdown",
   "metadata": {
    "tags": []
   },
   "source": [
    "# Global settings"
   ]
  },
  {
   "cell_type": "code",
   "execution_count": 1,
   "metadata": {},
   "outputs": [],
   "source": [
    "# References:\n",
    "# This source code file refers to:\n",
    "# https://github.com/ICL-ml4csec/VulBERTa\n",
    "# https://towardsdatascience.com/text-classification-with-bert-in-pytorch-887965e5820f\n",
    "# https://huggingface.co/docs/transformers/model_doc/roberta\n"
   ]
  },
  {
   "cell_type": "code",
   "execution_count": 2,
   "metadata": {},
   "outputs": [
    {
     "name": "stdout",
     "output_type": "stream",
     "text": [
      "using cuda\n"
     ]
    }
   ],
   "source": [
    "import os\n",
    "os.environ['CUDA_LAUNCH_BLOCKING'] = \"1\"\n",
    "import random\n",
    "import torch\n",
    "import numpy as np\n",
    "import shutil\n",
    "\n",
    "def write_to_file(text, path, mode='a'): # 'a': append; 'w': overwrite\n",
    "    with open(path, mode) as f:\n",
    "        f.write(text)\n",
    "\n",
    "def mkdir_if_not_exist(directory):\n",
    "    if not directory: return\n",
    "    if not os.path.exists(directory):\n",
    "        os.mkdir(directory)\n",
    "\n",
    "def remove_file_if_exist(path):\n",
    "    if not path: return\n",
    "    if os.path.exists(path):\n",
    "        try:\n",
    "            os.remove(path)\n",
    "        except:\n",
    "            shutil.rmtree(path)\n",
    "\n",
    "device = torch.device(\"cuda\" if torch.cuda.is_available() else \"cpu\")\n",
    "print('using', device)\n",
    "\n",
    "# The following randomization refers to: https://github.com/ICL-ml4csec/VulBERTa/blob/main/Finetuning_VulBERTa-MLP.ipynb\n",
    "seed = 42\n",
    "os.environ['PYTHONHASHSEED'] = str(seed)\n",
    "torch.manual_seed(seed)\n",
    "torch.cuda.manual_seed(seed)\n",
    "torch.cuda.manual_seed_all(seed)\n",
    "np.random.seed(seed)\n",
    "random.seed(seed)\n",
    "torch.backends.cudnn.benchmark = False\n",
    "torch.backends.cudnn.deterministic = True\n",
    "os.environ['WANDB_DISABLED'] = 'true'\n",
    "os.environ['WANDB_MODE'] = 'dryrun'\n",
    "\n",
    "# -------------------------------------- start\n",
    "\n",
    "DATASET_NAME = 'combined'\n",
    "# DATASET_MASKING = 'masked_'\n",
    "DATASET_MASKING = ''\n",
    "\n",
    "codeTF_check_point = 'vulberta_ 0.6865_ep2.pt'\n",
    "msgTF_check_point = 'roberta_base_fc_0.9767_ep9(combined).pt'\n",
    "\n",
    "# -------------------------------------- end\n",
    "\n",
    "pretrained_model_path = '/root/autodl-tmp/VulBERTa/'\n",
    "\n",
    "root_directory = '/root/autodl-tmp'\n",
    "dataset_directory = f'{root_directory}/output_dataset_1/{DATASET_MASKING}{DATASET_NAME}'\n",
    "init_train_path = f'{dataset_directory}/train.json'\n",
    "init_val_path = f'{dataset_directory}/val.json'\n",
    "init_test_path = f'{dataset_directory}/test.json'\n",
    "intermediate_directory = f'{root_directory}/intermediate/{DATASET_MASKING}{DATASET_NAME}'\n",
    "mkdir_if_not_exist(f'{root_directory}/intermediate')\n",
    "mkdir_if_not_exist(intermediate_directory)\n",
    "\n",
    "finetuned_ct_model_path = f'{root_directory}/codeTF_check_point/{DATASET_MASKING}{DATASET_NAME}/{codeTF_check_point}'\n",
    "intermediate_ct_train_path = f'{intermediate_directory}/ct_train.txt'\n",
    "intermediate_ct_val_path = f'{intermediate_directory}/ct_val.txt'\n",
    "intermediate_ct_test_path = f'{intermediate_directory}/ct_test.txt'\n",
    "\n",
    "finetuned_mt_model_path = f'{root_directory}/msgTF_check_point/{DATASET_MASKING}{DATASET_NAME}/{msgTF_check_point}'\n",
    "intermediate_mt_train_path = f'{intermediate_directory}/mt_train.txt'\n",
    "intermediate_mt_val_path = f'{intermediate_directory}/mt_val.txt'\n",
    "intermediate_mt_test_path = f'{intermediate_directory}/mt_test.txt'\n"
   ]
  },
  {
   "cell_type": "markdown",
   "metadata": {
    "tags": []
   },
   "source": [
    "# CodeTransformer"
   ]
  },
  {
   "cell_type": "code",
   "execution_count": 2,
   "metadata": {},
   "outputs": [
    {
     "name": "stdout",
     "output_type": "stream",
     "text": [
      "Tokenizing dataset...\n",
      "Done\n"
     ]
    }
   ],
   "source": [
    "from tqdm import tqdm\n",
    "import sys\n",
    "import pandas as pd\n",
    "import numpy as np\n",
    "import csv\n",
    "import pickle\n",
    "import re\n",
    "import torch\n",
    "import sklearn\n",
    "import random\n",
    "import clang\n",
    "from clang import *\n",
    "from clang import cindex\n",
    "from pathlib import Path\n",
    "from tokenizers import ByteLevelBPETokenizer\n",
    "from tokenizers.implementations import ByteLevelBPETokenizer\n",
    "from tokenizers.processors import BertProcessing\n",
    "from torch.utils.data import Dataset, DataLoader, IterableDataset\n",
    "from transformers import RobertaConfig\n",
    "from transformers import RobertaForMaskedLM, RobertaForSequenceClassification\n",
    "from transformers import RobertaTokenizerFast\n",
    "from transformers import DataCollatorForLanguageModeling\n",
    "from transformers import Trainer, TrainingArguments\n",
    "from transformers import LineByLineTextDataset\n",
    "from transformers.modeling_outputs import SequenceClassifierOutput\n",
    "from tokenizers.pre_tokenizers import PreTokenizer\n",
    "from tokenizers.pre_tokenizers import Whitespace\n",
    "from tokenizers import NormalizedString,PreTokenizedString\n",
    "from typing import List\n",
    "from tokenizers import Tokenizer\n",
    "from tokenizers import normalizers,decoders\n",
    "from tokenizers.normalizers import StripAccents, unicode_normalizer_from_str, Replace\n",
    "from tokenizers.processors import TemplateProcessing\n",
    "from tokenizers import processors,pre_tokenizers\n",
    "from tokenizers.models import BPE\n",
    "from sklearn import metrics\n",
    "\n",
    "# definitions\n",
    "class MyTokenizer:\n",
    "    cidx = cindex.Index.create()\n",
    "\n",
    "    def clang_split(self, i: int, normalized_string: NormalizedString) -> List[NormalizedString]:\n",
    "        ## Tokkenize using clang\n",
    "        tok = []\n",
    "        tu = self.cidx.parse('tmp.c',\n",
    "                       args=[''],  \n",
    "                       unsaved_files=[('tmp.c', str(normalized_string.original))],  \n",
    "                       options=0)\n",
    "        for t in tu.get_tokens(extent=tu.cursor.extent):\n",
    "            spelling = t.spelling.strip()\n",
    "            if spelling == '': continue\n",
    "            ## Keyword no need\n",
    "            ## Punctuations no need\n",
    "            ## Literal all to BPE\n",
    "            #spelling = spelling.replace(' ', '')\n",
    "            tok.append(NormalizedString(spelling))\n",
    "        return(tok)\n",
    "\n",
    "    def pre_tokenize(self, pretok: PreTokenizedString):\n",
    "        pretok.split(self.clang_split)\n",
    "\n",
    "def process_encodings(encodings):\n",
    "    input_ids=[]\n",
    "    attention_mask=[]\n",
    "    for enc in encodings:\n",
    "        input_ids.append(enc.ids)\n",
    "        attention_mask.append(enc.attention_mask)\n",
    "    return {'input_ids':input_ids, 'attention_mask':attention_mask}\n",
    "\n",
    "# ------------------------------------------------------------------------------\n",
    "# tokenize and load dataset\n",
    "print('Tokenizing dataset...')\n",
    "vocab, merges = BPE.read_file(vocab=\"./tokenizer/drapgh-vocab.json\", merges=\"./tokenizer/drapgh-merges.txt\")\n",
    "my_tokenizer = Tokenizer(BPE(vocab, merges, unk_token=\"<unk>\"))\n",
    "\n",
    "my_tokenizer.normalizer = normalizers.Sequence([StripAccents(), Replace(\" \", \"Ä\")])\n",
    "my_tokenizer.pre_tokenizer = PreTokenizer.custom(MyTokenizer())\n",
    "my_tokenizer.post_processor = processors.ByteLevel(trim_offsets=False)\n",
    "my_tokenizer.post_processor = TemplateProcessing(\n",
    "    single=\"<s> $A </s>\",\n",
    "    special_tokens=[\n",
    "    (\"<s>\",0),\n",
    "    (\"<pad>\",1),\n",
    "    (\"</s>\",2),\n",
    "    (\"<unk>\",3),\n",
    "    (\"<mask>\",4)\n",
    "    ]\n",
    ")\n",
    "\n",
    "my_tokenizer.enable_truncation(max_length=1024)\n",
    "my_tokenizer.enable_padding(direction='right', pad_id=1, pad_type_id=0, pad_token='<pad>', length=None, pad_to_multiple_of=None)\n",
    "\n",
    "m1 = pd.read_json(init_train_path)\n",
    "m2 = pd.read_json(init_val_path)\n",
    "# m3 = pd.read_json(init_test_path)\n",
    "\n",
    "train_encodings = my_tokenizer.encode_batch(m1.commit_patch)\n",
    "train_encodings = process_encodings(train_encodings)\n",
    "\n",
    "val_encodings = my_tokenizer.encode_batch(m2.commit_patch)\n",
    "val_encodings = process_encodings(val_encodings)\n",
    "\n",
    "# test_encodings = my_tokenizer.encode_batch(m3.commit_patch)\n",
    "# test_encodings = process_encodings(test_encodings)\n",
    "\n",
    "print('Done')\n"
   ]
  },
  {
   "cell_type": "code",
   "execution_count": 3,
   "metadata": {},
   "outputs": [],
   "source": [
    "class MyCustomDataset(Dataset):\n",
    "    def __init__(self, ids, encodings, labels):\n",
    "        self.ids = ids\n",
    "        self.encodings = encodings\n",
    "        self.labels = labels\n",
    "        assert len(self.encodings['input_ids']) == len(self.encodings['attention_mask']) == len(self.labels) == len(self.ids)\n",
    "\n",
    "    def __getitem__(self, idx):\n",
    "        item = {key: torch.tensor(val[idx]) for key, val in self.encodings.items()}\n",
    "        item['labels'] = torch.tensor(self.labels[idx])\n",
    "        item['ids'] = self.ids[idx]\n",
    "        return item\n",
    "\n",
    "    def __len__(self):\n",
    "        return len(self.labels)\n",
    "\n",
    "train_dataset = MyCustomDataset(m1.id.tolist(), train_encodings, m1.label.tolist())\n",
    "val_dataset = MyCustomDataset(m2.id.tolist(), val_encodings, m2.label.tolist())\n",
    "# test_dataset = MyCustomDataset(m3.id.tolist(), test_encodings, m3.label.tolist())\n"
   ]
  },
  {
   "cell_type": "code",
   "execution_count": 4,
   "metadata": {},
   "outputs": [
    {
     "name": "stdout",
     "output_type": "stream",
     "text": [
      "Generating intermediate data...\n"
     ]
    },
    {
     "name": "stderr",
     "output_type": "stream",
     "text": [
      "Some weights of the model checkpoint at /root/autodl-tmp/VulBERTa/ were not used when initializing RobertaForSequenceClassification: ['lm_head.layer_norm.weight', 'lm_head.dense.bias', 'lm_head.layer_norm.bias', 'lm_head.decoder.bias', 'lm_head.decoder.weight', 'lm_head.bias', 'lm_head.dense.weight']\n",
      "- This IS expected if you are initializing RobertaForSequenceClassification from the checkpoint of a model trained on another task or with another architecture (e.g. initializing a BertForSequenceClassification model from a BertForPreTraining model).\n",
      "- This IS NOT expected if you are initializing RobertaForSequenceClassification from the checkpoint of a model that you expect to be exactly identical (initializing a BertForSequenceClassification model from a BertForSequenceClassification model).\n",
      "Some weights of RobertaForSequenceClassification were not initialized from the model checkpoint at /root/autodl-tmp/VulBERTa/ and are newly initialized: ['classifier.out_proj.bias', 'classifier.dense.bias', 'classifier.dense.weight', 'classifier.out_proj.weight']\n",
      "You should probably TRAIN this model on a down-stream task to be able to use it for predictions and inference.\n",
      "100%|██████████| 148/148 [04:28<00:00,  1.81s/it]\n",
      "100%|██████████| 37/37 [01:07<00:00,  1.83s/it]"
     ]
    },
    {
     "name": "stdout",
     "output_type": "stream",
     "text": [
      "Test Accuracy:  0.6865\n",
      "              precision    recall  f1-score   support\n",
      "\n",
      "      benign     0.6913    0.6898    0.6906      2389\n",
      "  vulnerable     0.6816    0.6830    0.6823      2322\n",
      "\n",
      "    accuracy                         0.6865      4711\n",
      "   macro avg     0.6864    0.6864    0.6864      4711\n",
      "weighted avg     0.6865    0.6865    0.6865      4711\n",
      "\n",
      "[[1648  741]\n",
      " [ 736 1586]]\n"
     ]
    },
    {
     "name": "stderr",
     "output_type": "stream",
     "text": [
      "\n"
     ]
    }
   ],
   "source": [
    "# ------------------------------------------------------------------------------\n",
    "# generate intermediate data by CodeTransformer\n",
    "from sklearn import metrics\n",
    "\n",
    "print('Generating intermediate data...')\n",
    "model = RobertaForSequenceClassification.from_pretrained(pretrained_model_path)\n",
    "model.to(device)\n",
    "model.load_state_dict(torch.load(finetuned_ct_model_path))\n",
    "\n",
    "def generate_ct_intermediate_dataset(input_data, intermediate_data_path, evaluate=True):\n",
    "    data_loader = DataLoader(input_data, batch_size=128)\n",
    "    device = torch.device(\"cuda\" if torch.cuda.is_available() else \"cpu\")\n",
    "    \n",
    "    total_acc = 0\n",
    "    predict_all = np.array([], dtype=int)\n",
    "    labels_all = np.array([], dtype=int)\n",
    "\n",
    "    model.eval()\n",
    "    with torch.no_grad():\n",
    "        for batch in tqdm(data_loader):\n",
    "            input_ids = batch['input_ids'].to(device)\n",
    "            attention_mask = batch['attention_mask'].to(device)\n",
    "            labels = batch['labels'].to(device)\n",
    "            ids = batch['ids']\n",
    "            outputs = model(input_ids, attention_mask=attention_mask)\n",
    "            # outputs['logits'] is equal to outputs[0]\n",
    "            outputs = outputs['logits']\n",
    "\n",
    "            probs = torch.nn.functional.softmax(outputs, dim=1).tolist()\n",
    "            assert(len(probs) == len(labels))\n",
    "            pred_list = outputs.argmax(dim=1).data.cpu().numpy().tolist()\n",
    "            for i in range(len(probs)):\n",
    "                id_ = ids[i]\n",
    "                prob = probs[i]\n",
    "                label = int(labels[i])\n",
    "                pred_ = int(pred_list[i])\n",
    "                content = '\\t'.join([str(i) for i in [id_] + prob + [pred_] + [label]]) + '\\n'\n",
    "                write_to_file(content, intermediate_data_path)\n",
    "\n",
    "            if evaluate:\n",
    "                acc = (outputs.argmax(dim=1) == labels).sum().item()\n",
    "                total_acc += acc\n",
    "\n",
    "                labels = labels.data.cpu().numpy()\n",
    "                predic = outputs.argmax(dim=1).data.cpu().numpy()\n",
    "                labels_all = np.append(labels_all, labels)\n",
    "                predict_all = np.append(predict_all, predic)\n",
    "\n",
    "    if evaluate:\n",
    "        report = metrics.classification_report(labels_all, predict_all, target_names=['benign', 'vulnerable'], digits=4)\n",
    "        confusion = metrics.confusion_matrix(labels_all, predict_all)\n",
    "        print(f'Test Accuracy: {total_acc / len(input_data): .4f}')\n",
    "        print(report)\n",
    "        print(confusion)\n",
    "\n",
    "remove_file_if_exist(intermediate_ct_train_path)\n",
    "remove_file_if_exist(intermediate_ct_val_path)\n",
    "\n",
    "generate_ct_intermediate_dataset(train_dataset, intermediate_ct_train_path, False)\n",
    "generate_ct_intermediate_dataset(val_dataset, intermediate_ct_val_path)\n",
    "\n"
   ]
  },
  {
   "cell_type": "markdown",
   "metadata": {
    "tags": []
   },
   "source": [
    "# MsgTransformer"
   ]
  },
  {
   "cell_type": "code",
   "execution_count": 2,
   "metadata": {},
   "outputs": [
    {
     "name": "stderr",
     "output_type": "stream",
     "text": [
      "Some weights of the model checkpoint at roberta-base were not used when initializing RobertaModel: ['lm_head.dense.bias', 'lm_head.bias', 'lm_head.layer_norm.weight', 'lm_head.decoder.weight', 'lm_head.layer_norm.bias', 'lm_head.dense.weight']\n",
      "- This IS expected if you are initializing RobertaModel from the checkpoint of a model trained on another task or with another architecture (e.g. initializing a BertForSequenceClassification model from a BertForPreTraining model).\n",
      "- This IS NOT expected if you are initializing RobertaModel from the checkpoint of a model that you expect to be exactly identical (initializing a BertForSequenceClassification model from a BertForSequenceClassification model).\n",
      "100%|██████████| 148/148 [01:43<00:00,  1.43it/s]\n",
      "100%|██████████| 37/37 [00:26<00:00,  1.42it/s]"
     ]
    },
    {
     "name": "stdout",
     "output_type": "stream",
     "text": [
      "Test Accuracy:  0.9767\n",
      "              precision    recall  f1-score   support\n",
      "\n",
      "      benign     0.9746    0.9795    0.9770      2389\n",
      "  vulnerable     0.9788    0.9737    0.9763      2322\n",
      "\n",
      "    accuracy                         0.9767      4711\n",
      "   macro avg     0.9767    0.9766    0.9766      4711\n",
      "weighted avg     0.9767    0.9767    0.9766      4711\n",
      "\n",
      "[[2340   49]\n",
      " [  61 2261]]\n"
     ]
    },
    {
     "name": "stderr",
     "output_type": "stream",
     "text": [
      "\n"
     ]
    }
   ],
   "source": [
    "import pandas as pd\n",
    "import numpy as np\n",
    "import torch\n",
    "from transformers import BertTokenizer\n",
    "from torch import nn\n",
    "from transformers import BertModel\n",
    "from transformers import RobertaModel, RobertaTokenizerFast\n",
    "from torch.optim import Adam\n",
    "from tqdm import tqdm\n",
    "from sklearn import metrics\n",
    "from torch.nn.parallel import DistributedDataParallel\n",
    "import os\n",
    "import random\n",
    "\n",
    "# definitions\n",
    "seed = 42\n",
    "os.environ['PYTHONHASHSEED'] = str(seed)\n",
    "torch.manual_seed(seed)\n",
    "torch.cuda.manual_seed(seed)\n",
    "torch.cuda.manual_seed_all(seed)\n",
    "np.random.seed(seed)\n",
    "random.seed(seed)\n",
    "torch.backends.cudnn.benchmark = False\n",
    "torch.backends.cudnn.deterministic = True\n",
    "\n",
    "BERT_CONFIG = 'roberta-base'\n",
    "labels = {0:0, 1:1}\n",
    "BATCH_SIZE = 128\n",
    "tokenizer = RobertaTokenizerFast.from_pretrained(BERT_CONFIG)\n",
    "\n",
    "class Dataset(torch.utils.data.Dataset):\n",
    "    def __init__(self, df):\n",
    "        self.labels = [labels[label] for label in df['label']]\n",
    "        self.texts = [tokenizer(text, padding='max_length', max_length=512, truncation=True,\n",
    "                                return_tensors=\"pt\") for text in df['commit_message']]\n",
    "        self.ids = [id_ for id_ in df['id']]\n",
    "\n",
    "    def classes(self):\n",
    "        return self.labels\n",
    "\n",
    "    def __len__(self):\n",
    "        return len(self.labels)\n",
    "\n",
    "    def get_batch_labels(self, idx):\n",
    "        # Fetch a batch of labels\n",
    "        return np.array(self.labels[idx])\n",
    "\n",
    "    def get_batch_texts(self, idx):\n",
    "        # Fetch a batch of inputs\n",
    "        return self.texts[idx]\n",
    "\n",
    "    def __getitem__(self, idx):\n",
    "        batch_ids = self.ids[idx]\n",
    "        batch_texts = self.get_batch_texts(idx)\n",
    "        batch_y = self.get_batch_labels(idx)\n",
    "        return batch_ids, batch_texts, batch_y\n",
    "\n",
    "class BertClassifier(nn.Module):\n",
    "    def __init__(self, dropout=0.5):\n",
    "        super(BertClassifier, self).__init__()\n",
    "\n",
    "        self.bert = RobertaModel.from_pretrained(BERT_CONFIG)\n",
    "        self.dropout = nn.Dropout(dropout)\n",
    "        if BERT_CONFIG == 'roberta-large':\n",
    "            self.linear = nn.Linear(1024, len(labels))\n",
    "        else:\n",
    "            self.linear = nn.Linear(768, len(labels))\n",
    "        self.relu = nn.ReLU()\n",
    "\n",
    "    def forward(self, input_id, mask):\n",
    "        _, pooled_output = self.bert(input_ids=input_id, attention_mask=mask, return_dict=False)\n",
    "        dropout_output = self.dropout(pooled_output)\n",
    "        linear_output = self.linear(dropout_output)\n",
    "        # final_layer = self.relu(linear_output) # IMPO CHANGE\n",
    "        return linear_output\n",
    "\n",
    "    def check_parameters(self):\n",
    "        print('The number of Bert parameters:', self.bert.num_parameters())\n",
    "\n",
    "# ------------------------------------------------------------------------------\n",
    "# generate intermediate data by MsgTransformer and evaluation\n",
    "model = BertClassifier()\n",
    "model.to(device)\n",
    "model.load_state_dict(torch.load(finetuned_mt_model_path))\n",
    "\n",
    "def generate_mt_intermediate_dataset(input_data, intermediate_data_path, evaluate=True):\n",
    "    data_loader = torch.utils.data.DataLoader(Dataset(input_data), batch_size=BATCH_SIZE)\n",
    "    device = torch.device(\"cuda\" if torch.cuda.is_available() else \"cpu\")\n",
    "    \n",
    "    total_acc = 0\n",
    "    predict_all = np.array([], dtype=int)\n",
    "    labels_all = np.array([], dtype=int)\n",
    "\n",
    "    model.eval()\n",
    "    with torch.no_grad():\n",
    "        for ids, texts, labels in tqdm(data_loader):\n",
    "            labels = labels.to(device)\n",
    "            masks = texts['attention_mask'].to(device)\n",
    "            input_ids = texts['input_ids'].squeeze(1).to(device)\n",
    "            outputs = model(input_ids, masks)\n",
    "\n",
    "            probs = torch.nn.functional.softmax(outputs, dim=1).tolist()\n",
    "            assert(len(probs) == len(labels))\n",
    "            pred_list = outputs.argmax(dim=1).data.cpu().numpy().tolist()\n",
    "            assert(len(probs) == len(pred_list))\n",
    "            assert(len(probs) == len(ids))\n",
    "            for i in range(len(probs)):\n",
    "                id_ = ids[i]\n",
    "                prob = probs[i]\n",
    "                label = int(labels[i])\n",
    "                pred_ = int(pred_list[i])\n",
    "                content = '\\t'.join([str(i) for i in [id_] + prob + [pred_] + [label]]) + '\\n'\n",
    "                write_to_file(content, intermediate_data_path)\n",
    "\n",
    "            if evaluate:\n",
    "                acc = (outputs.argmax(dim=1) == labels).sum().item()\n",
    "                total_acc += acc\n",
    "\n",
    "                labels = labels.data.cpu().numpy()\n",
    "                predic = outputs.argmax(dim=1).data.cpu().numpy()\n",
    "                labels_all = np.append(labels_all, labels)\n",
    "                predict_all = np.append(predict_all, predic)\n",
    "\n",
    "    if evaluate:\n",
    "        report = metrics.classification_report(labels_all, predict_all, target_names=['benign', 'vulnerable'], digits=4)\n",
    "        confusion = metrics.confusion_matrix(labels_all, predict_all)\n",
    "        print(f'Test Accuracy: {total_acc / len(input_data): .4f}')\n",
    "        print(report)\n",
    "        print(confusion)\n",
    "\n",
    "df_train = pd.read_json(init_train_path)\n",
    "df_val = pd.read_json(init_val_path)\n",
    "\n",
    "remove_file_if_exist(intermediate_mt_train_path)\n",
    "remove_file_if_exist(intermediate_mt_val_path)\n",
    "\n",
    "generate_mt_intermediate_dataset(df_train, intermediate_mt_train_path, False)\n",
    "generate_mt_intermediate_dataset(df_val, intermediate_mt_val_path)\n"
   ]
  },
  {
   "cell_type": "markdown",
   "metadata": {
    "tags": []
   },
   "source": [
    "# Combine everything into intermediate dataset"
   ]
  },
  {
   "cell_type": "code",
   "execution_count": 3,
   "metadata": {},
   "outputs": [],
   "source": [
    "import json\n",
    "\n",
    "intermediate_train_path = f'{intermediate_directory}/train.txt'\n",
    "intermediate_val_path = f'{intermediate_directory}/val.txt'\n",
    "intermediate_test_path = f'{intermediate_directory}/test.txt'\n",
    "\n",
    "def generate_intermediate_dataset(intermediate_mt_data_path, intermediate_ct_data_path, intermediate_data_path, init_data_path):\n",
    "    with open(intermediate_mt_data_path) as f:\n",
    "        mt_data_list = f.read().split('\\n')\n",
    "    \n",
    "    with open(intermediate_ct_data_path) as f:\n",
    "        ct_data_list = f.read().split('\\n')\n",
    "    \n",
    "    mt_data_list = mt_data_list[:-1] if not mt_data_list[-1] else mt_data_list\n",
    "    ct_data_list = ct_data_list[:-1] if not ct_data_list[-1] else ct_data_list\n",
    "\n",
    "    assert(len(mt_data_list) == len(ct_data_list))\n",
    "\n",
    "    for i in range(len(mt_data_list)):\n",
    "        mt_data = mt_data_list[i].split('\\t')\n",
    "        ct_data = ct_data_list[i].split('\\t')\n",
    "        assert(mt_data[0] == ct_data[0])\n",
    "        assert(mt_data[-1] == ct_data[-1])\n",
    "        data_id = mt_data[0]\n",
    "        label = mt_data[-1]\n",
    "        mt_pred = mt_data[-2]\n",
    "        ct_pred = ct_data[-2]\n",
    "        content = '\\t'.join([data_id] + mt_data[1:3] + ct_data[1:3] + [str(mt_pred)] + [str(ct_pred)] + [label])\n",
    "        content = content + '\\n' if i < len(mt_data_list) - 1 else content\n",
    "        write_to_file(content, intermediate_data_path)\n",
    "\n",
    "remove_file_if_exist(intermediate_train_path)\n",
    "remove_file_if_exist(intermediate_val_path)\n",
    "\n",
    "generate_intermediate_dataset(intermediate_mt_train_path, intermediate_ct_train_path, intermediate_train_path, init_train_path)\n",
    "generate_intermediate_dataset(intermediate_mt_val_path, intermediate_ct_val_path, intermediate_val_path, init_val_path)\n"
   ]
  },
  {
   "cell_type": "markdown",
   "metadata": {
    "tags": []
   },
   "source": [
    "# Ensemble learning"
   ]
  },
  {
   "cell_type": "code",
   "execution_count": 36,
   "metadata": {},
   "outputs": [
    {
     "name": "stdout",
     "output_type": "stream",
     "text": [
      "intermediate_val_path: /root/autodl-tmp/intermediate/combined/val.txt\n"
     ]
    }
   ],
   "source": [
    "import torch\n",
    "import torch.nn as nn\n",
    "import torch.nn.functional as F\n",
    "from torch.optim import Adam\n",
    "from torch.utils.data import Dataset, DataLoader\n",
    "from tqdm import tqdm\n",
    "from sklearn import metrics\n",
    "\n",
    "EPOCHS = 80\n",
    "LR = 1e-6\n",
    "BATCH_SIZE = 4\n",
    "intermediate_train_path = f'{intermediate_directory}/train.txt'\n",
    "intermediate_val_path = f'{intermediate_directory}/val.txt'\n",
    "# intermediate_test_path = f'{intermediate_directory}/test.txt'\n",
    "MODEL_SAVE_PATH = f'{root_directory}/ensemble_model/{DATASET_MASKING}{DATASET_NAME}'\n",
    "device = torch.device('cuda' if torch.cuda.is_available() else 'cpu')\n",
    "\n",
    "seed = 42\n",
    "os.environ['PYTHONHASHSEED'] = str(seed)\n",
    "torch.manual_seed(seed)\n",
    "torch.cuda.manual_seed(seed)\n",
    "torch.cuda.manual_seed_all(seed)\n",
    "np.random.seed(seed)\n",
    "random.seed(seed)\n",
    "torch.backends.cudnn.benchmark = False\n",
    "torch.backends.cudnn.deterministic = True\n",
    "\n",
    "class MLP(nn.Module):\n",
    "    def __init__(self, input_dim, output_dim):\n",
    "        super().__init__()\n",
    "\n",
    "        self.dropout = nn.Dropout(0.1)\n",
    "        self.fc1 = nn.Linear(input_dim, 20)\n",
    "        self.out = nn.Linear(20, output_dim)\n",
    "\n",
    "    def forward(self, x):\n",
    "        x = self.fc1(x)\n",
    "        x = F.relu(x)\n",
    "        x = self.dropout(x)\n",
    "        x = self.out(x)\n",
    "        return x\n",
    "\n",
    "class MyDataset(Dataset):\n",
    "    def __init__(self, path):\n",
    "        with open(path) as f:\n",
    "            data_list = f.read().split('\\n')\n",
    "        self.labels = [ int(data.split('\\t')[-1]) for data in data_list ]\n",
    "        self.inputs = []\n",
    "        for data in data_list:\n",
    "            tmp_list = data.split('\\t')[:-1]\n",
    "            for i in range(1, 5):\n",
    "                tmp_list[i] = float(tmp_list[i])\n",
    "            for i in range(5, len(tmp_list)):\n",
    "                tmp_list[i] = int(tmp_list[i])\n",
    "            self.inputs.append(tmp_list)\n",
    "        \n",
    "        assert(len(self.labels) == len(self.inputs))\n",
    "\n",
    "    def classes(self):\n",
    "        return self.labels\n",
    "\n",
    "    def __len__(self):\n",
    "        return len(self.labels)\n",
    "\n",
    "    def __getitem__(self, idx):\n",
    "        x = self.inputs[idx]\n",
    "        y = self.labels[idx]\n",
    "        return x[0], x[1], x[2], x[3], x[4], x[5], x[6], y\n",
    "\n",
    "def train(model, train_dataset, val_dataset):\n",
    "    train_dataloader = DataLoader(train_dataset, batch_size=BATCH_SIZE)\n",
    "    val_dataloader = DataLoader(val_dataset, batch_size=BATCH_SIZE)\n",
    "\n",
    "    model = model.to(device)\n",
    "    optimizer = Adam(model.parameters(), lr=LR)\n",
    "    criterion = nn.CrossEntropyLoss()\n",
    "    criterion = criterion.to(device)\n",
    "\n",
    "    for epoch_num in range(EPOCHS):\n",
    "        model.train()\n",
    "        total_acc_train = 0\n",
    "        total_loss_train = 0\n",
    "        for x0, x1, x2, x3, x4, x5, x6, y in tqdm(train_dataloader):\n",
    "            x = torch.transpose(torch.stack([x1, x2, x3, x4]), 0, 1).float().to(device)\n",
    "            y = y.to(device)\n",
    "            y_pred = model(x)\n",
    "\n",
    "            loss = criterion(y_pred, y)\n",
    "            total_loss_train += loss.item()\n",
    "\n",
    "            acc = (y_pred.argmax(dim=1) == y).sum().item()\n",
    "            total_acc_train += acc\n",
    "\n",
    "            model.zero_grad()\n",
    "            loss.backward()\n",
    "            optimizer.step()\n",
    "\n",
    "        total_acc_val = 0\n",
    "        total_loss_val = 0\n",
    "        model.eval()\n",
    "        with torch.no_grad():\n",
    "            for x0, x1, x2, x3, x4, x5, x6, y in val_dataloader:\n",
    "                x = torch.transpose(torch.stack([x1, x2, x3, x4]), 0, 1).float().to(device)\n",
    "                y = y.to(device)\n",
    "                y_pred = model(x)\n",
    "\n",
    "                loss = criterion(y_pred, y)\n",
    "                total_loss_val += loss.item()\n",
    "\n",
    "                acc = (y_pred.argmax(dim=1) == y).sum().item()\n",
    "                total_acc_val += acc\n",
    "\n",
    "        print(\n",
    "            f'Epochs: {epoch_num + 1} | Train Loss: {total_loss_train / len(train_dataset): .4f} \\\n",
    "            | Train Accuracy: {total_acc_train / len(train_dataset): .4f} \\\n",
    "            | Val Loss: {total_loss_val / len(val_dataset): .4f} \\\n",
    "            | Val Accuracy: {total_acc_val / len(val_dataset): .4f}')\n",
    "\n",
    "        val_acc = f'{total_acc_val / len(val_dataset):.4f}'\n",
    "        torch.save(model.state_dict(), f'{MODEL_SAVE_PATH}/ensemble2_{val_acc}_epoch{epoch_num + 1}.pt')\n",
    "\n",
    "def evaluate(model, test_dataset):\n",
    "    test_dataloader = DataLoader(test_dataset, batch_size=1)\n",
    "    model = model.to(device)\n",
    "    \n",
    "    real_sample_count = 0\n",
    "    total_acc_test = 0\n",
    "    predict_all = np.array([], dtype=int)\n",
    "    labels_all = np.array([], dtype=int)\n",
    "    model.eval()\n",
    "    with torch.no_grad():\n",
    "        for x0, x1, x2, x3, x4, x5, x6, y in test_dataloader:\n",
    "            data_id = x0[0]\n",
    "            # for only-bigvul testing starts ---- \n",
    "#             if not data_id.startswith('bigvul_'): continue\n",
    "            # for only-bigvul testing ends ---- \n",
    "\n",
    "            x = torch.transpose(torch.stack([x1, x2, x3, x4]), 0, 1).float().to(device)\n",
    "            y = y.to(device)\n",
    "            y_pred = model(x)\n",
    "            \n",
    "            acc = (y_pred.argmax(dim=1) == y).sum().item()\n",
    "            total_acc_test += acc\n",
    "            \n",
    "            y = y.data.cpu().numpy()\n",
    "            predic = y_pred.argmax(dim=1).data.cpu().numpy()\n",
    "            predic_n = predic[0]\n",
    "            mt_pred = x5\n",
    "            ct_pred = x6\n",
    "\n",
    "            if mt_pred == 0 and ct_pred == 1 and predic_n == 1 and y.item() == 1:\n",
    "                print('----data_id (CodeTF true positive):', data_id)\n",
    "            if mt_pred == 1 and ct_pred == 0 and predic_n == 0 and y.item() == 0:\n",
    "                print('----data_id (CodeTF true negative):', data_id)\n",
    "            \n",
    "            if ct_pred == 1 and predic_n == 1 and data_id.startswith('bigvul_'):\n",
    "                print('data_id (true on bigvul):', data_id)\n",
    "            \n",
    "            if data_id.startswith('bigvul_'):\n",
    "                real_sample_count += 1\n",
    "            \n",
    "            labels_all = np.append(labels_all, y)\n",
    "            predict_all = np.append(predict_all, predic)\n",
    "\n",
    "    report = metrics.classification_report(labels_all, predict_all, target_names=['benign', 'vulnerable'], digits=4)\n",
    "    confusion = metrics.confusion_matrix(labels_all, predict_all)\n",
    "    print(f'Test Accuracy: {total_acc_test / len(test_dataset): .4f}')\n",
    "    print(report)\n",
    "    print(confusion)\n",
    "    \n",
    "    print('real_sample_count for bigvul:', real_sample_count)\n",
    "\n",
    "train_dataset = MyDataset(intermediate_train_path)\n",
    "val_dataset = MyDataset(intermediate_val_path)\n",
    "# test_dataset = MyDataset(intermediate_test_path)\n",
    "print('intermediate_val_path:', intermediate_val_path)\n"
   ]
  },
  {
   "cell_type": "code",
   "execution_count": 32,
   "metadata": {},
   "outputs": [
    {
     "name": "stderr",
     "output_type": "stream",
     "text": [
      "100%|██████████| 4709/4709 [00:07<00:00, 611.78it/s]\n"
     ]
    },
    {
     "name": "stdout",
     "output_type": "stream",
     "text": [
      "Epochs: 1 | Train Loss:  0.1425             | Train Accuracy:  0.8825             | Val Loss:  0.1446             | Val Accuracy:  0.8554\n"
     ]
    },
    {
     "name": "stderr",
     "output_type": "stream",
     "text": [
      "100%|██████████| 4709/4709 [00:07<00:00, 604.96it/s]\n"
     ]
    },
    {
     "name": "stdout",
     "output_type": "stream",
     "text": [
      "Epochs: 2 | Train Loss:  0.1401             | Train Accuracy:  0.8893             | Val Loss:  0.1422             | Val Accuracy:  0.8680\n"
     ]
    },
    {
     "name": "stderr",
     "output_type": "stream",
     "text": [
      "100%|██████████| 4709/4709 [00:07<00:00, 599.66it/s]\n"
     ]
    },
    {
     "name": "stdout",
     "output_type": "stream",
     "text": [
      "Epochs: 3 | Train Loss:  0.1373             | Train Accuracy:  0.8964             | Val Loss:  0.1398             | Val Accuracy:  0.8805\n"
     ]
    },
    {
     "name": "stderr",
     "output_type": "stream",
     "text": [
      "100%|██████████| 4709/4709 [00:08<00:00, 584.85it/s]\n"
     ]
    },
    {
     "name": "stdout",
     "output_type": "stream",
     "text": [
      "Epochs: 4 | Train Loss:  0.1346             | Train Accuracy:  0.9032             | Val Loss:  0.1374             | Val Accuracy:  0.8905\n"
     ]
    },
    {
     "name": "stderr",
     "output_type": "stream",
     "text": [
      "100%|██████████| 4709/4709 [00:07<00:00, 606.50it/s]\n"
     ]
    },
    {
     "name": "stdout",
     "output_type": "stream",
     "text": [
      "Epochs: 5 | Train Loss:  0.1318             | Train Accuracy:  0.9129             | Val Loss:  0.1350             | Val Accuracy:  0.9004\n"
     ]
    },
    {
     "name": "stderr",
     "output_type": "stream",
     "text": [
      "100%|██████████| 4709/4709 [00:07<00:00, 608.62it/s]\n"
     ]
    },
    {
     "name": "stdout",
     "output_type": "stream",
     "text": [
      "Epochs: 6 | Train Loss:  0.1292             | Train Accuracy:  0.9228             | Val Loss:  0.1326             | Val Accuracy:  0.9085\n"
     ]
    },
    {
     "name": "stderr",
     "output_type": "stream",
     "text": [
      "100%|██████████| 4709/4709 [00:07<00:00, 589.69it/s]\n"
     ]
    },
    {
     "name": "stdout",
     "output_type": "stream",
     "text": [
      "Epochs: 7 | Train Loss:  0.1266             | Train Accuracy:  0.9300             | Val Loss:  0.1301             | Val Accuracy:  0.9172\n"
     ]
    },
    {
     "name": "stderr",
     "output_type": "stream",
     "text": [
      "100%|██████████| 4709/4709 [00:07<00:00, 596.53it/s]\n"
     ]
    },
    {
     "name": "stdout",
     "output_type": "stream",
     "text": [
      "Epochs: 8 | Train Loss:  0.1238             | Train Accuracy:  0.9415             | Val Loss:  0.1276             | Val Accuracy:  0.9266\n"
     ]
    },
    {
     "name": "stderr",
     "output_type": "stream",
     "text": [
      "100%|██████████| 4709/4709 [00:07<00:00, 596.53it/s]\n"
     ]
    },
    {
     "name": "stdout",
     "output_type": "stream",
     "text": [
      "Epochs: 9 | Train Loss:  0.1210             | Train Accuracy:  0.9546             | Val Loss:  0.1251             | Val Accuracy:  0.9404\n"
     ]
    },
    {
     "name": "stderr",
     "output_type": "stream",
     "text": [
      "100%|██████████| 4709/4709 [00:07<00:00, 592.18it/s]\n"
     ]
    },
    {
     "name": "stdout",
     "output_type": "stream",
     "text": [
      "Epochs: 10 | Train Loss:  0.1181             | Train Accuracy:  0.9616             | Val Loss:  0.1226             | Val Accuracy:  0.9607\n"
     ]
    },
    {
     "name": "stderr",
     "output_type": "stream",
     "text": [
      "100%|██████████| 4709/4709 [00:07<00:00, 600.02it/s]\n"
     ]
    },
    {
     "name": "stdout",
     "output_type": "stream",
     "text": [
      "Epochs: 11 | Train Loss:  0.1155             | Train Accuracy:  0.9630             | Val Loss:  0.1200             | Val Accuracy:  0.9745\n"
     ]
    },
    {
     "name": "stderr",
     "output_type": "stream",
     "text": [
      "100%|██████████| 4709/4709 [00:07<00:00, 622.41it/s]\n"
     ]
    },
    {
     "name": "stdout",
     "output_type": "stream",
     "text": [
      "Epochs: 12 | Train Loss:  0.1127             | Train Accuracy:  0.9635             | Val Loss:  0.1175             | Val Accuracy:  0.9750\n"
     ]
    },
    {
     "name": "stderr",
     "output_type": "stream",
     "text": [
      "100%|██████████| 4709/4709 [00:07<00:00, 614.30it/s]\n"
     ]
    },
    {
     "name": "stdout",
     "output_type": "stream",
     "text": [
      "Epochs: 13 | Train Loss:  0.1099             | Train Accuracy:  0.9697             | Val Loss:  0.1149             | Val Accuracy:  0.9747\n"
     ]
    },
    {
     "name": "stderr",
     "output_type": "stream",
     "text": [
      "100%|██████████| 4709/4709 [00:07<00:00, 599.12it/s]\n"
     ]
    },
    {
     "name": "stdout",
     "output_type": "stream",
     "text": [
      "Epochs: 14 | Train Loss:  0.1071             | Train Accuracy:  0.9719             | Val Loss:  0.1124             | Val Accuracy:  0.9745\n"
     ]
    },
    {
     "name": "stderr",
     "output_type": "stream",
     "text": [
      "100%|██████████| 4709/4709 [00:07<00:00, 600.76it/s]\n"
     ]
    },
    {
     "name": "stdout",
     "output_type": "stream",
     "text": [
      "Epochs: 15 | Train Loss:  0.1042             | Train Accuracy:  0.9732             | Val Loss:  0.1098             | Val Accuracy:  0.9750\n"
     ]
    },
    {
     "name": "stderr",
     "output_type": "stream",
     "text": [
      "100%|██████████| 4709/4709 [00:08<00:00, 573.98it/s]\n"
     ]
    },
    {
     "name": "stdout",
     "output_type": "stream",
     "text": [
      "Epochs: 16 | Train Loss:  0.1015             | Train Accuracy:  0.9749             | Val Loss:  0.1072             | Val Accuracy:  0.9754\n"
     ]
    },
    {
     "name": "stderr",
     "output_type": "stream",
     "text": [
      "100%|██████████| 4709/4709 [00:07<00:00, 603.50it/s]\n"
     ]
    },
    {
     "name": "stdout",
     "output_type": "stream",
     "text": [
      "Epochs: 17 | Train Loss:  0.0989             | Train Accuracy:  0.9773             | Val Loss:  0.1046             | Val Accuracy:  0.9756\n"
     ]
    },
    {
     "name": "stderr",
     "output_type": "stream",
     "text": [
      "100%|██████████| 4709/4709 [00:07<00:00, 594.06it/s]\n"
     ]
    },
    {
     "name": "stdout",
     "output_type": "stream",
     "text": [
      "Epochs: 18 | Train Loss:  0.0957             | Train Accuracy:  0.9796             | Val Loss:  0.1021             | Val Accuracy:  0.9758\n"
     ]
    },
    {
     "name": "stderr",
     "output_type": "stream",
     "text": [
      "100%|██████████| 4709/4709 [00:07<00:00, 595.32it/s]\n"
     ]
    },
    {
     "name": "stdout",
     "output_type": "stream",
     "text": [
      "Epochs: 19 | Train Loss:  0.0931             | Train Accuracy:  0.9787             | Val Loss:  0.0996             | Val Accuracy:  0.9758\n"
     ]
    },
    {
     "name": "stderr",
     "output_type": "stream",
     "text": [
      "100%|██████████| 4709/4709 [00:07<00:00, 589.77it/s]\n"
     ]
    },
    {
     "name": "stdout",
     "output_type": "stream",
     "text": [
      "Epochs: 20 | Train Loss:  0.0904             | Train Accuracy:  0.9804             | Val Loss:  0.0970             | Val Accuracy:  0.9760\n"
     ]
    },
    {
     "name": "stderr",
     "output_type": "stream",
     "text": [
      "100%|██████████| 4709/4709 [00:07<00:00, 598.18it/s]\n"
     ]
    },
    {
     "name": "stdout",
     "output_type": "stream",
     "text": [
      "Epochs: 21 | Train Loss:  0.0877             | Train Accuracy:  0.9808             | Val Loss:  0.0945             | Val Accuracy:  0.9760\n"
     ]
    },
    {
     "name": "stderr",
     "output_type": "stream",
     "text": [
      "100%|██████████| 4709/4709 [00:07<00:00, 599.07it/s]\n"
     ]
    },
    {
     "name": "stdout",
     "output_type": "stream",
     "text": [
      "Epochs: 22 | Train Loss:  0.0851             | Train Accuracy:  0.9828             | Val Loss:  0.0921             | Val Accuracy:  0.9760\n"
     ]
    },
    {
     "name": "stderr",
     "output_type": "stream",
     "text": [
      "100%|██████████| 4709/4709 [00:07<00:00, 588.70it/s]\n"
     ]
    },
    {
     "name": "stdout",
     "output_type": "stream",
     "text": [
      "Epochs: 23 | Train Loss:  0.0822             | Train Accuracy:  0.9828             | Val Loss:  0.0896             | Val Accuracy:  0.9760\n"
     ]
    },
    {
     "name": "stderr",
     "output_type": "stream",
     "text": [
      "100%|██████████| 4709/4709 [00:08<00:00, 582.33it/s]\n"
     ]
    },
    {
     "name": "stdout",
     "output_type": "stream",
     "text": [
      "Epochs: 24 | Train Loss:  0.0797             | Train Accuracy:  0.9835             | Val Loss:  0.0872             | Val Accuracy:  0.9762\n"
     ]
    },
    {
     "name": "stderr",
     "output_type": "stream",
     "text": [
      "100%|██████████| 4709/4709 [00:07<00:00, 601.36it/s]\n"
     ]
    },
    {
     "name": "stdout",
     "output_type": "stream",
     "text": [
      "Epochs: 25 | Train Loss:  0.0772             | Train Accuracy:  0.9834             | Val Loss:  0.0848             | Val Accuracy:  0.9762\n"
     ]
    },
    {
     "name": "stderr",
     "output_type": "stream",
     "text": [
      "100%|██████████| 4709/4709 [00:08<00:00, 564.24it/s]\n"
     ]
    },
    {
     "name": "stdout",
     "output_type": "stream",
     "text": [
      "Epochs: 26 | Train Loss:  0.0747             | Train Accuracy:  0.9843             | Val Loss:  0.0825             | Val Accuracy:  0.9762\n"
     ]
    },
    {
     "name": "stderr",
     "output_type": "stream",
     "text": [
      "100%|██████████| 4709/4709 [00:08<00:00, 576.52it/s]\n"
     ]
    },
    {
     "name": "stdout",
     "output_type": "stream",
     "text": [
      "Epochs: 27 | Train Loss:  0.0720             | Train Accuracy:  0.9850             | Val Loss:  0.0802             | Val Accuracy:  0.9762\n"
     ]
    },
    {
     "name": "stderr",
     "output_type": "stream",
     "text": [
      "100%|██████████| 4709/4709 [00:08<00:00, 587.99it/s]\n"
     ]
    },
    {
     "name": "stdout",
     "output_type": "stream",
     "text": [
      "Epochs: 28 | Train Loss:  0.0696             | Train Accuracy:  0.9861             | Val Loss:  0.0779             | Val Accuracy:  0.9762\n"
     ]
    },
    {
     "name": "stderr",
     "output_type": "stream",
     "text": [
      "100%|██████████| 4709/4709 [00:07<00:00, 599.34it/s]\n"
     ]
    },
    {
     "name": "stdout",
     "output_type": "stream",
     "text": [
      "Epochs: 29 | Train Loss:  0.0673             | Train Accuracy:  0.9855             | Val Loss:  0.0757             | Val Accuracy:  0.9762\n"
     ]
    },
    {
     "name": "stderr",
     "output_type": "stream",
     "text": [
      "100%|██████████| 4709/4709 [00:07<00:00, 605.18it/s]\n"
     ]
    },
    {
     "name": "stdout",
     "output_type": "stream",
     "text": [
      "Epochs: 30 | Train Loss:  0.0650             | Train Accuracy:  0.9859             | Val Loss:  0.0736             | Val Accuracy:  0.9760\n"
     ]
    },
    {
     "name": "stderr",
     "output_type": "stream",
     "text": [
      "100%|██████████| 4709/4709 [00:07<00:00, 609.76it/s]\n"
     ]
    },
    {
     "name": "stdout",
     "output_type": "stream",
     "text": [
      "Epochs: 31 | Train Loss:  0.0627             | Train Accuracy:  0.9870             | Val Loss:  0.0715             | Val Accuracy:  0.9760\n"
     ]
    },
    {
     "name": "stderr",
     "output_type": "stream",
     "text": [
      "100%|██████████| 4709/4709 [00:08<00:00, 588.09it/s]\n"
     ]
    },
    {
     "name": "stdout",
     "output_type": "stream",
     "text": [
      "Epochs: 32 | Train Loss:  0.0604             | Train Accuracy:  0.9869             | Val Loss:  0.0694             | Val Accuracy:  0.9762\n"
     ]
    },
    {
     "name": "stderr",
     "output_type": "stream",
     "text": [
      "100%|██████████| 4709/4709 [00:07<00:00, 607.82it/s]\n"
     ]
    },
    {
     "name": "stdout",
     "output_type": "stream",
     "text": [
      "Epochs: 33 | Train Loss:  0.0585             | Train Accuracy:  0.9869             | Val Loss:  0.0674             | Val Accuracy:  0.9762\n"
     ]
    },
    {
     "name": "stderr",
     "output_type": "stream",
     "text": [
      "100%|██████████| 4709/4709 [00:07<00:00, 607.11it/s]\n"
     ]
    },
    {
     "name": "stdout",
     "output_type": "stream",
     "text": [
      "Epochs: 34 | Train Loss:  0.0560             | Train Accuracy:  0.9890             | Val Loss:  0.0655             | Val Accuracy:  0.9764\n"
     ]
    },
    {
     "name": "stderr",
     "output_type": "stream",
     "text": [
      "100%|██████████| 4709/4709 [00:08<00:00, 573.06it/s]\n"
     ]
    },
    {
     "name": "stdout",
     "output_type": "stream",
     "text": [
      "Epochs: 35 | Train Loss:  0.0541             | Train Accuracy:  0.9877             | Val Loss:  0.0636             | Val Accuracy:  0.9764\n"
     ]
    },
    {
     "name": "stderr",
     "output_type": "stream",
     "text": [
      "100%|██████████| 4709/4709 [00:07<00:00, 597.56it/s]\n"
     ]
    },
    {
     "name": "stdout",
     "output_type": "stream",
     "text": [
      "Epochs: 36 | Train Loss:  0.0523             | Train Accuracy:  0.9882             | Val Loss:  0.0618             | Val Accuracy:  0.9764\n"
     ]
    },
    {
     "name": "stderr",
     "output_type": "stream",
     "text": [
      "100%|██████████| 4709/4709 [00:07<00:00, 617.39it/s]\n"
     ]
    },
    {
     "name": "stdout",
     "output_type": "stream",
     "text": [
      "Epochs: 37 | Train Loss:  0.0501             | Train Accuracy:  0.9891             | Val Loss:  0.0600             | Val Accuracy:  0.9764\n"
     ]
    },
    {
     "name": "stderr",
     "output_type": "stream",
     "text": [
      "100%|██████████| 4709/4709 [00:07<00:00, 590.27it/s]\n"
     ]
    },
    {
     "name": "stdout",
     "output_type": "stream",
     "text": [
      "Epochs: 38 | Train Loss:  0.0483             | Train Accuracy:  0.9899             | Val Loss:  0.0583             | Val Accuracy:  0.9764\n"
     ]
    },
    {
     "name": "stderr",
     "output_type": "stream",
     "text": [
      "100%|██████████| 4709/4709 [00:07<00:00, 604.31it/s]\n"
     ]
    },
    {
     "name": "stdout",
     "output_type": "stream",
     "text": [
      "Epochs: 39 | Train Loss:  0.0466             | Train Accuracy:  0.9890             | Val Loss:  0.0566             | Val Accuracy:  0.9764\n"
     ]
    },
    {
     "name": "stderr",
     "output_type": "stream",
     "text": [
      "100%|██████████| 4709/4709 [00:07<00:00, 602.16it/s]\n"
     ]
    },
    {
     "name": "stdout",
     "output_type": "stream",
     "text": [
      "Epochs: 40 | Train Loss:  0.0450             | Train Accuracy:  0.9888             | Val Loss:  0.0550             | Val Accuracy:  0.9764\n"
     ]
    },
    {
     "name": "stderr",
     "output_type": "stream",
     "text": [
      "100%|██████████| 4709/4709 [00:07<00:00, 593.01it/s]\n"
     ]
    },
    {
     "name": "stdout",
     "output_type": "stream",
     "text": [
      "Epochs: 41 | Train Loss:  0.0429             | Train Accuracy:  0.9903             | Val Loss:  0.0534             | Val Accuracy:  0.9764\n"
     ]
    },
    {
     "name": "stderr",
     "output_type": "stream",
     "text": [
      "100%|██████████| 4709/4709 [00:07<00:00, 607.04it/s]\n"
     ]
    },
    {
     "name": "stdout",
     "output_type": "stream",
     "text": [
      "Epochs: 42 | Train Loss:  0.0416             | Train Accuracy:  0.9903             | Val Loss:  0.0519             | Val Accuracy:  0.9762\n"
     ]
    },
    {
     "name": "stderr",
     "output_type": "stream",
     "text": [
      "100%|██████████| 4709/4709 [00:08<00:00, 585.93it/s]\n"
     ]
    },
    {
     "name": "stdout",
     "output_type": "stream",
     "text": [
      "Epochs: 43 | Train Loss:  0.0399             | Train Accuracy:  0.9911             | Val Loss:  0.0505             | Val Accuracy:  0.9762\n"
     ]
    },
    {
     "name": "stderr",
     "output_type": "stream",
     "text": [
      "100%|██████████| 4709/4709 [00:07<00:00, 613.16it/s]\n"
     ]
    },
    {
     "name": "stdout",
     "output_type": "stream",
     "text": [
      "Epochs: 44 | Train Loss:  0.0383             | Train Accuracy:  0.9923             | Val Loss:  0.0491             | Val Accuracy:  0.9762\n"
     ]
    },
    {
     "name": "stderr",
     "output_type": "stream",
     "text": [
      "100%|██████████| 4709/4709 [00:07<00:00, 598.39it/s]\n"
     ]
    },
    {
     "name": "stdout",
     "output_type": "stream",
     "text": [
      "Epochs: 45 | Train Loss:  0.0371             | Train Accuracy:  0.9914             | Val Loss:  0.0478             | Val Accuracy:  0.9762\n"
     ]
    },
    {
     "name": "stderr",
     "output_type": "stream",
     "text": [
      "100%|██████████| 4709/4709 [00:08<00:00, 576.40it/s]\n"
     ]
    },
    {
     "name": "stdout",
     "output_type": "stream",
     "text": [
      "Epochs: 46 | Train Loss:  0.0357             | Train Accuracy:  0.9921             | Val Loss:  0.0465             | Val Accuracy:  0.9762\n"
     ]
    },
    {
     "name": "stderr",
     "output_type": "stream",
     "text": [
      "100%|██████████| 4709/4709 [00:08<00:00, 587.61it/s]\n"
     ]
    },
    {
     "name": "stdout",
     "output_type": "stream",
     "text": [
      "Epochs: 47 | Train Loss:  0.0342             | Train Accuracy:  0.9932             | Val Loss:  0.0453             | Val Accuracy:  0.9762\n"
     ]
    },
    {
     "name": "stderr",
     "output_type": "stream",
     "text": [
      "100%|██████████| 4709/4709 [00:07<00:00, 589.65it/s]\n"
     ]
    },
    {
     "name": "stdout",
     "output_type": "stream",
     "text": [
      "Epochs: 48 | Train Loss:  0.0329             | Train Accuracy:  0.9942             | Val Loss:  0.0441             | Val Accuracy:  0.9764\n"
     ]
    },
    {
     "name": "stderr",
     "output_type": "stream",
     "text": [
      "100%|██████████| 4709/4709 [00:08<00:00, 582.69it/s]\n"
     ]
    },
    {
     "name": "stdout",
     "output_type": "stream",
     "text": [
      "Epochs: 49 | Train Loss:  0.0317             | Train Accuracy:  0.9933             | Val Loss:  0.0430             | Val Accuracy:  0.9764\n"
     ]
    },
    {
     "name": "stderr",
     "output_type": "stream",
     "text": [
      "100%|██████████| 4709/4709 [00:07<00:00, 642.00it/s]\n"
     ]
    },
    {
     "name": "stdout",
     "output_type": "stream",
     "text": [
      "Epochs: 50 | Train Loss:  0.0307             | Train Accuracy:  0.9934             | Val Loss:  0.0420             | Val Accuracy:  0.9764\n"
     ]
    },
    {
     "name": "stderr",
     "output_type": "stream",
     "text": [
      "100%|██████████| 4709/4709 [00:07<00:00, 623.30it/s]\n"
     ]
    },
    {
     "name": "stdout",
     "output_type": "stream",
     "text": [
      "Epochs: 51 | Train Loss:  0.0297             | Train Accuracy:  0.9939             | Val Loss:  0.0410             | Val Accuracy:  0.9762\n"
     ]
    },
    {
     "name": "stderr",
     "output_type": "stream",
     "text": [
      "100%|██████████| 4709/4709 [00:07<00:00, 609.38it/s]\n"
     ]
    },
    {
     "name": "stdout",
     "output_type": "stream",
     "text": [
      "Epochs: 52 | Train Loss:  0.0284             | Train Accuracy:  0.9941             | Val Loss:  0.0401             | Val Accuracy:  0.9762\n"
     ]
    },
    {
     "name": "stderr",
     "output_type": "stream",
     "text": [
      "100%|██████████| 4709/4709 [00:07<00:00, 596.19it/s]\n"
     ]
    },
    {
     "name": "stdout",
     "output_type": "stream",
     "text": [
      "Epochs: 53 | Train Loss:  0.0275             | Train Accuracy:  0.9943             | Val Loss:  0.0392             | Val Accuracy:  0.9764\n"
     ]
    },
    {
     "name": "stderr",
     "output_type": "stream",
     "text": [
      "100%|██████████| 4709/4709 [00:08<00:00, 560.32it/s]\n"
     ]
    },
    {
     "name": "stdout",
     "output_type": "stream",
     "text": [
      "Epochs: 54 | Train Loss:  0.0263             | Train Accuracy:  0.9942             | Val Loss:  0.0383             | Val Accuracy:  0.9764\n"
     ]
    },
    {
     "name": "stderr",
     "output_type": "stream",
     "text": [
      "100%|██████████| 4709/4709 [00:08<00:00, 586.06it/s]\n"
     ]
    },
    {
     "name": "stdout",
     "output_type": "stream",
     "text": [
      "Epochs: 55 | Train Loss:  0.0255             | Train Accuracy:  0.9942             | Val Loss:  0.0375             | Val Accuracy:  0.9764\n"
     ]
    },
    {
     "name": "stderr",
     "output_type": "stream",
     "text": [
      "100%|██████████| 4709/4709 [00:08<00:00, 583.58it/s]\n"
     ]
    },
    {
     "name": "stdout",
     "output_type": "stream",
     "text": [
      "Epochs: 56 | Train Loss:  0.0246             | Train Accuracy:  0.9944             | Val Loss:  0.0368             | Val Accuracy:  0.9764\n"
     ]
    },
    {
     "name": "stderr",
     "output_type": "stream",
     "text": [
      "100%|██████████| 4709/4709 [00:07<00:00, 605.73it/s]\n"
     ]
    },
    {
     "name": "stdout",
     "output_type": "stream",
     "text": [
      "Epochs: 57 | Train Loss:  0.0238             | Train Accuracy:  0.9944             | Val Loss:  0.0361             | Val Accuracy:  0.9764\n"
     ]
    },
    {
     "name": "stderr",
     "output_type": "stream",
     "text": [
      "100%|██████████| 4709/4709 [00:07<00:00, 595.96it/s]\n"
     ]
    },
    {
     "name": "stdout",
     "output_type": "stream",
     "text": [
      "Epochs: 58 | Train Loss:  0.0229             | Train Accuracy:  0.9946             | Val Loss:  0.0354             | Val Accuracy:  0.9764\n"
     ]
    },
    {
     "name": "stderr",
     "output_type": "stream",
     "text": [
      "100%|██████████| 4709/4709 [00:07<00:00, 623.56it/s]\n"
     ]
    },
    {
     "name": "stdout",
     "output_type": "stream",
     "text": [
      "Epochs: 59 | Train Loss:  0.0223             | Train Accuracy:  0.9947             | Val Loss:  0.0347             | Val Accuracy:  0.9764\n"
     ]
    },
    {
     "name": "stderr",
     "output_type": "stream",
     "text": [
      "100%|██████████| 4709/4709 [00:07<00:00, 617.88it/s]\n"
     ]
    },
    {
     "name": "stdout",
     "output_type": "stream",
     "text": [
      "Epochs: 60 | Train Loss:  0.0216             | Train Accuracy:  0.9946             | Val Loss:  0.0341             | Val Accuracy:  0.9764\n"
     ]
    },
    {
     "name": "stderr",
     "output_type": "stream",
     "text": [
      "100%|██████████| 4709/4709 [00:07<00:00, 610.22it/s]\n"
     ]
    },
    {
     "name": "stdout",
     "output_type": "stream",
     "text": [
      "Epochs: 61 | Train Loss:  0.0208             | Train Accuracy:  0.9947             | Val Loss:  0.0336             | Val Accuracy:  0.9764\n"
     ]
    },
    {
     "name": "stderr",
     "output_type": "stream",
     "text": [
      "100%|██████████| 4709/4709 [00:07<00:00, 608.00it/s]\n"
     ]
    },
    {
     "name": "stdout",
     "output_type": "stream",
     "text": [
      "Epochs: 62 | Train Loss:  0.0202             | Train Accuracy:  0.9946             | Val Loss:  0.0330             | Val Accuracy:  0.9764\n"
     ]
    },
    {
     "name": "stderr",
     "output_type": "stream",
     "text": [
      "100%|██████████| 4709/4709 [00:07<00:00, 592.30it/s]\n"
     ]
    },
    {
     "name": "stdout",
     "output_type": "stream",
     "text": [
      "Epochs: 63 | Train Loss:  0.0195             | Train Accuracy:  0.9943             | Val Loss:  0.0325             | Val Accuracy:  0.9764\n"
     ]
    },
    {
     "name": "stderr",
     "output_type": "stream",
     "text": [
      "100%|██████████| 4709/4709 [00:07<00:00, 590.81it/s]\n"
     ]
    },
    {
     "name": "stdout",
     "output_type": "stream",
     "text": [
      "Epochs: 64 | Train Loss:  0.0189             | Train Accuracy:  0.9947             | Val Loss:  0.0321             | Val Accuracy:  0.9764\n"
     ]
    },
    {
     "name": "stderr",
     "output_type": "stream",
     "text": [
      "100%|██████████| 4709/4709 [00:08<00:00, 572.23it/s]\n"
     ]
    },
    {
     "name": "stdout",
     "output_type": "stream",
     "text": [
      "Epochs: 65 | Train Loss:  0.0183             | Train Accuracy:  0.9947             | Val Loss:  0.0316             | Val Accuracy:  0.9764\n"
     ]
    },
    {
     "name": "stderr",
     "output_type": "stream",
     "text": [
      "100%|██████████| 4709/4709 [00:07<00:00, 608.05it/s]\n"
     ]
    },
    {
     "name": "stdout",
     "output_type": "stream",
     "text": [
      "Epochs: 66 | Train Loss:  0.0178             | Train Accuracy:  0.9949             | Val Loss:  0.0312             | Val Accuracy:  0.9764\n"
     ]
    },
    {
     "name": "stderr",
     "output_type": "stream",
     "text": [
      "100%|██████████| 4709/4709 [00:07<00:00, 591.83it/s]\n"
     ]
    },
    {
     "name": "stdout",
     "output_type": "stream",
     "text": [
      "Epochs: 67 | Train Loss:  0.0173             | Train Accuracy:  0.9949             | Val Loss:  0.0308             | Val Accuracy:  0.9764\n"
     ]
    },
    {
     "name": "stderr",
     "output_type": "stream",
     "text": [
      "100%|██████████| 4709/4709 [00:07<00:00, 625.04it/s]\n"
     ]
    },
    {
     "name": "stdout",
     "output_type": "stream",
     "text": [
      "Epochs: 68 | Train Loss:  0.0169             | Train Accuracy:  0.9950             | Val Loss:  0.0304             | Val Accuracy:  0.9764\n"
     ]
    },
    {
     "name": "stderr",
     "output_type": "stream",
     "text": [
      "100%|██████████| 4709/4709 [00:07<00:00, 636.51it/s]\n"
     ]
    },
    {
     "name": "stdout",
     "output_type": "stream",
     "text": [
      "Epochs: 69 | Train Loss:  0.0164             | Train Accuracy:  0.9947             | Val Loss:  0.0301             | Val Accuracy:  0.9764\n"
     ]
    },
    {
     "name": "stderr",
     "output_type": "stream",
     "text": [
      "100%|██████████| 4709/4709 [00:07<00:00, 619.91it/s]\n"
     ]
    },
    {
     "name": "stdout",
     "output_type": "stream",
     "text": [
      "Epochs: 70 | Train Loss:  0.0158             | Train Accuracy:  0.9952             | Val Loss:  0.0298             | Val Accuracy:  0.9767\n"
     ]
    },
    {
     "name": "stderr",
     "output_type": "stream",
     "text": [
      "100%|██████████| 4709/4709 [00:07<00:00, 609.64it/s]\n"
     ]
    },
    {
     "name": "stdout",
     "output_type": "stream",
     "text": [
      "Epochs: 71 | Train Loss:  0.0155             | Train Accuracy:  0.9949             | Val Loss:  0.0295             | Val Accuracy:  0.9767\n"
     ]
    },
    {
     "name": "stderr",
     "output_type": "stream",
     "text": [
      "100%|██████████| 4709/4709 [00:08<00:00, 586.64it/s]\n"
     ]
    },
    {
     "name": "stdout",
     "output_type": "stream",
     "text": [
      "Epochs: 72 | Train Loss:  0.0150             | Train Accuracy:  0.9949             | Val Loss:  0.0292             | Val Accuracy:  0.9767\n"
     ]
    },
    {
     "name": "stderr",
     "output_type": "stream",
     "text": [
      "100%|██████████| 4709/4709 [00:07<00:00, 624.11it/s]\n"
     ]
    },
    {
     "name": "stdout",
     "output_type": "stream",
     "text": [
      "Epochs: 73 | Train Loss:  0.0147             | Train Accuracy:  0.9951             | Val Loss:  0.0289             | Val Accuracy:  0.9767\n"
     ]
    },
    {
     "name": "stderr",
     "output_type": "stream",
     "text": [
      "100%|██████████| 4709/4709 [00:07<00:00, 595.73it/s]\n"
     ]
    },
    {
     "name": "stdout",
     "output_type": "stream",
     "text": [
      "Epochs: 74 | Train Loss:  0.0144             | Train Accuracy:  0.9950             | Val Loss:  0.0287             | Val Accuracy:  0.9769\n"
     ]
    },
    {
     "name": "stderr",
     "output_type": "stream",
     "text": [
      "100%|██████████| 4709/4709 [00:07<00:00, 590.36it/s]\n"
     ]
    },
    {
     "name": "stdout",
     "output_type": "stream",
     "text": [
      "Epochs: 75 | Train Loss:  0.0140             | Train Accuracy:  0.9952             | Val Loss:  0.0285             | Val Accuracy:  0.9769\n"
     ]
    },
    {
     "name": "stderr",
     "output_type": "stream",
     "text": [
      "100%|██████████| 4709/4709 [00:08<00:00, 582.88it/s]\n"
     ]
    },
    {
     "name": "stdout",
     "output_type": "stream",
     "text": [
      "Epochs: 76 | Train Loss:  0.0137             | Train Accuracy:  0.9952             | Val Loss:  0.0283             | Val Accuracy:  0.9769\n"
     ]
    },
    {
     "name": "stderr",
     "output_type": "stream",
     "text": [
      "100%|██████████| 4709/4709 [00:07<00:00, 640.58it/s]\n"
     ]
    },
    {
     "name": "stdout",
     "output_type": "stream",
     "text": [
      "Epochs: 77 | Train Loss:  0.0134             | Train Accuracy:  0.9950             | Val Loss:  0.0281             | Val Accuracy:  0.9769\n"
     ]
    },
    {
     "name": "stderr",
     "output_type": "stream",
     "text": [
      "100%|██████████| 4709/4709 [00:07<00:00, 615.32it/s]\n"
     ]
    },
    {
     "name": "stdout",
     "output_type": "stream",
     "text": [
      "Epochs: 78 | Train Loss:  0.0131             | Train Accuracy:  0.9952             | Val Loss:  0.0279             | Val Accuracy:  0.9769\n"
     ]
    },
    {
     "name": "stderr",
     "output_type": "stream",
     "text": [
      "100%|██████████| 4709/4709 [00:07<00:00, 597.06it/s]\n"
     ]
    },
    {
     "name": "stdout",
     "output_type": "stream",
     "text": [
      "Epochs: 79 | Train Loss:  0.0129             | Train Accuracy:  0.9951             | Val Loss:  0.0277             | Val Accuracy:  0.9769\n"
     ]
    },
    {
     "name": "stderr",
     "output_type": "stream",
     "text": [
      "100%|██████████| 4709/4709 [00:07<00:00, 627.86it/s]\n"
     ]
    },
    {
     "name": "stdout",
     "output_type": "stream",
     "text": [
      "Epochs: 80 | Train Loss:  0.0125             | Train Accuracy:  0.9950             | Val Loss:  0.0276             | Val Accuracy:  0.9769\n"
     ]
    }
   ],
   "source": [
    "remove_file_if_exist(MODEL_SAVE_PATH)\n",
    "mkdir_if_not_exist(MODEL_SAVE_PATH)\n",
    "model = MLP(4, 2)\n",
    "train(model, train_dataset, val_dataset)\n"
   ]
  },
  {
   "cell_type": "markdown",
   "metadata": {},
   "source": [
    "# Test the model"
   ]
  },
  {
   "cell_type": "code",
   "execution_count": 37,
   "metadata": {},
   "outputs": [
    {
     "name": "stdout",
     "output_type": "stream",
     "text": [
      "model path: /root/autodl-tmp/ensemble_model/combined/ensemble2_0.9769_epoch80.pt\n",
      "data_id (true on bigvul): bigvul_18f39e7be0121317550d03e267e3ebd4dbfbb3ce\n",
      "data_id (true on bigvul): bigvul_643f0fcf3b8ab09a68f0ecd2aa37aafeda3e63ef\n",
      "data_id (true on bigvul): bigvul_bd23a7269834dc7c1f93e83535d16ebc44b75eba\n",
      "data_id (true on bigvul): bigvul_bfc81a8bc18e3c4ba0cbaa7666ff76be2f998991\n",
      "data_id (true on bigvul): bigvul_21fdcdd977e8ab479dd99c6d0d2f562dda98261d\n",
      "data_id (true on bigvul): bigvul_8e75437a7e43d4c55e861691f74892e666e29b0b\n",
      "data_id (true on bigvul): bigvul_20ce2fe8e3c211a42fee05a461a5881be9a8790e?w=1\n",
      "data_id (true on bigvul): bigvul_7e768f8a473409215fe3fff8f6e31f8a3a0103c6\n",
      "data_id (true on bigvul): bigvul_e9841fbdaf41b4a2baaa413f94d5c0197f9261f4\n",
      "data_id (true on bigvul): bigvul_e40607cbe270a9e8360907cb1e62ddf0736e4864\n",
      "data_id (true on bigvul): bigvul_4d06dd537f95683aba3651098ae288b7cbff8274\n",
      "data_id (true on bigvul): bigvul_8835ba4a39cf53f705417b3b3a94eb067673f2c9\n",
      "data_id (true on bigvul): bigvul_e427c41257957b57036d5a549b260b6185d1dd73\n",
      "data_id (true on bigvul): bigvul_248a92c21c20c14b5983680c50e1d8b73fc79a2f\n",
      "data_id (true on bigvul): bigvul_50220dead1650609206efe91f0cc116132d59b3f\n",
      "data_id (true on bigvul): bigvul_5f8cf712582617d523120df67d392059eaf2fc4b\n",
      "data_id (true on bigvul): bigvul_a90919df755b28d06305e1ecad9032322b054624\n",
      "data_id (true on bigvul): bigvul_8b01fc86b9f425899f8a3a8fc1c47d73c2c20543\n",
      "data_id (true on bigvul): bigvul_f2d3be2a8741234faaa96f5fd05fdfdc75779a79\n",
      "data_id (true on bigvul): bigvul_ce1a9c0e454b08c96ca73788a1b4dccb405ce027\n",
      "data_id (true on bigvul): bigvul_0579ed631fb37de5704b54ed2ee466bf29630ad0\n",
      "data_id (true on bigvul): bigvul_1334647862b0c90b2e8cb2f668e66627d9517b17\n",
      "data_id (true on bigvul): bigvul_17d68b763f09a9ce824ae23eb62c9efc57b69271\n",
      "data_id (true on bigvul): bigvul_a0d7f432abee692402c00e8b615ff5982dde9780\n",
      "data_id (true on bigvul): bigvul_43e84cff1bb2bd8293066f6ac4eb0df61ddddbc6\n",
      "data_id (true on bigvul): bigvul_2e8e8c6387ecdf5923dfc4d7718d18eba1b0873d\n",
      "data_id (true on bigvul): bigvul_ef87dbe7614341c2e7bfe8d32fcb7028cc97442c\n",
      "data_id (true on bigvul): bigvul_a7a4c17843aac24470943630137e6f4a4822203f\n",
      "data_id (true on bigvul): bigvul_11b426ee05eb62ed103218526f1fa616851c43ce\n",
      "----data_id (CodeTF true positive): qemu_10885\n",
      "data_id (true on bigvul): bigvul_7fafcfdf6377b18b2a726ea554d6e593ba44349f\n",
      "data_id (true on bigvul): bigvul_c25b198675380f713a56649c857b4367601d4a3d\n",
      "data_id (true on bigvul): bigvul_bdfe95a6e81ffb4b2fad31a76b57943695beed20\n",
      "data_id (true on bigvul): bigvul_3f68ba07b1da811bf383b4b701b129bfcb2e4988\n",
      "data_id (true on bigvul): bigvul_5d71e65049\n",
      "data_id (true on bigvul): bigvul_4f68e9661518463fca523c9726bb5d940a2aa6d8\n",
      "data_id (true on bigvul): bigvul_7394cf6f43d7a86630d3eb1c728fd63c621b5530\n",
      "data_id (true on bigvul): bigvul_c5759e7b76f5bf844be6c6641cc1b356bbc83869\n",
      "data_id (true on bigvul): bigvul_814fb7bb7db5433757d76f4c4502c96fc53b0b5e\n",
      "data_id (true on bigvul): bigvul_bcc2c9c3fff859e0eb019fe6fec26f9b8eba795c\n",
      "data_id (true on bigvul): bigvul_f7038db6ef172459f14b1b67a5155b8dd210be0f\n",
      "data_id (true on bigvul): bigvul_37863c43b2c6464f252862bf2e9768264e961678\n",
      "data_id (true on bigvul): bigvul_aeff00de228bc5a158c2a975ab47845d8a1db456\n",
      "data_id (true on bigvul): bigvul_438b99bc730bc665eedfc62c4eb864c981e5c65f\n",
      "data_id (true on bigvul): bigvul_257578a23d1537a2d235aaa2b1488ee4f818e360\n",
      "data_id (true on bigvul): bigvul_1737ac82b335e53376382c07b9a500d73dd2aa11\n",
      "data_id (true on bigvul): bigvul_7614790c80996d32a28218f4d1605b0908e9ddf6\n",
      "data_id (true on bigvul): bigvul_5b597a2e5b28e2d5a52fc1be13f425f08f47cb62?w=1\n",
      "data_id (true on bigvul): bigvul_1ebb71143758f45dc0fa76e2f48429e13b16d110\n",
      "data_id (true on bigvul): bigvul_3f627e580acfdaf0595ae3b115b8bec677f203ee?w=1\n",
      "data_id (true on bigvul): bigvul_12f66f69f7bf1ec1266ddbee90a7616cbf33696b\n",
      "data_id (true on bigvul): bigvul_9955ac47f4ba1c95ecb6092aeaefb40a22e99268\n",
      "data_id (true on bigvul): bigvul_e40f193f5bb022e927a57a4f5d5194e4f12ddb74\n",
      "data_id (true on bigvul): bigvul_933e96f01a8c889c7bf5ffd30020e86a02a046e7\n",
      "data_id (true on bigvul): bigvul_20e1db19db5d6b9e4e83021595eab0dc8f107bef\n",
      "data_id (true on bigvul): bigvul_1a7fd1fb2998002da6e9ff2ee46e1bdd25ee8404\n",
      "data_id (true on bigvul): bigvul_c9b92530a723ac5ef8e352885a1862b18f31b2f5\n",
      "data_id (true on bigvul): bigvul_6d8c50dcb029872b298eea68cc6209c866fd3e14\n",
      "data_id (true on bigvul): bigvul_81d135d67155c5295b1033679c606165d4e28f3f\n",
      "data_id (true on bigvul): bigvul_65f75a32a93ae4044c528a987a68366ecd4b46b9\n",
      "data_id (true on bigvul): bigvul_cabfb3680f78981d26c078a26e5c748531257ebb\n",
      "data_id (true on bigvul): bigvul_04197b341f23b908193308b8d63d17ff23232598\n",
      "data_id (true on bigvul): bigvul_a6138db815df5ee542d848318e5dae681590fccd\n",
      "data_id (true on bigvul): bigvul_92e22ca23e52066da2258df8c76a2dca8a428bcc\n",
      "data_id (true on bigvul): bigvul_ef8f40689ac452398026c07da41656a7c87e4683\n",
      "data_id (true on bigvul): bigvul_4a04f814b15762eb446a5ead4d69d021512df6f8\n",
      "data_id (true on bigvul): bigvul_dc0b027dfadfcb8a5504f7d8052754bf8d501ab9\n",
      "data_id (true on bigvul): bigvul_b4789b8e6be3151a955ade74872822f30e8cd914\n",
      "data_id (true on bigvul): bigvul_a124133e1e6ab5c7a9fef6d0e6bcb084e3455b46\n",
      "data_id (true on bigvul): bigvul_a9cf73ea7ff78f52662c8658d93c226effbbedde\n",
      "data_id (true on bigvul): bigvul_324701c9fd31beb4f070f1b7ef78b115fbdfec34\n",
      "data_id (true on bigvul): bigvul_942080643bce061c3dd9d5718d3b745dcb39a8bc\n",
      "data_id (true on bigvul): bigvul_2433c8f094a008895e66f25bd1773cdb01c91d01\n",
      "data_id (true on bigvul): bigvul_0e9e87823285d504a210dcce2eabdc847f230f09\n",
      "data_id (true on bigvul): bigvul_948356eec65aea91995d4b7cc487d197d2c5f602\n",
      "data_id (true on bigvul): bigvul_96df3106d49438e442510c59acad306e94f3db4d\n",
      "data_id (true on bigvul): bigvul_36773850210becda3d76f27285ecd899fafdfc72\n",
      "data_id (true on bigvul): bigvul_d926098e2e2be270c80a5ba25ab8a611b80b8556\n",
      "data_id (true on bigvul): bigvul_8e20cf2bce122ce9262d6034ee5d5b76fbb92f96\n",
      "data_id (true on bigvul): bigvul_6817ae225cd650fb1c3295d769298c38b1eba818\n",
      "data_id (true on bigvul): bigvul_b35530fa0681b27eba084de5527037ebfb397422\n",
      "data_id (true on bigvul): bigvul_3014e198\n",
      "data_id (true on bigvul): bigvul_e58f2880df608652aff7fd35c45b242467ec0e79\n",
      "data_id (true on bigvul): bigvul_360e95d45ac4123255a4c796db96337f332160ad\n",
      "data_id (true on bigvul): bigvul_5593523f968bc86d42a035c6df47d5e0979b5ace\n",
      "data_id (true on bigvul): bigvul_2811ebac2521ceac84f2bdae402455baa6a7fb47\n",
      "data_id (true on bigvul): bigvul_19b8593007150b9a78da7d13f6e5f8feb10881a7\n",
      "data_id (true on bigvul): bigvul_8fa5a358cb32085b51daf92df8fd4a79b3931f81\n",
      "data_id (true on bigvul): bigvul_ec8013beddd717d1740cfefb1a9b900deef85462\n",
      "data_id (true on bigvul): bigvul_40ef1b4093d77ad3a5cfcee1f5cb6108b3a3bcc2\n",
      "data_id (true on bigvul): bigvul_4ff67b720c02c36e54d55b88c2931879b7db1cd2\n",
      "data_id (true on bigvul): bigvul_8260dcf3db045923a5ca5c05170f9bc7a4bd971a\n",
      "data_id (true on bigvul): bigvul_efc89e3b939b4bde42c10f065f6b7b02958ed50e\n",
      "data_id (true on bigvul): bigvul_f8877abac8e568b2f339cca70c2c3c1b6eaec288\n",
      "data_id (true on bigvul): bigvul_81cdb259fb6d8c1c4ecfeea389ff5a73c07f5755\n",
      "data_id (true on bigvul): bigvul_424d40ebfcde48bb872eba75179d3d73704fdf1f\n",
      "data_id (true on bigvul): bigvul_6233ef75bb973745ab1092b59aea8fe316f09074\n",
      "data_id (true on bigvul): bigvul_a1bc65c3db593530775823d6d7506a457ed95267\n",
      "data_id (true on bigvul): bigvul_bc0b96b54a21246e377122d54569eef71cec535f\n",
      "data_id (true on bigvul): bigvul_7932c0bd7740f4cd2aa168d3ce0199e7af7d72d5\n",
      "data_id (true on bigvul): bigvul_d97e94223720684c6aa740ff219e0d19426c2220\n",
      "data_id (true on bigvul): bigvul_444ca3ce7853538c577e0ec3f6146d2d65780734\n",
      "data_id (true on bigvul): bigvul_179d1c5602997fef5a940c6ddcf31212cbfebd14\n",
      "data_id (true on bigvul): bigvul_f8f6ed59949be4451ee2f5443d8a313f102fde60\n",
      "data_id (true on bigvul): bigvul_0328261c41b1b7495e1d4d4cf958f41a08aff38b\n",
      "data_id (true on bigvul): bigvul_33827275411b33371e7bb750cce20f11de85002d\n",
      "data_id (true on bigvul): bigvul_db0add932fb850d762b02604ca3053b7d7ab6deb\n",
      "data_id (true on bigvul): bigvul_5338aac7b8b880b0c5e0c15e27dadc44c5559284\n",
      "data_id (true on bigvul): bigvul_72f5c8632bff2daf3c95005f9b4cf2982786b52a\n",
      "data_id (true on bigvul): bigvul_6058483d9fbc1b904d5ae7cfea47bfcde5c5b559\n",
      "data_id (true on bigvul): bigvul_634c5943f46abe8c6280079f6d394dfee08c3c8f\n",
      "data_id (true on bigvul): bigvul_147cec383892d143b5e02daa70f1e7def50f5d98\n",
      "data_id (true on bigvul): bigvul_951b6a0717db97ce420547222647bcc40bf1eacd\n",
      "data_id (true on bigvul): bigvul_8a44b04b584b3d3ab1cb68fed410f7ecb165e50e\n",
      "data_id (true on bigvul): bigvul_b3118cabb8060a8cc6a01c4e8264cb18e7b1745a\n",
      "data_id (true on bigvul): bigvul_008ba2a13f2d04c947adc536d19debb8fe66f110\n",
      "data_id (true on bigvul): bigvul_3057be01bcbbd1d0938afb489e18f2ca6d9b8229\n",
      "data_id (true on bigvul): bigvul_9eb1fd426a04adac0906c81ed88f1089969702ba\n",
      "data_id (true on bigvul): bigvul_aa0858100096a3490edf93034a80e66a4d61aad5\n",
      "data_id (true on bigvul): bigvul_b0c5222ce31e8f941fa02ff9c7a040fb2db30dbc\n",
      "data_id (true on bigvul): bigvul_59643d1535eb220668692a5359de22545af579f6\n",
      "data_id (true on bigvul): bigvul_0d0138ebe24b94065580bd2601f8bb7eb6152f56\n",
      "data_id (true on bigvul): bigvul_f2815633504b442ca0b0605c16bf3d88a3a0fcea\n",
      "data_id (true on bigvul): bigvul_1d147bfa64293b2723c4fec50922168658e613ba\n",
      "data_id (true on bigvul): bigvul_621b5060e823301d0cba4cb52a7ee3491922d291\n",
      "data_id (true on bigvul): bigvul_6d1c73b5858fefc6161c7d686345f0dc887ea799\n",
      "data_id (true on bigvul): bigvul_6399f1fae4ec29fab5ec76070435555e256ca3a6\n",
      "data_id (true on bigvul): bigvul_f9a61eb4e2471c56a63cd804c7474128138c38ac\n",
      "data_id (true on bigvul): bigvul_0d62e9dd6da45bbf0f33a8617afc5fe774c8f45f\n",
      "data_id (true on bigvul): bigvul_7c2785fab1685c8735288dfbbbb617d9c4f5d8b2\n",
      "data_id (true on bigvul): bigvul_39f226a9c137f547e12afde972eeba7551124493\n",
      "data_id (true on bigvul): bigvul_318aaf34f1179b39fa9c30fa0f3288b645beee39\n",
      "data_id (true on bigvul): bigvul_b863de7fbf080b15e347a736fdda0a82d42f4f6b\n",
      "data_id (true on bigvul): bigvul_48856286b64e4b66ec62b94e504d0b29c1ade664\n",
      "data_id (true on bigvul): bigvul_369eebe936e4a8c83cc54662a3412ce8bef189e4\n",
      "data_id (true on bigvul): bigvul_9844d38bed10e9ff17174434b3421b227ae710f3\n",
      "data_id (true on bigvul): bigvul_f1574f25e1402e748bf2bd7e28ce3dd96ceb1ca4\n",
      "data_id (true on bigvul): bigvul_197c949e7798fbf28cfadc69d9ca0c2abbf93191\n",
      "data_id (true on bigvul): bigvul_83a4b92815ea04969d494416eaae3d4c6b338e4a#diff-c8b4b355f9b5c06d585b23138e1c185f\n",
      "data_id (true on bigvul): bigvul_c597156adc60a45b5f827793cd420945f47bc03b\n",
      "data_id (true on bigvul): bigvul_da940424816e11d624362ce080bc026adffa26e8\n",
      "data_id (true on bigvul): bigvul_acff81ec2c79492b180fade3c2894425cd35a545\n",
      "data_id (true on bigvul): bigvul_b522d2d857d2f75b659936b59b0da9df1682c256\n",
      "data_id (true on bigvul): bigvul_0600ebe59c3e82cd012def77ca9ca1918da74a71\n",
      "data_id (true on bigvul): bigvul_2130bf6f89ded32ef0c88a11694f107c52566c53\n",
      "data_id (true on bigvul): bigvul_be20250c13f88375345ad99950190685eda51eb8\n",
      "data_id (true on bigvul): bigvul_c300aa64ddf57d9c5d9c898a64b36877345dd4a9\n",
      "data_id (true on bigvul): bigvul_5b6698b0e4a37053de35cc24ee695b98a7eb712b\n",
      "data_id (true on bigvul): bigvul_d199fab63c11998a602205f7ee7ff7c05c97164b\n",
      "----data_id (CodeTF true positive): qemu_9394\n",
      "data_id (true on bigvul): bigvul_70feee0e1ef331b22cc51f383d532a0d043fbdcc\n",
      "data_id (true on bigvul): bigvul_412a6142c27a5973c61ba540e33cdc22d5608e68\n",
      "data_id (true on bigvul): bigvul_426aeb2808955ee3d3f52e0cfb102834cdb836a5?w=1\n",
      "data_id (true on bigvul): bigvul_beb39db59d14990e401e235faf66a6b9b31240b0\n",
      "data_id (true on bigvul): bigvul_76efa969342568841ecf320b5a041685a6d24e0b\n",
      "data_id (true on bigvul): bigvul_338c7dbadd2671189cec7faf64c84d01071b3f96\n",
      "data_id (true on bigvul): bigvul_6f163e07ae68654d7ac5268cbb7565f6df79ad85\n",
      "data_id (true on bigvul): bigvul_c58df149900df862806d0e892859b41115875845\n",
      "data_id (true on bigvul): bigvul_dccb5f7d776e93863ae10bbff56a45c523c6eeb0\n",
      "data_id (true on bigvul): bigvul_e4bb58cc8b6202a421e65f8230217d8ae6e16eb5\n",
      "data_id (true on bigvul): bigvul_c0873d7969789b0a77911430ed4f337b8764d182\n",
      "----data_id (CodeTF true negative): qemu_6704\n",
      "data_id (true on bigvul): bigvul_cec8f96e49d9be372fdb0c3836dcf31ec71e457e\n",
      "data_id (true on bigvul): bigvul_445a5a42c500ceb80f8fa7f2c11f3682538033f3\n",
      "data_id (true on bigvul): bigvul_92964c79b357efd980812c4de5c1fd2ec8bb5520\n",
      "data_id (true on bigvul): bigvul_5e5c796617e1712905dc5462b94bd5e6c08d15ea\n",
      "data_id (true on bigvul): bigvul_9fdcc15962f9ff4baebe6fdd947816f43f730d50\n",
      "data_id (true on bigvul): bigvul_04f5866e41fb70690e28397487d8bd8eea7d712a\n",
      "data_id (true on bigvul): bigvul_cb5ec7d98195aa74d5ed299b38eff2a68122f3fa\n",
      "data_id (true on bigvul): bigvul_c4e7f9022e506c6635a5037713c37118e23193e4\n",
      "data_id (true on bigvul): bigvul_2b472611a32a72f4a118c069c2d62a1a3f087afd\n",
      "data_id (true on bigvul): bigvul_04915c26ea193247b8a29aa24bfa34578ef5d39e\n",
      "data_id (true on bigvul): bigvul_c8e252586f8d5de906385d8cf6385fee289a825e\n",
      "data_id (true on bigvul): bigvul_237bbd29f7a049d310d907f4b2716a7feef9abf3\n",
      "data_id (true on bigvul): bigvul_492022c7297ede682161d9c0ec2de15526424e76\n",
      "data_id (true on bigvul): bigvul_093019cf1b18dd31b2c3b77acce4e000e2cbc9ce\n",
      "data_id (true on bigvul): bigvul_4cdbce5d9bf2fe596bb6acd7d6611f9e8c253a76\n",
      "data_id (true on bigvul): bigvul_bac5831b355f916e0696b7bbcccfc51c057b729a\n",
      "data_id (true on bigvul): bigvul_1ee0a224bc9aad1de496c795f96bc6ba2c394811\n",
      "data_id (true on bigvul): bigvul_b5a663aa426f4884c71cd8580adae73f33570f0d\n",
      "data_id (true on bigvul): bigvul_a197e92349a4aa2141b5dff12e9dd44c2a2166e3\n",
      "data_id (true on bigvul): bigvul_8b74d439e1697110c5e5c600643e823eb1dd0762\n",
      "data_id (true on bigvul): bigvul_1666984c8625b3db19a9abc298931d35ab7bc64b\n",
      "data_id (true on bigvul): bigvul_4e98402f09a0ef0bb8559a33a4c1988c54938eaf\n",
      "data_id (true on bigvul): bigvul_2e1c42391ff2556387b3cb6308b24f6f65619feb\n",
      "data_id (true on bigvul): bigvul_6a3eb3360667170988f8a6477f6686242061488a\n",
      "data_id (true on bigvul): bigvul_e92040ea6ee2a844ebfd2344174076795a4787bd\n",
      "data_id (true on bigvul): bigvul_eee5cc2702929fd41cce28058dc6d6717f723f87\n",
      "data_id (true on bigvul): bigvul_c0dc63a49d8605649f1d8e4a96c9b468b0bff660\n",
      "data_id (true on bigvul): bigvul_db8c799f6dfc68765c9451fcbfca06e662f5bd5f\n",
      "data_id (true on bigvul): bigvul_9e3f7a29694049edd728e2400ab57ad7553e5aa9\n",
      "data_id (true on bigvul): bigvul_437a35e57db5ec078f4a3ccbf71f941276e88430\n",
      "data_id (true on bigvul): bigvul_d50f2ab6f050311dbf7b8f5501b25f0bf64a439b\n",
      "data_id (true on bigvul): bigvul_f2fcfcd670257236ebf2088bbdf26f6a8ef459fe\n",
      "data_id (true on bigvul): bigvul_adb4f11e0a8f4e29900adb2b7af28b6bbd5c1fa4\n",
      "data_id (true on bigvul): bigvul_efbe126e3ebb9123ac9d058aa2bb044261342aaa\n",
      "data_id (true on bigvul): bigvul_cf1a0c411b2668c57c41e9c4efd15ba17b6b322c\n",
      "data_id (true on bigvul): bigvul_a44c89e8af7c2410f4bfc5e097be2a5d0639a60c?w=1\n",
      "data_id (true on bigvul): bigvul_3207ddb0103543da8ad2139ec6539f590f9900c1\n",
      "data_id (true on bigvul): bigvul_c80ad8548251eb0e15329fc240c89070640c9d79\n",
      "data_id (true on bigvul): bigvul_adeb4abc6c998c19524e09fde20c02b4a26765a3\n",
      "data_id (true on bigvul): bigvul_3a55ddd3c4c11ce75a86afbefd085d8d397ff957\n",
      "data_id (true on bigvul): bigvul_fd4edbad91f65bfab79276390de5db59b079fd3b\n",
      "data_id (true on bigvul): bigvul_5e6d1796106df8ba6bc1973ee0917c170d929086\n",
      "data_id (true on bigvul): bigvul_fd6330292501983ac75fe4162275794b18445bd9\n",
      "data_id (true on bigvul): bigvul_f68a9555b548306c5b1ee45199ccdc4a16a6101b\n",
      "data_id (true on bigvul): bigvul_b589096f907052b3a4da2b9ccc9b0e2e888dfc18\n",
      "data_id (true on bigvul): bigvul_0749ec24fae74ec32d0567eef0e5ec43c84dbcb9\n",
      "data_id (true on bigvul): bigvul_b6ff2bcb1e4e6976d61e316175c6d7c99860fe20\n",
      "data_id (true on bigvul): bigvul_35c7032723d85eee7318ff6c82f031fa2666b773\n",
      "data_id (true on bigvul): bigvul_9b3e617f3df53822345a8573b6d358f6b9e5ed87\n",
      "data_id (true on bigvul): bigvul_24182d959f661327525a20d9a94c98a8ec016778\n",
      "data_id (true on bigvul): bigvul_fe3066122ef72c82415811d25e9e3fad622c0a99\n",
      "data_id (true on bigvul): bigvul_bf381d8a02c3d272d4dd879ac719d8993dfb5ad6\n",
      "data_id (true on bigvul): bigvul_07d86ca93db7e5cdf4743564d98292042ec21af7\n",
      "data_id (true on bigvul): bigvul_75cc83685e103bc8ba380a57468c8f04413033f9\n",
      "data_id (true on bigvul): bigvul_5e7b9ec688d79e7b16ec7064e1d37e8481a31e72\n",
      "data_id (true on bigvul): bigvul_02e976d4426a1319a7af7d26d7aba9d8c6077570\n",
      "data_id (true on bigvul): bigvul_13d52e9c0e7caf7e6325b0051bc90a49968be67f\n",
      "data_id (true on bigvul): bigvul_ae6650163c66a7eff1acd6eb8b0f752dcfa8eba5\n",
      "data_id (true on bigvul): bigvul_6a974059190b8a0c7e499f4ab12fe108127099cb\n",
      "data_id (true on bigvul): bigvul_b348d7dddb6c4fbfc810b7a0626e8ec9e29f7cbb\n",
      "data_id (true on bigvul): bigvul_925bcf3c3b0a28b5b78e25d9efda5c0bf27ae699\n",
      "data_id (true on bigvul): bigvul_f76275d4a91b28d687250525d3a0c5509bbd666f\n",
      "data_id (true on bigvul): bigvul_0926f91083f34d047abc74f1ca4fa6a9c161f7db\n",
      "data_id (true on bigvul): bigvul_ae83295915d08a854de27a88efac5dd7353e6d3f\n",
      "data_id (true on bigvul): bigvul_e10c1eb9908c2774c16b3148b30d2f3823d66a9a\n",
      "data_id (true on bigvul): bigvul_d10a0f980fe8f9407ab1ffbd612641433ebe175e\n",
      "data_id (true on bigvul): bigvul_d1442d85cc30ea75f7d399474ca738e0bc96f715\n",
      "data_id (true on bigvul): bigvul_468f6eafa6c44cb2c5d8aad35e12f06c240a812a\n",
      "data_id (true on bigvul): bigvul_58a6fe94cb851f71214dbefac3f9bffee437d6fe\n",
      "data_id (true on bigvul): bigvul_9657bbe3cdce4aaa90e07d50c1c70ae52da0ba6a\n",
      "data_id (true on bigvul): bigvul_132a4111bf3791e76437619a66336dce2ce4c79b\n",
      "data_id (true on bigvul): bigvul_248385c606620b29ecc96ca9d3603463f879652b\n",
      "data_id (true on bigvul): bigvul_9b57da0630c9fd36ed7a20fc0f98dc82cc0777fa\n",
      "data_id (true on bigvul): bigvul_26c191788f18129af0eb32a358cdaea0c7479626\n",
      "data_id (true on bigvul): bigvul_dabd6f450e9594a8962ef6f79447a8bfdc1c9f05\n",
      "data_id (true on bigvul): bigvul_c085c49920b2f900ba716b4ca1c1a55ece9872cc\n",
      "data_id (true on bigvul): bigvul_52e977d79a0c4ace997e5c74af429844da2f27be\n",
      "data_id (true on bigvul): bigvul_3d5ac8c20846871f1eb3068b65f93da7cd33bfd0\n",
      "data_id (true on bigvul): bigvul_f8e9881c2aef1e982e5abc25c046820cd0b7cf64\n",
      "data_id (true on bigvul): bigvul_f592cf6a66b63decc7e7093b36501229a5de1f1d\n",
      "data_id (true on bigvul): bigvul_49fa4983f25b64ec29d548ffa3b9782426007df3\n",
      "data_id (true on bigvul): bigvul_87e204e0aaf7445afbd0d50af6849d857517ae70\n",
      "data_id (true on bigvul): bigvul_f983dcdf9c178e0cbc49608a78713c5669aa1bb5\n",
      "data_id (true on bigvul): bigvul_bcf3b67d16a4c8ffae0aa79de5853435e683945c\n",
      "data_id (true on bigvul): bigvul_14f2111f9cec919a450115ce4914f228effca58e\n",
      "data_id (true on bigvul): bigvul_996faf964bba1aec06b153b370a7f20d3dd2bb8b?w=1\n",
      "data_id (true on bigvul): bigvul_fbeba958bb83c05ec8cc54e285a4a9ca10d1b311\n",
      "data_id (true on bigvul): bigvul_d2371b4b204f0a3c0af51ad4e9b491144dd1225c\n",
      "data_id (true on bigvul): bigvul_eed4a7d177bf94a54c7b06ccce88507fbd76fb77\n",
      "data_id (true on bigvul): bigvul_988f8365f7d8ad8073b6786e433d34c553ecf568\n",
      "data_id (true on bigvul): bigvul_a7e5f58f402e6919ec444a57946bade7dfd6b184\n",
      "data_id (true on bigvul): bigvul_ec165c392ca54317dbe3064a8c200de6531e89ad\n",
      "data_id (true on bigvul): bigvul_be0726d33cb8f411945884664924bed3cb8c70ee\n",
      "data_id (true on bigvul): bigvul_d63a3c5729df59f183e9e110d5d8385d17caaad0\n",
      "data_id (true on bigvul): bigvul_fc27fe7e8deef2f37cba3f2be2d52b6ca5eb9d57\n",
      "data_id (true on bigvul): bigvul_78c9c4dfbf8c04883941445a195276bb4bb92c76\n",
      "data_id (true on bigvul): bigvul_354dd3924a2e43806774953de536257548b5002c\n",
      "data_id (true on bigvul): bigvul_1e84674d95353c64e5c4c0e7232ae86fd6ea813b\n",
      "----data_id (CodeTF true negative): qemu_6312\n",
      "data_id (true on bigvul): bigvul_108147dfd1ea159fd3632ef92ccc4ab8952980c7\n",
      "data_id (true on bigvul): bigvul_19ffddb0fe1a4ffdb459b797ffcf7f490d28b5a6\n",
      "data_id (true on bigvul): bigvul_37f2c716f2c6ab14c3ba557a539c3ee3224931b5\n",
      "data_id (true on bigvul): bigvul_068b963bb7afc57f5bdd723de0dd15e7795d5822\n",
      "data_id (true on bigvul): bigvul_4751b606fa38edc456d627140898a7ec679fcc24\n",
      "data_id (true on bigvul): bigvul_5a15b72a270b514cd442872221a788a303bdaa88\n",
      "data_id (true on bigvul): bigvul_43629f8f5ea32a998d06d1bb41eefa0e821ff573\n",
      "data_id (true on bigvul): bigvul_3b36ec4e713dea9266db11975066c425aa669b6c\n",
      "data_id (true on bigvul): bigvul_3bbc818ed1a7b63b8290bbde9ae975956748cb8a\n",
      "data_id (true on bigvul): bigvul_f7038068550fba0e41e1d0c355787f1dcd5bf330\n",
      "----data_id (CodeTF true positive): ffmpeg_8870\n",
      "data_id (true on bigvul): bigvul_4a3e17c874bc4c4c90e5b0f8ec568520964695d4\n",
      "data_id (true on bigvul): bigvul_13c149b051f82b709e8d7cc32111e84b49d57234\n",
      "data_id (true on bigvul): bigvul_3b32029db354cbc875127869d9b12a9addc75b50\n",
      "data_id (true on bigvul): bigvul_2078096efde1976b0fa9c820df90cedbfb2b13bc\n",
      "data_id (true on bigvul): bigvul_b8acc83781d5a24cc5101e525d15efe0482c280d\n",
      "data_id (true on bigvul): bigvul_ffac0ee4b8b00944e2ddf23f7f4f55daff3c117e\n",
      "data_id (true on bigvul): bigvul_d846f71195d57b0bbb143382647c2c6638b04c5a\n",
      "data_id (true on bigvul): bigvul_b4bf968ad52afe14e60a2dc8a95d3555c543353a\n",
      "data_id (true on bigvul): bigvul_25a3703ef2e015bbe1d1f16f6b2f63bb10dd34f4\n",
      "data_id (true on bigvul): bigvul_a8c4a82787b8b6c256d61bd5c42fb7f92d1bae00\n",
      "data_id (true on bigvul): bigvul_87a082c5137a63dedb3fe5b1f48f75dcd1fd780c\n",
      "data_id (true on bigvul): bigvul_f5527fffff3f002b0a6b376163613b82f69de073\n",
      "data_id (true on bigvul): bigvul_929f77d4173022a731ae91218ce6894d20f87f35\n",
      "data_id (true on bigvul): bigvul_2ee663f39dc8dac3d9988e847db19b2d7e3ac8c6\n",
      "data_id (true on bigvul): bigvul_b15f8769644b00ef7283521593360b7b2135cb63\n",
      "data_id (true on bigvul): bigvul_38d418505e9ee2d326557e5639e8da49c298858f\n",
      "data_id (true on bigvul): bigvul_2f267f89f957088197f4b1fc254632d1645b415d\n",
      "data_id (true on bigvul): bigvul_7ba1409a1aee5925180de546057ddd84ff267947\n",
      "data_id (true on bigvul): bigvul_45f6fad84cc305103b28d73482b344d7f5b76f39\n",
      "data_id (true on bigvul): bigvul_9709674e68646cee5a24e3000b3558d25412203a\n",
      "data_id (true on bigvul): bigvul_d7c3d2cb460be10a3ea7b32e9443a83c243b2251\n",
      "data_id (true on bigvul): bigvul_3a4b77cd47bb837b8557595ec7425f281f2ca1fe\n",
      "data_id (true on bigvul): bigvul_0a1c15fecb1240ab909e1431b6127410c3b380e0\n",
      "data_id (true on bigvul): bigvul_1ddcf2e4f28029a888cadef2e757509ef5047ad8\n",
      "data_id (true on bigvul): bigvul_3446c13b268af86391d06611327006b059b8bab1\n",
      "data_id (true on bigvul): bigvul_c1079bb8e77cdd426759e466729917ca37a3ed9f\n",
      "data_id (true on bigvul): bigvul_9409e22acdfc9153f88d9b1ed2bd2a5b34d2d3ca\n",
      "data_id (true on bigvul): bigvul_cec36a7bfa7411a4992820ce8639310b2b426eeb\n",
      "data_id (true on bigvul): bigvul_0d151e09e13a704e9738ea913d117df7282e6c7d\n",
      "data_id (true on bigvul): bigvul_58d9c46929ca0828edde34d263700c3a5fe8dc3c\n",
      "data_id (true on bigvul): bigvul_c27a3e4d667fdcad3db7b104f75659478e0c68d8\n",
      "data_id (true on bigvul): bigvul_cc331e4349e91706a673e2a09f1f2ea5bbb33815\n",
      "data_id (true on bigvul): bigvul_1c0edc3633b56000e18d82fc241e3995ca18a69e\n",
      "data_id (true on bigvul): bigvul_124751d5e63c823092060074bd0abaae61aaa9c4\n",
      "data_id (true on bigvul): bigvul_ab906da53ff2a68c6fd6d1fa73f2b7c7bf0bc636\n",
      "data_id (true on bigvul): bigvul_b45a9a167ca6a3ef2752ae9d48d56ac14b001bfd\n",
      "data_id (true on bigvul): bigvul_bd4e697ebd6c8457efa8f28f6831fc929b88a014\n",
      "data_id (true on bigvul): bigvul_71aaeaf020340412b8d012fe23a556c0420eda5f\n",
      "data_id (true on bigvul): bigvul_d9cd01ede97f4145af9781d448c62a3318952719\n",
      "data_id (true on bigvul): bigvul_98dcbbf0bf4854bf987557e55e55fff7abbf3ea9\n",
      "data_id (true on bigvul): bigvul_95389b08d93d5c06ec63ab49bd732b0069b7c35e\n",
      "data_id (true on bigvul): bigvul_bed844f109b6c222816740555068de2e101e8018\n",
      "data_id (true on bigvul): bigvul_4cc0286f2f3780abc6084bcdae5dce595daa3c12\n",
      "data_id (true on bigvul): bigvul_6609658db0799053fbef0d7d0aa2f1fd68ef32d8\n",
      "data_id (true on bigvul): bigvul_843d0b7a10bb45627f94764a6c5d468a24143345\n",
      "data_id (true on bigvul): bigvul_f6d8bd051c391c1c0458a30b2a7abcd939329259\n",
      "data_id (true on bigvul): bigvul_3592aaeb80290bda0f2cf0b5456c97bfc638b192\n",
      "data_id (true on bigvul): bigvul_f43bfaeddc79effbf3d0fcb53ca477cca66f3db8\n",
      "data_id (true on bigvul): bigvul_33ab91103b3415e12457e3104f0e4517ce12d0f3\n",
      "data_id (true on bigvul): bigvul_4d77eed905ce1d00361282e8822a2a3be61d25c0\n",
      "data_id (true on bigvul): bigvul_744c2a2d90c3c9a33c818e1ea4b7ccb5010663a0\n",
      "data_id (true on bigvul): bigvul_c85ce65ecac078ab1a1835c87c4a6319cf74660a\n",
      "data_id (true on bigvul): bigvul_ecb7f58a069be0dec4a6131b6351a761f808f22e?w=1\n",
      "data_id (true on bigvul): bigvul_654b404f2a222f918af9b0cd18ad469d0c941a8e\n",
      "data_id (true on bigvul): bigvul_4a342f01e5439b9bb901aff1c6c23c536baeeb3f\n",
      "data_id (true on bigvul): bigvul_3d32e4dbe71374a6780eaf51d719d76f9a9bf22f\n",
      "data_id (true on bigvul): bigvul_ac902c112d90a89e59916f751c2745f4dbdbb4bd\n",
      "data_id (true on bigvul): bigvul_d2f007dbe7e4c9583eea6eb04d60001e85c6f1bd\n",
      "data_id (true on bigvul): bigvul_256825d4eb33dc301496710d15cf5a7ae924088b\n",
      "data_id (true on bigvul): bigvul_55edae0226409de25e59922807cb09acb45731a2\n",
      "data_id (true on bigvul): bigvul_0641e56be1af003aa02c7c6b0184466540637233\n",
      "data_id (true on bigvul): bigvul_d18c519758c2e6043f0e1f00e2b69a55b3d7997f\n",
      "data_id (true on bigvul): bigvul_95a8351a75758cf10b3bf6abae0b6b461f90d9e5\n",
      "data_id (true on bigvul): bigvul_adca986a53b31b6da4cb22f8e755f6856daea89a\n",
      "data_id (true on bigvul): bigvul_d17507ffa3e9742199b02a66aa940e79ababfa30\n",
      "data_id (true on bigvul): bigvul_979d63d50c0c0f7bc537bf821e056cc9fe5abd38\n",
      "data_id (true on bigvul): bigvul_2f36db71009304b3f0b95afacd8eba1f9f046b87\n",
      "data_id (true on bigvul): bigvul_91e58d967a92250439ede038ccfb0913a81e59fe\n",
      "data_id (true on bigvul): bigvul_e9372a1bfd3588a80fcf49aa07321f0971dd6091\n",
      "data_id (true on bigvul): bigvul_2b62d1dda41590db29368ec7ba5f4faf3464765a\n",
      "data_id (true on bigvul): bigvul_68cb695ccecf949d48949e72f8ce591fdaaa325c\n",
      "data_id (true on bigvul): bigvul_77da160530dd1dc94f6ae15a981f24e5f0021e84\n",
      "data_id (true on bigvul): bigvul_56d6e20de489113617cbbddaf41e92600a34db22\n",
      "data_id (true on bigvul): bigvul_f283cdf7c850f3db923a5303c7e01bd929d4117f\n",
      "data_id (true on bigvul): bigvul_d689d14dbcd768c028eab2fb378d849e543dcfe9\n",
      "data_id (true on bigvul): bigvul_40bec0f38f50e8510f5bb71a82f516d46facde03\n",
      "data_id (true on bigvul): bigvul_54d5ca871e72f2bb172ec9323497f01cd5091ec7\n",
      "data_id (true on bigvul): bigvul_987ad747db6d0d7e36f840398f3cf02e2fbfd90f\n",
      "data_id (true on bigvul): bigvul_a5b2c5b2ad5853591a6cac6134cd0f599a720865\n",
      "data_id (true on bigvul): bigvul_f18ddf5d82de0ab7591a36e465bc24225776940f\n",
      "data_id (true on bigvul): bigvul_9425e16437439e68c7d96abef922167d68fafaff\n",
      "data_id (true on bigvul): bigvul_94f1bb15bed84ad6c893916b7e7b9db6f1d7eec6\n",
      "data_id (true on bigvul): bigvul_7aaf7e9031ee16b9d4212fa0bc03d94713b3261b\n",
      "data_id (true on bigvul): bigvul_d13e8f6d1e987b7491182040a188c16a395f1d21\n",
      "data_id (true on bigvul): bigvul_38740a5b87d53ceb89eb2c970150f6e94e00373a\n",
      "data_id (true on bigvul): bigvul_1846f48e5fcdde996e7c27a4bbac5d0aef183e4b\n",
      "----data_id (CodeTF true negative): ffmpeg_5887\n",
      "data_id (true on bigvul): bigvul_d515b4b4a300479cdf1a6e0d1bb95bc1f9fee514\n",
      "data_id (true on bigvul): bigvul_7245bff300d3fa8bacbef7897ff080a6f1c23eba?w=1\n",
      "data_id (true on bigvul): bigvul_9476ce1dd37d3c3218d5640b74c34c65e5f4efe5\n",
      "data_id (true on bigvul): bigvul_b5e2f339865fb443107e5b10603e53bbc92dc054\n",
      "data_id (true on bigvul): bigvul_2d669862df7cd17f539129049f6fb70d17174125\n",
      "data_id (true on bigvul): bigvul_beacc44eb8cdf6d58717ec1a5103c5141f1b37f9\n",
      "data_id (true on bigvul): bigvul_ba3b1b344017bbf36283464b51014fad15c2f3f4\n",
      "data_id (true on bigvul): bigvul_073c516ff73557a8f7315066856c04b50383ac34\n",
      "data_id (true on bigvul): bigvul_dfc00cd3301a42b571454b51a6102eecf58407bc\n",
      "data_id (true on bigvul): bigvul_f41e941341e44aa86edd4483c4487ec09a074257\n",
      "data_id (true on bigvul): bigvul_35ceea928b12373a3b1e3eecdc32ed323223a40d\n",
      "data_id (true on bigvul): bigvul_e3b5a5e5267818c97750b266df50b6a3d4649604\n",
      "data_id (true on bigvul): bigvul_dcdf4fd954e3213c355746fa15b7480461972308\n",
      "data_id (true on bigvul): bigvul_db27ebb111e9f69efece08e4cb6a34ff980f8896\n",
      "data_id (true on bigvul): bigvul_ed6f4545a2a345697e07908c887333f5bdcc97a3\n",
      "data_id (true on bigvul): bigvul_a9ca2310c6e68ad8dc39d6b54ca9ea10867ed8a1\n",
      "data_id (true on bigvul): bigvul_92327c9ec211bd1616315abcb255861b130b97ca\n",
      "data_id (true on bigvul): bigvul_fdcee2cbb8438702ea1b328fb6e0ac5e9a40c7f8\n",
      "data_id (true on bigvul): bigvul_4ec0ef3a82125efc36173062a50624550a900ae0\n",
      "data_id (true on bigvul): bigvul_a4e1cd14eb5ccc51ed271b65b3420f7d692c40eb\n",
      "data_id (true on bigvul): bigvul_7db3386fcdb454e33a3ea30dcfb8e8960d4c3aa3\n",
      "data_id (true on bigvul): bigvul_ce1446c00f0fd8f5a3b00727421be2124cb7370f\n",
      "data_id (true on bigvul): bigvul_5fc08cfb098acce49344d2e89cc27c915903f81c\n",
      "data_id (true on bigvul): bigvul_8e9faa15469ed7c7467423db4c62aeed3ff4cae3\n",
      "data_id (true on bigvul): bigvul_6937de5544c3eead3466b75020d8382080ed0cff\n",
      "data_id (true on bigvul): bigvul_83c9f495ffe70c7dd280b41fdfd4881485a3bc28\n",
      "data_id (true on bigvul): bigvul_04bf464a5dfd9ade0dda918e44366c2c61fce80b\n",
      "data_id (true on bigvul): bigvul_19d25dd8781620cd41bf178a5e2e27fc1cf242d0\n",
      "data_id (true on bigvul): bigvul_4601c685e7fd19c3724d5e499c69b8d3ec49933e\n",
      "data_id (true on bigvul): bigvul_be7185faf7f52674028977dcf501c6039ff03aa5\n",
      "data_id (true on bigvul): bigvul_70945643722ffeac779d2529a348f99567fa5c33\n",
      "data_id (true on bigvul): bigvul_5b0d76edd5d6d4054b2e1263e23c852226c5f701\n",
      "data_id (true on bigvul): bigvul_db124b8f607dd0a40a9aef2d4d468fad433522a7\n",
      "data_id (true on bigvul): bigvul_363b02dab09b3226f3bd1420dad9c72b79a42a76\n",
      "data_id (true on bigvul): bigvul_9e2dcf72023d1447f09c47d77c99b0c49659e5ce\n",
      "data_id (true on bigvul): bigvul_13fcb7bd322164c67926ffe272846d4860196dc6\n",
      "data_id (true on bigvul): bigvul_2965eca30c408c13473c4146a9d47d547d288db1\n",
      "data_id (true on bigvul): bigvul_9c0b13574dc0ddeb502d7ed92ba10f7981da6736\n",
      "data_id (true on bigvul): bigvul_8598a497e2d1f556a34458cf54b40ba40674734c\n",
      "data_id (true on bigvul): bigvul_7d11f77f84b27cef452cee332f4e469503084737\n",
      "data_id (true on bigvul): bigvul_c1fa0768a8713b135848f78fd43ffc208d8ded70\n",
      "data_id (true on bigvul): bigvul_dc49c807926b96e503bd7c0dec35119eecd6c6fe\n",
      "data_id (true on bigvul): bigvul_f3d3342602f8bcbf37d7c46641cb9bca7618eb1c\n",
      "data_id (true on bigvul): bigvul_aba8d056078e47350d85b06a9cabd5afcc4b72ea\n",
      "data_id (true on bigvul): bigvul_8c10b9247509c0484b55330458846115131ec2ae\n",
      "data_id (true on bigvul): bigvul_5d0e9f824e05523e03dabc0e341b9f8f17a72bb0\n",
      "data_id (true on bigvul): bigvul_128394eff343fc6d2f32172f03e24829539c5835\n",
      "data_id (true on bigvul): bigvul_741495cb08503fd32a9d22648e63b64390c601f4\n",
      "data_id (true on bigvul): bigvul_206204a1162b995e2185275167b22468c00d6b36\n",
      "data_id (true on bigvul): bigvul_ee53664bda169f519ce3c6a22d378f0b946c8178\n",
      "data_id (true on bigvul): bigvul_86acdca1b63e6890540fa19495cfc708beff3d8b\n",
      "data_id (true on bigvul): bigvul_7135ec229882370a00411aa50030eada6034cc1b\n",
      "data_id (true on bigvul): bigvul_a399b29dfbaaaf91162b2dc5a5875dd51bbfa2a1\n",
      "data_id (true on bigvul): bigvul_152d6d95632d8b9477c170f1de99bcd86d7fb1d6\n",
      "data_id (true on bigvul): bigvul_d8634daf74c882356659addb65fb142b738a186b\n",
      "data_id (true on bigvul): bigvul_e99cc8e5a48ff4978d401c48a64f06649f647f3f\n",
      "data_id (true on bigvul): bigvul_c70422f760c120480fee4de6c38804c72aa26bc1\n",
      "data_id (true on bigvul): bigvul_cc4ac341f29fa368da6ef01c207deaf8c61f6a2e\n",
      "data_id (true on bigvul): bigvul_293d9d3f\n",
      "data_id (true on bigvul): bigvul_e8180dcaa8470ceca21109f143876fdcd9fe050a\n",
      "data_id (true on bigvul): bigvul_5483b3292cc2af1c83033eaaadec20dba4dcfd9b\n",
      "data_id (true on bigvul): bigvul_ef93ff74203e030073b898c05e8b4860b5d09ef2\n",
      "data_id (true on bigvul): bigvul_4c46d7a5b0af9b7d320e709291b270ab7cf07e83\n",
      "data_id (true on bigvul): bigvul_cea4dcfdad926a27a18e188720efe0f2c9403456\n",
      "data_id (true on bigvul): bigvul_727ba748e110b4de50d142edca9d6a9b7e6111d8\n",
      "data_id (true on bigvul): bigvul_b8573aa643b03a59f4e2c99c72d3511a11cfb0b6\n",
      "data_id (true on bigvul): bigvul_d0de4dc584ec6aa3b26fffea320a8457827768fc\n",
      "data_id (true on bigvul): bigvul_70697bf3c5dc3d201341b01a1a8e5bc6d2fb48f8\n",
      "data_id (true on bigvul): bigvul_b8670c09f37bdf2847cc44f36511a53afc6161fd\n",
      "data_id (true on bigvul): bigvul_bb812022d0bc12107db215c981cab0b1ccd73d91\n",
      "data_id (true on bigvul): bigvul_651a8e28099edb5fbb9e4e1d4d3238848f446c9a\n",
      "data_id (true on bigvul): bigvul_5dc1860d8267b1e0cb78c9ffa2a40bea2fdb3ddc\n",
      "data_id (true on bigvul): bigvul_d29216842a85c7970c536108e093963f02714498\n",
      "data_id (true on bigvul): bigvul_3f1693d558d0758f829c8b53993f1749ddf6ffcb\n",
      "data_id (true on bigvul): bigvul_7335163a6ef82d46ff18f3e6099a157747241629\n",
      "data_id (true on bigvul): bigvul_ba169c14aa9cc2efd708a878ae21ff34f3898fe0\n",
      "data_id (true on bigvul): bigvul_8e3fe45a7bac31d9a3b558ae0079e2d92a04799e\n",
      "data_id (true on bigvul): bigvul_c509265c5f6ae7264f7b8a8aae1cfa5fc59d108c\n",
      "data_id (true on bigvul): bigvul_54a20552e1eae07aa240fa370a0293e006b5faed\n",
      "data_id (true on bigvul): bigvul_b20e1639dbac84b3fcb393858521c13ad47a9d70\n",
      "data_id (true on bigvul): bigvul_7e4ab8e1189846041f955e6c83f72bc1624e7a98\n",
      "data_id (true on bigvul): bigvul_d683fb12566eaec180ee0e0506288f46cc7a43e7\n",
      "data_id (true on bigvul): bigvul_0f22072ab50cac7983f9660d33974b45184da4f9\n",
      "data_id (true on bigvul): bigvul_db132b4731a9b4c9534144ba3a18e65b390e9ff6\n",
      "data_id (true on bigvul): bigvul_3c1b60cfa62d39e5fff5a53a5bc53dae189e740e\n",
      "data_id (true on bigvul): bigvul_1948aefa8901dca0ccb993753fca00b15d2a6e25\n",
      "data_id (true on bigvul): bigvul_ca336198e8bebccc18502de27672fdbd6eb34856\n",
      "data_id (true on bigvul): bigvul_67de956ff5dc1d4f321e16cfbd63f5be3b691b43\n",
      "data_id (true on bigvul): bigvul_103b40f51e4012b3b0ad20f615562a1806d7f49a\n",
      "data_id (true on bigvul): bigvul_afa878a689870c28b6994ecf3bb8dbfb2b76d135\n",
      "data_id (true on bigvul): bigvul_102bb6ebf20f9174130c85c3b052ae104e5073ec\n",
      "data_id (true on bigvul): bigvul_26f5a4350f3ab5507bb8727051c87bb04660f333\n",
      "data_id (true on bigvul): bigvul_6b8dba29d73257311564ee7f27b9b14758cc693e\n",
      "data_id (true on bigvul): bigvul_ba2b9d000660313af7b692542afbd374c5685865\n",
      "data_id (true on bigvul): bigvul_72dbb7f416160f490c4e9987040989a10ad431c7?w=1\n",
      "data_id (true on bigvul): bigvul_45d901b56f578a74b19ba0d10fa5c4c467f19303\n",
      "data_id (true on bigvul): bigvul_7d8cefdf6d0e457b7a855c9503684f1058c2a356\n",
      "data_id (true on bigvul): bigvul_d558023207e008a4476a3b7bb8706b2a2bf5d84f\n",
      "data_id (true on bigvul): bigvul_864f5d4c127def386dd5cc926ad96934b297f04e\n",
      "data_id (true on bigvul): bigvul_f7b020b3d36def118881daa4402c44ca72271482\n",
      "data_id (true on bigvul): bigvul_da087238963c1239fdabd47dc1b65279605aca70\n",
      "data_id (true on bigvul): bigvul_04bcef2a83f40c6db24222b27a52892cba39dffb\n",
      "data_id (true on bigvul): bigvul_3e4c56d41eef5595035872a2ec5a483f42e8917f\n",
      "data_id (true on bigvul): bigvul_9f26ce37f5be86ea11bfc6831366558650b1f6ff\n",
      "data_id (true on bigvul): bigvul_e159332b9af4b04d882dbcfe1bb0117f0a6d4b58\n",
      "data_id (true on bigvul): bigvul_56c6a8a4aadca809e04276eabe5552935c51387f\n",
      "data_id (true on bigvul): bigvul_18c5c5dcef9cfccff64f0c23f920ef22822271a9\n",
      "data_id (true on bigvul): bigvul_dd739f5a45b3af3d1f65f00fe19af1dbfec7aea7\n",
      "data_id (true on bigvul): bigvul_5d00b719f4b93b1445e6fb4c766b9a9883c57949\n",
      "data_id (true on bigvul): bigvul_5289a5d4c98681e9a0f2d28da0c7aa35e282db57\n",
      "data_id (true on bigvul): bigvul_9b46957ec98d85a572e9ef98301247f39338a3b5\n",
      "data_id (true on bigvul): bigvul_8187d2d8fd010d2d6b1a3a8edd935beec404dddc\n",
      "data_id (true on bigvul): bigvul_c95eb3184ea1a3a2551df57190c81da695e2144b\n",
      "data_id (true on bigvul): bigvul_a117dacde0288f3ec60b6e5bcedae8fa37ee0dfc\n",
      "data_id (true on bigvul): bigvul_104870608fde3c698483fdef6b97f093fc15685d\n",
      "data_id (true on bigvul): bigvul_f03ea5a5c2ff26e239dfd23e263b15da2d9cee93\n",
      "data_id (true on bigvul): bigvul_7d7190695ce2ff269fdffb04e87139995cde21f4\n",
      "data_id (true on bigvul): bigvul_6bdf093650147311383b38f0ad26d6d0f091b21f\n",
      "data_id (true on bigvul): bigvul_b6d838eebf4456192360654092e5587c5207f185\n",
      "data_id (true on bigvul): bigvul_fa7438a0ff4033e4741c807394a9af6207940d71\n",
      "data_id (true on bigvul): bigvul_053e67e3ec81cc9268ce30eaf0d6663d8639ed1e\n",
      "data_id (true on bigvul): bigvul_c2349758acf1874e4c2b93fe41d072336f1a31d0\n",
      "data_id (true on bigvul): bigvul_903fd8a0789ca3cc3c21d84cd0282481515592ef\n",
      "data_id (true on bigvul): bigvul_5f295cd05c3c136d39f5b3e500a2d781bdbb59c8\n",
      "data_id (true on bigvul): bigvul_f698ce8f7637d75d1816277d5938df8cdb4224d7\n",
      "data_id (true on bigvul): bigvul_2dcab598484185dea7ec22219c76dcdd59e3cb90\n",
      "data_id (true on bigvul): bigvul_96f64a022014a208105ead6c8a7066018449d86d\n",
      "data_id (true on bigvul): bigvul_617b12c0339db4891d117b661982126c495439ea\n",
      "data_id (true on bigvul): bigvul_142cfc82b932bc211218fbd7bdda8c7ce83f19df\n",
      "data_id (true on bigvul): bigvul_e1d8008a09d9390ebaf698abe8909e10dfec4097\n",
      "data_id (true on bigvul): bigvul_072684e8c58d17e853f8e8b9f6d9ce2e58d2b036\n",
      "data_id (true on bigvul): bigvul_c6f0d22d508a551a40fc8bd7418941b77435aac3\n",
      "data_id (true on bigvul): bigvul_b1e699103f08d6a0ca46a122193c9da65f6cf837\n",
      "data_id (true on bigvul): bigvul_ce07d891a0891d3c0d0c2d73d577490486b809e1\n",
      "data_id (true on bigvul): bigvul_84d73cd3fb142bf1298a8c13fd4ca50fd2432372\n",
      "data_id (true on bigvul): bigvul_c1577110467b701dcbcf9439ac225ea851b47d22\n",
      "data_id (true on bigvul): bigvul_d128139d53e9268e87921e82d89b3f2053cb83fd\n",
      "data_id (true on bigvul): bigvul_4c1360818fc8948e9307059fba4dc47ba8ad255d\n",
      "data_id (true on bigvul): bigvul_153f8457c7867d5c9b627c11b52f5de0671d2fff\n",
      "data_id (true on bigvul): bigvul_16e6979c82297d5fc4f8661e7ada975f51e4dfa9\n",
      "data_id (true on bigvul): bigvul_94f9cd81436c85d8c3a318ba92e236ede73752fc\n",
      "data_id (true on bigvul): bigvul_c903f0456bc69176912dee6dd25c6a66ee1aed00\n",
      "data_id (true on bigvul): bigvul_9824dfae5741275473a23a7ed5756c7b6efacc9d\n",
      "data_id (true on bigvul): bigvul_37c5e5e604744c9efd4fa5a3abaca7e6b651054c\n",
      "data_id (true on bigvul): bigvul_ea2bc483ff5caada7c4aa0d5fbf87d3a6590273d\n",
      "data_id (true on bigvul): bigvul_0d68cbd77addd38909101f76847deea56de00524\n",
      "data_id (true on bigvul): bigvul_2d6a0e9de03ee658a9adc3bfb2f0ca55dff1e478\n",
      "data_id (true on bigvul): bigvul_e52a436c0e1c5e9f7ef13428dba83194a800f4df\n",
      "data_id (true on bigvul): bigvul_c5d72beaab1cbbbe68271f4bc4b6670d69985157\n",
      "data_id (true on bigvul): bigvul_3aad1a37affb1ab70d1897f2b03eb8c077264984\n",
      "data_id (true on bigvul): bigvul_fa76a9f7ef6a028f83f97c181b150ecfd2b13be1\n",
      "data_id (true on bigvul): bigvul_b399a05453d7b3e2dfdec67865fefe6953bcc59e\n",
      "data_id (true on bigvul): bigvul_c54def7bd64d7c0b6993336abcffb8444795bf38\n",
      "data_id (true on bigvul): bigvul_5c17c861a357e9458001f021a7afa7aab9937439\n",
      "data_id (true on bigvul): bigvul_a7a44ba55cb4f884c6bc9ceac90072dea38e66d0\n",
      "data_id (true on bigvul): bigvul_eee0b04bcfdae319c242b0b8fc3d07029ee65b8c\n",
      "data_id (true on bigvul): bigvul_853bc26a7ea39e354b9f8889ae7ad1492ffa28d2\n",
      "data_id (true on bigvul): bigvul_95e80bf9ff10f68cb6443f760b85df4117cb15eb\n",
      "data_id (true on bigvul): bigvul_db97b49fdd856f33bd810db4564c6f2cc14be71a\n",
      "data_id (true on bigvul): bigvul_de9f869616dd95e95c00bdd6b0fcd3421e8a4323\n",
      "data_id (true on bigvul): bigvul_844817e47eef14141cf59b8d5ac08dd11c0a9189\n",
      "data_id (true on bigvul): bigvul_9903e41ae1f5d50c93f268ca3304d4d7c64b9311\n",
      "data_id (true on bigvul): bigvul_7a6d81a8544c595331b50a17f8c0b11feca2f029\n",
      "data_id (true on bigvul): bigvul_d4d80b38aa85eccb26e3c61b04d16e8ca5de76fe\n",
      "data_id (true on bigvul): bigvul_637b58c2887e5e57850865839cc75f59184b23d1\n",
      "data_id (true on bigvul): bigvul_f663dfb8431c97d95682a2b533cca1c8233d21b4\n",
      "data_id (true on bigvul): bigvul_726812fa2fa7ce16bcf58f6e115f65427a1c0950\n",
      "data_id (true on bigvul): bigvul_227851d714bdc081de4c7e81669420380fa6c000\n",
      "data_id (true on bigvul): bigvul_d9092f52d7e61dd1557f2db2400ddb430e85937e\n",
      "data_id (true on bigvul): bigvul_a8f9c2aabed37cd6a728532d1aed13ae0f3dfd78\n",
      "data_id (true on bigvul): bigvul_b534e304568585707c4a92422aeca25cf908ff02\n",
      "data_id (true on bigvul): bigvul_d96a6b8bcc7439fa7e3876207aa0a8e79c8451b6\n",
      "data_id (true on bigvul): bigvul_529ff26b68febb2ac03062c58452ea0b4c6edbc1\n",
      "data_id (true on bigvul): bigvul_08dff7b7d629807dbb1f398c68dd9cd58dd657a1\n",
      "data_id (true on bigvul): bigvul_f7ae1f7a918f1973dca241a7a23169906eaf4fe3\n",
      "data_id (true on bigvul): bigvul_f7206618d27c2e69d977abf40e3035a33e5f6be0\n",
      "data_id (true on bigvul): bigvul_d65b01ca819881a507b5e60c25a2f9caff58cd57\n",
      "data_id (true on bigvul): bigvul_cb2595c1393b4a5211534e6f0a0fbad369e21ad8\n",
      "data_id (true on bigvul): bigvul_8ee2a503e102b1a43ec4d83113dc275ab20a869a\n",
      "data_id (true on bigvul): bigvul_4dc1a2d7931017d3625f2d7cff70a17ce58b53b4\n",
      "data_id (true on bigvul): bigvul_b12eb22a27110f49a2ad54b9e4ffd0ccb6cf9ce9\n",
      "data_id (true on bigvul): bigvul_e237ec37ec154564f8690c5bd1795339955eeef9\n",
      "data_id (true on bigvul): bigvul_adb3498ca0b69561d8c6b60bab641de4b0e37dbf\n",
      "data_id (true on bigvul): bigvul_a19e4877974a6a0cfc53f92c1496a8f995fe2614\n",
      "data_id (true on bigvul): bigvul_8ea5693d5cf304e56174bb6b65412f04209904db\n",
      "data_id (true on bigvul): bigvul_79e48650320e6fba48369fccf13fd045315b19b8\n",
      "data_id (true on bigvul): bigvul_4de30e5500eaeb49f4bf0b7a07f718e149a2ed5e\n",
      "data_id (true on bigvul): bigvul_0031c41be5c529f8329e327b63cde92ba1284842\n",
      "data_id (true on bigvul): bigvul_e24bdc716c3327b067c551bc6cfb97fd2370358d\n",
      "data_id (true on bigvul): bigvul_4c0faba32fddbd0745cbfaf1e1aeb3da5d35b9fc\n",
      "data_id (true on bigvul): bigvul_3ef52043861ab16352d49af89e048ba6339d6df8\n",
      "data_id (true on bigvul): bigvul_7d97e1d327f153cce6137ef8b533d45d083802d9\n",
      "data_id (true on bigvul): bigvul_fefaaa43c382eee632ea3ad0cfa915335140e1db\n",
      "data_id (true on bigvul): bigvul_82981930125abfd39d7c8378a9cfdf5e1be2002b\n",
      "data_id (true on bigvul): bigvul_d5089971bd792311aaab5cb73460326d7ef7f32d\n",
      "data_id (true on bigvul): bigvul_687cb0884a714ff484d038e9190edc874edcf146\n",
      "data_id (true on bigvul): bigvul_ffde45acf3348f8353fb4064a1b21683ee6b5ddf\n",
      "data_id (true on bigvul): bigvul_9bf292bfca94694a721449e3fd752493856710f6\n",
      "data_id (true on bigvul): bigvul_e9c6a182649f4259db704ae15a91ac820e63b0ca\n",
      "data_id (true on bigvul): bigvul_d8316f3991d207fe32881a9ac20241be8fa2bad0\n",
      "data_id (true on bigvul): bigvul_f1afce25b3f94d8bddec69b08ffbc29b989ad844\n",
      "data_id (true on bigvul): bigvul_d67a9ca6fd06ca65d23e313bdbad1ef4dd3aa0df\n",
      "data_id (true on bigvul): bigvul_035cf2afc04988b22cb67f4ebfd77e9b344cb6e0\n",
      "data_id (true on bigvul): bigvul_d23beebe7b1179fb75db1e85fbca3100e49593d9\n",
      "data_id (true on bigvul): bigvul_0aca6bc05a263ea9eafee515fc6ba14da94c1964\n",
      "data_id (true on bigvul): bigvul_c88e739b1fad662240e99ecbd0bdaac871717987\n",
      "data_id (true on bigvul): bigvul_2e86ae5f81da11f11673d0546efb525af02b7786\n",
      "data_id (true on bigvul): bigvul_6094628bfd94323fc1cea05ec2c6affd98c18f7f\n",
      "data_id (true on bigvul): bigvul_c7e50b5ef454efd6ab9527d795442c213eeb6afa\n",
      "data_id (true on bigvul): bigvul_241988ca28139ad970c1d9717c419f41e360ddb0\n",
      "data_id (true on bigvul): bigvul_f85a87ec670ad0fce9d98d90c9a705b72a288154\n",
      "data_id (true on bigvul): bigvul_6160968cee8b90a5dd95318d716e31d7775c4ef3\n",
      "data_id (true on bigvul): bigvul_4c69e5e58bdf8717140328e5528325af56e7211e\n",
      "data_id (true on bigvul): bigvul_096fe9eaea40a17e125569f9e657e34cdb6d73bd\n",
      "data_id (true on bigvul): bigvul_f6ac1dba5e36f338a490752a2cbef3339096d9fe\n",
      "data_id (true on bigvul): bigvul_338f977f4eb441e69bb9a46eaa0ac715c931a67f\n",
      "data_id (true on bigvul): bigvul_9597042cad54926f50d58f5ada39205eb734d7be\n",
      "Test Accuracy:  0.9769\n",
      "              precision    recall  f1-score   support\n",
      "\n",
      "      benign     0.9742    0.9803    0.9773      2389\n",
      "  vulnerable     0.9796    0.9733    0.9765      2322\n",
      "\n",
      "    accuracy                         0.9769      4711\n",
      "   macro avg     0.9769    0.9768    0.9769      4711\n",
      "weighted avg     0.9769    0.9769    0.9769      4711\n",
      "\n",
      "[[2342   47]\n",
      " [  62 2260]]\n",
      "real_sample_count for bigvul: 581\n"
     ]
    }
   ],
   "source": [
    "mkdir_if_not_exist(MODEL_SAVE_PATH)\n",
    "model = MLP(4, 2)\n",
    "saved_model_name = 'ensemble2_0.9769_epoch80.pt'\n",
    "model.load_state_dict(torch.load(f'{MODEL_SAVE_PATH}/{saved_model_name}'))\n",
    "print('model path:', f'{MODEL_SAVE_PATH}/{saved_model_name}')\n",
    "evaluate(model, val_dataset)\n"
   ]
  },
  {
   "cell_type": "code",
   "execution_count": null,
   "metadata": {},
   "outputs": [],
   "source": []
  }
 ],
 "metadata": {
  "kernelspec": {
   "display_name": "Python 3 (ipykernel)",
   "language": "python",
   "name": "python3"
  },
  "language_info": {
   "codemirror_mode": {
    "name": "ipython",
    "version": 3
   },
   "file_extension": ".py",
   "mimetype": "text/x-python",
   "name": "python",
   "nbconvert_exporter": "python",
   "pygments_lexer": "ipython3",
   "version": "3.8.10"
  }
 },
 "nbformat": 4,
 "nbformat_minor": 4
}
