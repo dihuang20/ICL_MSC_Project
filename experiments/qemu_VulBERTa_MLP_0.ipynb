{
 "cells": [
  {
   "cell_type": "code",
   "execution_count": 1,
   "metadata": {},
   "outputs": [],
   "source": [
    "# References:\n",
    "# This source code file refers to:\n",
    "# https://github.com/ICL-ml4csec/VulBERTa\n",
    "# https://towardsdatascience.com/text-classification-with-bert-in-pytorch-887965e5820f\n"
   ]
  },
  {
   "cell_type": "code",
   "execution_count": null,
   "metadata": {},
   "outputs": [],
   "source": [
    "ONLY_TEST = True\n",
    "DATASET_NAME = 'qemu'\n",
    "COMMIT_PATCH_PROCESSING_MODE = 0\n"
   ]
  },
  {
   "cell_type": "markdown",
   "metadata": {},
   "source": [
    "## Pre-requisites stuff"
   ]
  },
  {
   "cell_type": "code",
   "execution_count": 2,
   "metadata": {},
   "outputs": [
    {
     "name": "stdout",
     "output_type": "stream",
     "text": [
      "cuda\n"
     ]
    }
   ],
   "source": [
    "# --- di\n",
    "import os\n",
    "os.environ['CUDA_LAUNCH_BLOCKING'] = \"1\"\n",
    "from tqdm import tqdm\n",
    "import sys\n",
    "# --- di\n",
    "\n",
    "import pandas as pd\n",
    "import numpy as np\n",
    "import csv\n",
    "import pickle\n",
    "import re\n",
    "import torch\n",
    "import sklearn\n",
    "import os\n",
    "import random\n",
    "import custom\n",
    "import models\n",
    "import clang\n",
    "from clang import *\n",
    "from clang import cindex\n",
    "from pathlib import Path\n",
    "from tokenizers import ByteLevelBPETokenizer\n",
    "from tokenizers.implementations import ByteLevelBPETokenizer\n",
    "from tokenizers.processors import BertProcessing\n",
    "from torch.utils.data import Dataset, DataLoader, IterableDataset\n",
    "from transformers import RobertaConfig\n",
    "from transformers import RobertaForMaskedLM, RobertaForSequenceClassification\n",
    "from transformers import RobertaTokenizerFast\n",
    "from transformers import DataCollatorForLanguageModeling\n",
    "from transformers import Trainer, TrainingArguments\n",
    "from transformers import LineByLineTextDataset\n",
    "from transformers.modeling_outputs import SequenceClassifierOutput\n",
    "from custom import CustomDataCollatorForLanguageModeling\n",
    "\n",
    "## Set default device (GPU or CPU)\n",
    "\n",
    "device = torch.device(\"cuda\" if torch.cuda.is_available() else \"cpu\")\n",
    "print(device)\n",
    "\n",
    "## Deterministic/reproducible flags\n",
    "\n",
    "seedlist = [42, 834, 692, 489, 901, 408, 819, 808, 531, 166]\n",
    "\n",
    "seed = seedlist[0]\n",
    "os.environ['PYTHONHASHSEED'] = str(seed)\n",
    "torch.manual_seed(seed)\n",
    "torch.cuda.manual_seed(seed)\n",
    "torch.cuda.manual_seed_all(seed)\n",
    "np.random.seed(seed)\n",
    "random.seed(seed)\n",
    "torch.backends.cudnn.enabled = True\n",
    "torch.backends.cudnn.deterministic = True\n",
    "torch.backends.cudnn.benchmark = False\n",
    "\n",
    "## Weights and Biases flags\n",
    "\n",
    "os.environ['WANDB_DISABLED'] = 'true'\n",
    "os.environ['WANDB_MODE'] = 'dryrun'\n",
    "# os.environ[\"CUDA_VISIBLE_DEVICES\"]=\"\"\n",
    "#os.environ['WANDB_NOTEBOOK_NAME'] = 'Pretrain word-level VulBERTa on Draper'\n",
    "#os.environ['WANDB_NAME'] = 'linux'\n",
    "#os.environ['WANDB_PROJECT'] = 'projectName'\n",
    "\n",
    "## Tokenizer\n",
    "\n",
    "from tokenizers.pre_tokenizers import PreTokenizer\n",
    "from tokenizers.pre_tokenizers import Whitespace\n",
    "from tokenizers import NormalizedString,PreTokenizedString\n",
    "from typing import List \n",
    "\n",
    "class MyTokenizer:\n",
    "    \n",
    "    cidx = cindex.Index.create()\n",
    "        \n",
    "\n",
    "    def clang_split(self, i: int, normalized_string: NormalizedString) -> List[NormalizedString]:\n",
    "        ## Tokkenize using clang\n",
    "        tok = []\n",
    "        tu = self.cidx.parse('tmp.c',\n",
    "                       args=[''],  \n",
    "                       unsaved_files=[('tmp.c', str(normalized_string.original))],  \n",
    "                       options=0)\n",
    "        for t in tu.get_tokens(extent=tu.cursor.extent):\n",
    "            spelling = t.spelling.strip()\n",
    "            \n",
    "            if spelling == '':\n",
    "                continue\n",
    "                \n",
    "            ## Keyword no need\n",
    "\n",
    "            ## Punctuations no need\n",
    "\n",
    "            ## Literal all to BPE\n",
    "            \n",
    "            #spelling = spelling.replace(' ', '')\n",
    "            tok.append(NormalizedString(spelling))\n",
    "\n",
    "        return(tok)\n",
    "    \n",
    "    def pre_tokenize(self, pretok: PreTokenizedString):\n",
    "        pretok.split(self.clang_split)\n",
    "        \n",
    "## Custom tokenizer\n",
    "\n",
    "from tokenizers import Tokenizer\n",
    "from tokenizers import normalizers,decoders\n",
    "from tokenizers.normalizers import StripAccents, unicode_normalizer_from_str, Replace\n",
    "from tokenizers.processors import TemplateProcessing\n",
    "from tokenizers import processors,pre_tokenizers\n",
    "from tokenizers.models import BPE\n",
    "\n",
    "## Load pre-trained tokenizers\n",
    "vocab, merges = BPE.read_file(vocab=\"./tokenizer/drapgh-vocab.json\", merges=\"./tokenizer/drapgh-merges.txt\")\n",
    "my_tokenizer = Tokenizer(BPE(vocab, merges, unk_token=\"<unk>\"))\n",
    "\n",
    "my_tokenizer.normalizer = normalizers.Sequence([StripAccents(), Replace(\" \", \"Ä\")])\n",
    "my_tokenizer.pre_tokenizer = PreTokenizer.custom(MyTokenizer())\n",
    "my_tokenizer.post_processor = processors.ByteLevel(trim_offsets=False)\n",
    "my_tokenizer.post_processor = TemplateProcessing(\n",
    "    single=\"<s> $A </s>\",\n",
    "    special_tokens=[\n",
    "    (\"<s>\",0),\n",
    "    (\"<pad>\",1),\n",
    "    (\"</s>\",2),\n",
    "    (\"<unk>\",3),\n",
    "    (\"<mask>\",4)\n",
    "    ]\n",
    ")\n"
   ]
  },
  {
   "cell_type": "markdown",
   "metadata": {
    "tags": []
   },
   "source": [
    "## Dataset"
   ]
  },
  {
   "cell_type": "code",
   "execution_count": 3,
   "metadata": {},
   "outputs": [],
   "source": [
    "my_tokenizer.enable_truncation(max_length=1024)\n",
    "my_tokenizer.enable_padding(direction='right', pad_id=1, pad_type_id=0, pad_token='<pad>', length=None, pad_to_multiple_of=None)\n",
    "\n",
    "def process_encodings(encodings):\n",
    "    input_ids=[]\n",
    "    attention_mask=[]\n",
    "    for enc in encodings:\n",
    "        input_ids.append(enc.ids)\n",
    "        attention_mask.append(enc.attention_mask)\n",
    "    return {'input_ids':input_ids, 'attention_mask':attention_mask}\n",
    "\n",
    "commit_patch_train_path = f'/root/autodl-tmp/output_dataset_{COMMIT_PATCH_PROCESSING_MODE}/{DATASET_NAME}/train.json'\n",
    "commit_patch_val_path = f'/root/autodl-tmp/output_dataset_{COMMIT_PATCH_PROCESSING_MODE}/{DATASET_NAME}/val.json'\n",
    "\n",
    "if ONLY_TEST:\n",
    "    m2 = pd.read_json(commit_patch_val_path)\n",
    "\n",
    "    val_encodings = my_tokenizer.encode_batch(m2.commit_patch)\n",
    "    val_encodings = process_encodings(val_encodings)\n",
    "else:\n",
    "    m1 = pd.read_json(commit_patch_train_path)\n",
    "    m2 = pd.read_json(commit_patch_val_path)\n",
    "\n",
    "    train_encodings = my_tokenizer.encode_batch(m1.commit_patch)\n",
    "    train_encodings = process_encodings(train_encodings)\n",
    "\n",
    "    val_encodings = my_tokenizer.encode_batch(m2.commit_patch)\n",
    "    val_encodings = process_encodings(val_encodings)\n",
    "\n",
    "class MyCustomDataset(Dataset):\n",
    "    def __init__(self, encodings, labels):\n",
    "        self.encodings = encodings\n",
    "        self.labels = labels\n",
    "        assert len(self.encodings['input_ids']) == len(self.encodings['attention_mask']) ==  len(self.labels)\n",
    "\n",
    "    def __getitem__(self, idx):\n",
    "        item = {key: torch.tensor(val[idx]) for key, val in self.encodings.items()}\n",
    "        item['labels'] = torch.tensor(self.labels[idx])\n",
    "        return item\n",
    "\n",
    "    def __len__(self):\n",
    "        return len(self.labels)\n",
    "\n",
    "if ONLY_TEST:\n",
    "    val_dataset = MyCustomDataset(val_encodings, m2.label.tolist())\n",
    "else:\n",
    "    train_dataset = MyCustomDataset(train_encodings, m1.label.tolist())\n",
    "    val_dataset = MyCustomDataset(val_encodings, m2.label.tolist())\n",
    "    train_labels = m1.label.tolist()\n"
   ]
  },
  {
   "cell_type": "markdown",
   "metadata": {},
   "source": [
    "## Train the model"
   ]
  },
  {
   "cell_type": "code",
   "execution_count": null,
   "metadata": {
    "tags": []
   },
   "outputs": [],
   "source": [
    "## Pre-trained RoBERTa\n",
    "pretrained_model_path = '/root/autodl-tmp/VulBERTa/'\n",
    "model = RobertaForSequenceClassification.from_pretrained(pretrained_model_path)\n",
    "print(model.num_parameters())\n",
    "\n",
    "try:\n",
    "    cw = sklearn.utils.class_weight.compute_class_weight(class_weight='balanced',classes=[0,1],y=m1.label.tolist())\n",
    "except:\n",
    "    cw = sklearn.utils.class_weight.compute_class_weight(class_weight='balanced',classes=[0,1],y=m1.target.tolist())\n",
    "    \n",
    "c_weights = torch.FloatTensor([cw[0], cw[1]])\n",
    "\n",
    "#criterion = torch.nn.CrossEntropyLoss() \n",
    "criterion = torch.nn.CrossEntropyLoss(weight=c_weights)\n",
    "criterion.to(device)\n",
    "\n",
    "class MyTrainer(Trainer):\n",
    "    def compute_loss(self, model, inputs, return_outputs=False):\n",
    "        labels = inputs.pop(\"labels\")\n",
    "        outputs = model(**inputs)\n",
    "        logits = outputs[\"logits\"]\n",
    "        #logits = outputs[0]        #### USE THIS IF CNN OR LSTM VURLBERTA\n",
    "        loss = criterion(logits,labels)\n",
    "        return (loss, outputs) if return_outputs else loss\n",
    "\n",
    "training_args = TrainingArguments(\n",
    "        output_dir=f\"/root/autodl-tmp/finetuned_models/VB_MLP_{DATASET_NAME}_preprocessMode{COMMIT_PATCH_PROCESSING_MODE}\",\n",
    "        overwrite_output_dir=False,\n",
    "        per_device_train_batch_size=4,\n",
    "        num_train_epochs=10,\n",
    "        evaluation_strategy='epoch',\n",
    "        save_total_limit=10,\n",
    "        seed=seed,\n",
    "        learning_rate=5e-06,\n",
    "        fp16=True,\n",
    "        report_to=None,\n",
    "        load_best_model_at_end =True\n",
    ")\n",
    "\n",
    "trainer = MyTrainer(\n",
    "        model=model,\n",
    "        args=training_args,\n",
    "        train_dataset=train_dataset,\n",
    "        eval_dataset=val_dataset \n",
    ")\n",
    "\n",
    "trainer.train()\n"
   ]
  },
  {
   "cell_type": "markdown",
   "metadata": {},
   "source": [
    "## Test the model"
   ]
  },
  {
   "cell_type": "code",
   "execution_count": 4,
   "metadata": {},
   "outputs": [
    {
     "name": "stdout",
     "output_type": "stream",
     "text": [
      "\n",
      "#######################################checkpoint-2227\n"
     ]
    },
    {
     "name": "stderr",
     "output_type": "stream",
     "text": [
      "100%|██████████| 24/24 [00:41<00:00,  1.75s/it]\n"
     ]
    },
    {
     "name": "stdout",
     "output_type": "stream",
     "text": [
      "Confusion matrix: \n",
      " [[ 735 1003]\n",
      " [ 247  984]]\n",
      "\n",
      "TP: 984\n",
      "FP: 1003\n",
      "TN: 735\n",
      "FN: 247\n",
      "\n",
      "Accuracy: 0.578982822499158\n",
      "Precision: 0.4952189229994967\n",
      "Recall: 0.7993501218521527\n",
      "F-measure: 0.6115599751398384\n",
      "Precision-Recall AUC: 0.5683275454474375\n",
      "AUC: 0.6624302750483997\n",
      "MCC: 0.23272391700218606\n",
      "\n",
      "#######################################checkpoint-4454\n"
     ]
    },
    {
     "name": "stderr",
     "output_type": "stream",
     "text": [
      "100%|██████████| 24/24 [00:42<00:00,  1.76s/it]\n"
     ]
    },
    {
     "name": "stdout",
     "output_type": "stream",
     "text": [
      "Confusion matrix: \n",
      " [[1195  543]\n",
      " [ 538  693]]\n",
      "\n",
      "TP: 693\n",
      "FP: 543\n",
      "TN: 1195\n",
      "FN: 538\n",
      "\n",
      "Accuracy: 0.6359043448972718\n",
      "Precision: 0.5606796116504854\n",
      "Recall: 0.5629569455727051\n",
      "F-measure: 0.5618159708147548\n",
      "Precision-Recall AUC: 0.5943364311707018\n",
      "AUC: 0.6806884669998943\n",
      "MCC: 0.25038203835236406\n",
      "\n",
      "#######################################checkpoint-6681\n"
     ]
    },
    {
     "name": "stderr",
     "output_type": "stream",
     "text": [
      "100%|██████████| 24/24 [00:42<00:00,  1.77s/it]\n"
     ]
    },
    {
     "name": "stdout",
     "output_type": "stream",
     "text": [
      "Confusion matrix: \n",
      " [[1271  467]\n",
      " [ 574  657]]\n",
      "\n",
      "TP: 657\n",
      "FP: 467\n",
      "TN: 1271\n",
      "FN: 574\n",
      "\n",
      "Accuracy: 0.6493768945772987\n",
      "Precision: 0.5845195729537367\n",
      "Recall: 0.5337124289195776\n",
      "F-measure: 0.5579617834394904\n",
      "Precision-Recall AUC: 0.6045395661112787\n",
      "AUC: 0.686588036894981\n",
      "MCC: 0.2691778871812298\n",
      "\n",
      "#######################################checkpoint-8908\n"
     ]
    },
    {
     "name": "stderr",
     "output_type": "stream",
     "text": [
      "100%|██████████| 24/24 [00:42<00:00,  1.77s/it]\n"
     ]
    },
    {
     "name": "stdout",
     "output_type": "stream",
     "text": [
      "Confusion matrix: \n",
      " [[915 823]\n",
      " [384 847]]\n",
      "\n",
      "TP: 847\n",
      "FP: 823\n",
      "TN: 915\n",
      "FN: 384\n",
      "\n",
      "Accuracy: 0.5934658134051869\n",
      "Precision: 0.5071856287425149\n",
      "Recall: 0.6880584890333062\n",
      "F-measure: 0.5839365735953119\n",
      "Precision-Recall AUC: 0.5897308034355702\n",
      "AUC: 0.6679942490644915\n",
      "MCC: 0.21304454295898012\n",
      "\n",
      "#######################################checkpoint-11135\n"
     ]
    },
    {
     "name": "stderr",
     "output_type": "stream",
     "text": [
      "100%|██████████| 24/24 [00:42<00:00,  1.79s/it]\n"
     ]
    },
    {
     "name": "stdout",
     "output_type": "stream",
     "text": [
      "Confusion matrix: \n",
      " [[939 799]\n",
      " [375 856]]\n",
      "\n",
      "TP: 856\n",
      "FP: 799\n",
      "TN: 939\n",
      "FN: 375\n",
      "\n",
      "Accuracy: 0.6045806668912092\n",
      "Precision: 0.5172205438066465\n",
      "Recall: 0.6953696181965882\n",
      "F-measure: 0.5932085932085932\n",
      "Precision-Recall AUC: 0.5823303255840101\n",
      "AUC: 0.6662742033337103\n",
      "MCC: 0.2337313299345745\n",
      "\n",
      "#######################################checkpoint-13362\n"
     ]
    },
    {
     "name": "stderr",
     "output_type": "stream",
     "text": [
      "100%|██████████| 24/24 [00:42<00:00,  1.78s/it]\n"
     ]
    },
    {
     "name": "stdout",
     "output_type": "stream",
     "text": [
      "Confusion matrix: \n",
      " [[1050  688]\n",
      " [ 444  787]]\n",
      "\n",
      "TP: 787\n",
      "FP: 688\n",
      "TN: 1050\n",
      "FN: 444\n",
      "\n",
      "Accuracy: 0.6187268440552375\n",
      "Precision: 0.5335593220338983\n",
      "Recall: 0.6393176279447603\n",
      "F-measure: 0.581670362158167\n",
      "Precision-Recall AUC: 0.5812318828790624\n",
      "AUC: 0.6685224152807367\n",
      "MCC: 0.23988925371523936\n",
      "\n",
      "#######################################checkpoint-15589\n"
     ]
    },
    {
     "name": "stderr",
     "output_type": "stream",
     "text": [
      "100%|██████████| 24/24 [00:42<00:00,  1.78s/it]\n"
     ]
    },
    {
     "name": "stdout",
     "output_type": "stream",
     "text": [
      "Confusion matrix: \n",
      " [[1077  661]\n",
      " [ 492  739]]\n",
      "\n",
      "TP: 739\n",
      "FP: 661\n",
      "TN: 1077\n",
      "FN: 492\n",
      "\n",
      "Accuracy: 0.6116537554732233\n",
      "Precision: 0.5278571428571428\n",
      "Recall: 0.6003249390739236\n",
      "F-measure: 0.5617635879893575\n",
      "Precision-Recall AUC: 0.5615746882294002\n",
      "AUC: 0.6507339640790885\n",
      "MCC: 0.21712333053127836\n",
      "\n",
      "#######################################checkpoint-17816\n"
     ]
    },
    {
     "name": "stderr",
     "output_type": "stream",
     "text": [
      "100%|██████████| 24/24 [00:42<00:00,  1.78s/it]\n"
     ]
    },
    {
     "name": "stdout",
     "output_type": "stream",
     "text": [
      "Confusion matrix: \n",
      " [[1170  568]\n",
      " [ 534  697]]\n",
      "\n",
      "TP: 697\n",
      "FP: 568\n",
      "TN: 1170\n",
      "FN: 534\n",
      "\n",
      "Accuracy: 0.6288312563152577\n",
      "Precision: 0.5509881422924902\n",
      "Recall: 0.5662063363119415\n",
      "F-measure: 0.5584935897435898\n",
      "Precision-Recall AUC: 0.5640056925224105\n",
      "AUC: 0.6531995187611184\n",
      "MCC: 0.23849921252834855\n",
      "\n",
      "#######################################checkpoint-20043\n"
     ]
    },
    {
     "name": "stderr",
     "output_type": "stream",
     "text": [
      "100%|██████████| 24/24 [00:42<00:00,  1.78s/it]\n"
     ]
    },
    {
     "name": "stdout",
     "output_type": "stream",
     "text": [
      "Confusion matrix: \n",
      " [[1180  558]\n",
      " [ 553  678]]\n",
      "\n",
      "TP: 678\n",
      "FP: 558\n",
      "TN: 1180\n",
      "FN: 553\n",
      "\n",
      "Accuracy: 0.6257999326372516\n",
      "Precision: 0.5485436893203883\n",
      "Recall: 0.5507717303005687\n",
      "F-measure: 0.5496554519659507\n",
      "Precision-Recall AUC: 0.5571581975144058\n",
      "AUC: 0.6496407067518338\n",
      "MCC: 0.2295784128404293\n",
      "\n",
      "#######################################checkpoint-22270\n"
     ]
    },
    {
     "name": "stderr",
     "output_type": "stream",
     "text": [
      "100%|██████████| 24/24 [00:42<00:00,  1.78s/it]"
     ]
    },
    {
     "name": "stdout",
     "output_type": "stream",
     "text": [
      "Confusion matrix: \n",
      " [[1040  698]\n",
      " [ 465  766]]\n",
      "\n",
      "TP: 766\n",
      "FP: 698\n",
      "TN: 1040\n",
      "FN: 465\n",
      "\n",
      "Accuracy: 0.6082856180532166\n",
      "Precision: 0.523224043715847\n",
      "Recall: 0.6222583265637693\n",
      "F-measure: 0.5684601113172543\n",
      "Precision-Recall AUC: 0.542392561153457\n",
      "AUC: 0.6429647792592399\n",
      "MCC: 0.21742711388257585\n"
     ]
    },
    {
     "name": "stderr",
     "output_type": "stream",
     "text": [
      "\n"
     ]
    }
   ],
   "source": [
    "check_point_files_list = ['checkpoint-2227', 'checkpoint-4454', 'checkpoint-6681', 'checkpoint-8908', 'checkpoint-11135',\n",
    "                          'checkpoint-13362', 'checkpoint-15589', 'checkpoint-17816', 'checkpoint-20043', 'checkpoint-22270']\n",
    "\n",
    "for check_point_file in check_point_files_list:\n",
    "    print(f'\\n#######################################{check_point_file}')\n",
    "\n",
    "    finetuned_model_path = f'/root/autodl-tmp/finetuned_models/VB_MLP_{DATASET_NAME}_preprocessMode{COMMIT_PATCH_PROCESSING_MODE}/{check_point_file}'\n",
    "    model = RobertaForSequenceClassification.from_pretrained(finetuned_model_path, local_files_only=True)\n",
    "\n",
    "    test_loader = DataLoader(val_dataset, batch_size=128)\n",
    "\n",
    "    def softmax_accuracy(probs,all_labels):\n",
    "        def getClass(x):\n",
    "            return(x.index(max(x)))\n",
    "\n",
    "        all_labels = all_labels.tolist()\n",
    "        probs = pd.Series(probs.tolist())\n",
    "        all_predicted = probs.apply(getClass)\n",
    "        all_predicted.reset_index(drop=True, inplace=True)\n",
    "        vc = pd.value_counts(all_predicted == all_labels)\n",
    "        try:\n",
    "            acc = vc[1]/len(all_labels)\n",
    "        except:\n",
    "            if(vc.index[0]==False):\n",
    "                acc = 0\n",
    "            else:\n",
    "                acc = 1\n",
    "        return(acc,all_predicted)\n",
    "\n",
    "    model.to(device)\n",
    "\n",
    "    all_pred=[]\n",
    "    all_labels=[]\n",
    "    all_probs=[]\n",
    "    model.eval()\n",
    "    with torch.no_grad():\n",
    "        for batch in tqdm(test_loader):\n",
    "            input_ids = batch['input_ids'].to(device)\n",
    "            attention_mask = batch['attention_mask'].to(device)\n",
    "            labels = batch['labels'].to(device)\n",
    "            outputs = model(input_ids, attention_mask=attention_mask, labels=labels)\n",
    "            loss = outputs[0]\n",
    "            acc_val,pred = softmax_accuracy(torch.nn.functional.softmax(outputs[1],dim=1),labels)\n",
    "            all_pred += pred.tolist()\n",
    "            all_labels += labels.tolist()\n",
    "            all_probs += outputs[1].tolist()\n",
    "\n",
    "    confusion = sklearn.metrics.confusion_matrix(y_true=all_labels, y_pred=all_pred)\n",
    "    print('Confusion matrix: \\n',confusion)\n",
    "\n",
    "    tn, fp, fn, tp = confusion.ravel()\n",
    "    print('\\nTP:',tp)\n",
    "    print('FP:',fp)\n",
    "    print('TN:',tn)\n",
    "    print('FN:',fn)\n",
    "\n",
    "    probs2=[]\n",
    "    for x in all_probs:\n",
    "        probs2.append(x[1])\n",
    "\n",
    "    ## Performance measure\n",
    "    print('\\nAccuracy: '+ str(sklearn.metrics.accuracy_score(y_true=all_labels, y_pred=all_pred)))\n",
    "    print('Precision: '+ str(sklearn.metrics.precision_score(y_true=all_labels, y_pred=all_pred)))\n",
    "    print('Recall: '+ str(sklearn.metrics.recall_score(y_true=all_labels, y_pred=all_pred)))\n",
    "    print('F-measure: '+ str(sklearn.metrics.f1_score(y_true=all_labels, y_pred=all_pred)))\n",
    "    print('Precision-Recall AUC: '+ str(sklearn.metrics.average_precision_score(y_true=all_labels, y_score=probs2)))\n",
    "    print('AUC: '+ str(sklearn.metrics.roc_auc_score(y_true=all_labels, y_score=probs2)))\n",
    "    print('MCC: '+ str(sklearn.metrics.matthews_corrcoef(y_true=all_labels, y_pred=all_pred)))\n",
    "\n"
   ]
  },
  {
   "cell_type": "code",
   "execution_count": null,
   "metadata": {},
   "outputs": [],
   "source": []
  }
 ],
 "metadata": {
  "kernelspec": {
   "display_name": "Python 3 (ipykernel)",
   "language": "python",
   "name": "python3"
  },
  "language_info": {
   "codemirror_mode": {
    "name": "ipython",
    "version": 3
   },
   "file_extension": ".py",
   "mimetype": "text/x-python",
   "name": "python",
   "nbconvert_exporter": "python",
   "pygments_lexer": "ipython3",
   "version": "3.8.10"
  }
 },
 "nbformat": 4,
 "nbformat_minor": 4
}
